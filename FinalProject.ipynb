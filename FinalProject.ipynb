{
 "cells": [
  {
   "cell_type": "markdown",
   "id": "10ba8dc9-66f0-4c0b-a2cc-3562cb09745d",
   "metadata": {},
   "source": [
    "<span style=\"font-size: 36px;\"><strong>Đồ án cuối kỳ: Global Cost of Living</strong></span>"
   ]
  },
  {
   "cell_type": "markdown",
   "id": "ee36d84a-03fb-4f99-b989-690674de1433",
   "metadata": {
    "jp-MarkdownHeadingCollapsed": true
   },
   "source": [
    "# <strong>A. Thu thập dữ liệu</strong>"
   ]
  },
  {
   "cell_type": "markdown",
   "id": "e2ca5242-1aee-44e8-9b77-9b9d61eaec90",
   "metadata": {},
   "source": [
    "### 1. Chủ đề và nguồn thu thập dữ liệu"
   ]
  },
  {
   "cell_type": "markdown",
   "id": "82eb666c-e407-4450-adce-6770c03ba5de",
   "metadata": {},
   "source": [
    "### 2. License và Copyright"
   ]
  },
  {
   "cell_type": "markdown",
   "id": "dd9ee88a-3864-4c7d-a500-d95845f7cd7a",
   "metadata": {},
   "source": [
    "### 3. Cách tác giả thu thập dữ liệu"
   ]
  },
  {
   "cell_type": "markdown",
   "id": "2312a619-b642-4752-a489-9a01aaaa7592",
   "metadata": {},
   "source": [
    "# <strong>B. Khám phá và tiền xử lý dữ liệu</strong>"
   ]
  },
  {
   "cell_type": "markdown",
   "id": "133efda3-f2cc-4713-b9d4-3ce84f2abb9f",
   "metadata": {},
   "source": [
    "#### Các thư viện cần thiết"
   ]
  },
  {
   "cell_type": "code",
   "execution_count": 49,
   "id": "6d665d33-0ded-46a8-9af7-406a3a36bbf9",
   "metadata": {},
   "outputs": [],
   "source": [
    "import pandas as pd\n",
    "import numpy as np\n",
    "import matplotlib.pyplot as plt\n",
    "import seaborn as sns\n",
    "import plotly.express as px\n",
    "\n",
    "\n",
    "pd.set_option('display.max_columns', None) "
   ]
  },
  {
   "cell_type": "code",
   "execution_count": 67,
   "id": "a5d65497-e7cf-4c90-ab54-4a2d25af9d4a",
   "metadata": {},
   "outputs": [],
   "source": [
    "# pip install ydata-profiling\n",
    "# import ydata_profiling\n",
    "\n",
    "# # Tạo báo cáo phân tích dữ liệu cho DataFrame df\n",
    "# profile = ydata_profiling.ProfileReport(df)\n",
    "\n",
    "# # Lưu báo cáo dưới dạng file HTML\n",
    "# profile.to_file(\"report.html\")"
   ]
  },
  {
   "cell_type": "markdown",
   "id": "53d201bf-128c-4ca5-a7c0-180f4ab9997d",
   "metadata": {
    "jp-MarkdownHeadingCollapsed": true
   },
   "source": [
    "#### Đọc dữ liệu"
   ]
  },
  {
   "cell_type": "code",
   "execution_count": 2,
   "id": "b61ab19d-25b3-46fe-97aa-f55ee2eef571",
   "metadata": {},
   "outputs": [
    {
     "data": {
      "text/html": [
       "<div>\n",
       "<style scoped>\n",
       "    .dataframe tbody tr th:only-of-type {\n",
       "        vertical-align: middle;\n",
       "    }\n",
       "\n",
       "    .dataframe tbody tr th {\n",
       "        vertical-align: top;\n",
       "    }\n",
       "\n",
       "    .dataframe thead th {\n",
       "        text-align: right;\n",
       "    }\n",
       "</style>\n",
       "<table border=\"1\" class=\"dataframe\">\n",
       "  <thead>\n",
       "    <tr style=\"text-align: right;\">\n",
       "      <th></th>\n",
       "      <th>city</th>\n",
       "      <th>country</th>\n",
       "      <th>x1</th>\n",
       "      <th>x2</th>\n",
       "      <th>x3</th>\n",
       "      <th>x4</th>\n",
       "      <th>x5</th>\n",
       "      <th>x6</th>\n",
       "      <th>x7</th>\n",
       "      <th>x8</th>\n",
       "      <th>x9</th>\n",
       "      <th>x10</th>\n",
       "      <th>x11</th>\n",
       "      <th>x12</th>\n",
       "      <th>x13</th>\n",
       "      <th>x14</th>\n",
       "      <th>x15</th>\n",
       "      <th>x16</th>\n",
       "      <th>x17</th>\n",
       "      <th>x18</th>\n",
       "      <th>x19</th>\n",
       "      <th>x20</th>\n",
       "      <th>x21</th>\n",
       "      <th>x22</th>\n",
       "      <th>x23</th>\n",
       "      <th>x24</th>\n",
       "      <th>x25</th>\n",
       "      <th>x26</th>\n",
       "      <th>x27</th>\n",
       "      <th>x28</th>\n",
       "      <th>x29</th>\n",
       "      <th>x30</th>\n",
       "      <th>x31</th>\n",
       "      <th>x32</th>\n",
       "      <th>x33</th>\n",
       "      <th>x34</th>\n",
       "      <th>x35</th>\n",
       "      <th>x36</th>\n",
       "      <th>x37</th>\n",
       "      <th>x38</th>\n",
       "      <th>x39</th>\n",
       "      <th>x40</th>\n",
       "      <th>x41</th>\n",
       "      <th>x42</th>\n",
       "      <th>x43</th>\n",
       "      <th>x44</th>\n",
       "      <th>x45</th>\n",
       "      <th>x46</th>\n",
       "      <th>x47</th>\n",
       "      <th>x48</th>\n",
       "      <th>x49</th>\n",
       "      <th>x50</th>\n",
       "      <th>x51</th>\n",
       "      <th>x52</th>\n",
       "      <th>x53</th>\n",
       "      <th>x54</th>\n",
       "      <th>x55</th>\n",
       "      <th>data_quality</th>\n",
       "    </tr>\n",
       "  </thead>\n",
       "  <tbody>\n",
       "    <tr>\n",
       "      <th>0</th>\n",
       "      <td>Seoul</td>\n",
       "      <td>South Korea</td>\n",
       "      <td>7.68</td>\n",
       "      <td>53.78</td>\n",
       "      <td>6.15</td>\n",
       "      <td>3.07</td>\n",
       "      <td>4.99</td>\n",
       "      <td>3.93</td>\n",
       "      <td>1.48</td>\n",
       "      <td>0.79</td>\n",
       "      <td>2.20</td>\n",
       "      <td>2.85</td>\n",
       "      <td>3.53</td>\n",
       "      <td>4.04</td>\n",
       "      <td>11.54</td>\n",
       "      <td>10.58</td>\n",
       "      <td>41.61</td>\n",
       "      <td>6.77</td>\n",
       "      <td>3.71</td>\n",
       "      <td>6.50</td>\n",
       "      <td>6.19</td>\n",
       "      <td>3.84</td>\n",
       "      <td>2.92</td>\n",
       "      <td>2.45</td>\n",
       "      <td>1.05</td>\n",
       "      <td>15.36</td>\n",
       "      <td>2.12</td>\n",
       "      <td>2.36</td>\n",
       "      <td>3.46</td>\n",
       "      <td>1.00</td>\n",
       "      <td>42.25</td>\n",
       "      <td>2.92</td>\n",
       "      <td>0.92</td>\n",
       "      <td>9.22</td>\n",
       "      <td>1.43</td>\n",
       "      <td>29192.75</td>\n",
       "      <td>27840.35</td>\n",
       "      <td>182.13</td>\n",
       "      <td>0.16</td>\n",
       "      <td>22.48</td>\n",
       "      <td>55.88</td>\n",
       "      <td>18.33</td>\n",
       "      <td>9.60</td>\n",
       "      <td>404.15</td>\n",
       "      <td>17902.55</td>\n",
       "      <td>58.26</td>\n",
       "      <td>46.36</td>\n",
       "      <td>70.81</td>\n",
       "      <td>110.36</td>\n",
       "      <td>742.54</td>\n",
       "      <td>557.52</td>\n",
       "      <td>2669.12</td>\n",
       "      <td>1731.08</td>\n",
       "      <td>22067.70</td>\n",
       "      <td>10971.90</td>\n",
       "      <td>2689.62</td>\n",
       "      <td>3.47</td>\n",
       "      <td>1</td>\n",
       "    </tr>\n",
       "    <tr>\n",
       "      <th>1</th>\n",
       "      <td>Shanghai</td>\n",
       "      <td>China</td>\n",
       "      <td>5.69</td>\n",
       "      <td>39.86</td>\n",
       "      <td>5.69</td>\n",
       "      <td>1.14</td>\n",
       "      <td>4.27</td>\n",
       "      <td>3.98</td>\n",
       "      <td>0.53</td>\n",
       "      <td>0.33</td>\n",
       "      <td>2.74</td>\n",
       "      <td>2.61</td>\n",
       "      <td>1.22</td>\n",
       "      <td>2.22</td>\n",
       "      <td>18.35</td>\n",
       "      <td>4.86</td>\n",
       "      <td>13.12</td>\n",
       "      <td>2.26</td>\n",
       "      <td>1.60</td>\n",
       "      <td>2.19</td>\n",
       "      <td>1.53</td>\n",
       "      <td>0.84</td>\n",
       "      <td>1.04</td>\n",
       "      <td>0.83</td>\n",
       "      <td>0.64</td>\n",
       "      <td>14.24</td>\n",
       "      <td>0.94</td>\n",
       "      <td>1.97</td>\n",
       "      <td>3.56</td>\n",
       "      <td>0.57</td>\n",
       "      <td>28.47</td>\n",
       "      <td>2.14</td>\n",
       "      <td>0.43</td>\n",
       "      <td>8.54</td>\n",
       "      <td>1.20</td>\n",
       "      <td>19929.68</td>\n",
       "      <td>20750.95</td>\n",
       "      <td>66.00</td>\n",
       "      <td>0.03</td>\n",
       "      <td>17.07</td>\n",
       "      <td>63.49</td>\n",
       "      <td>14.95</td>\n",
       "      <td>8.54</td>\n",
       "      <td>1382.62</td>\n",
       "      <td>26379.45</td>\n",
       "      <td>70.49</td>\n",
       "      <td>34.92</td>\n",
       "      <td>88.21</td>\n",
       "      <td>123.51</td>\n",
       "      <td>1091.93</td>\n",
       "      <td>569.88</td>\n",
       "      <td>2952.70</td>\n",
       "      <td>1561.59</td>\n",
       "      <td>17746.11</td>\n",
       "      <td>9416.35</td>\n",
       "      <td>1419.87</td>\n",
       "      <td>5.03</td>\n",
       "      <td>1</td>\n",
       "    </tr>\n",
       "    <tr>\n",
       "      <th>2</th>\n",
       "      <td>Guangzhou</td>\n",
       "      <td>China</td>\n",
       "      <td>4.13</td>\n",
       "      <td>28.47</td>\n",
       "      <td>4.98</td>\n",
       "      <td>0.85</td>\n",
       "      <td>1.71</td>\n",
       "      <td>3.54</td>\n",
       "      <td>0.44</td>\n",
       "      <td>0.33</td>\n",
       "      <td>1.91</td>\n",
       "      <td>1.63</td>\n",
       "      <td>1.03</td>\n",
       "      <td>1.71</td>\n",
       "      <td>9.00</td>\n",
       "      <td>3.77</td>\n",
       "      <td>11.75</td>\n",
       "      <td>2.02</td>\n",
       "      <td>1.44</td>\n",
       "      <td>1.82</td>\n",
       "      <td>1.31</td>\n",
       "      <td>0.74</td>\n",
       "      <td>1.00</td>\n",
       "      <td>0.49</td>\n",
       "      <td>0.51</td>\n",
       "      <td>11.39</td>\n",
       "      <td>0.95</td>\n",
       "      <td>2.26</td>\n",
       "      <td>3.70</td>\n",
       "      <td>0.36</td>\n",
       "      <td>28.47</td>\n",
       "      <td>1.71</td>\n",
       "      <td>0.37</td>\n",
       "      <td>6.26</td>\n",
       "      <td>1.19</td>\n",
       "      <td>21353.23</td>\n",
       "      <td>21381.70</td>\n",
       "      <td>59.65</td>\n",
       "      <td>0.02</td>\n",
       "      <td>16.66</td>\n",
       "      <td>34.17</td>\n",
       "      <td>18.98</td>\n",
       "      <td>8.54</td>\n",
       "      <td>555.18</td>\n",
       "      <td>24556.21</td>\n",
       "      <td>63.43</td>\n",
       "      <td>33.83</td>\n",
       "      <td>66.73</td>\n",
       "      <td>43.89</td>\n",
       "      <td>533.28</td>\n",
       "      <td>317.45</td>\n",
       "      <td>1242.24</td>\n",
       "      <td>688.05</td>\n",
       "      <td>12892.82</td>\n",
       "      <td>5427.45</td>\n",
       "      <td>1211.68</td>\n",
       "      <td>5.19</td>\n",
       "      <td>1</td>\n",
       "    </tr>\n",
       "    <tr>\n",
       "      <th>3</th>\n",
       "      <td>Mumbai</td>\n",
       "      <td>India</td>\n",
       "      <td>3.68</td>\n",
       "      <td>18.42</td>\n",
       "      <td>3.68</td>\n",
       "      <td>2.46</td>\n",
       "      <td>4.30</td>\n",
       "      <td>2.48</td>\n",
       "      <td>0.48</td>\n",
       "      <td>0.19</td>\n",
       "      <td>0.75</td>\n",
       "      <td>0.50</td>\n",
       "      <td>0.83</td>\n",
       "      <td>0.95</td>\n",
       "      <td>5.88</td>\n",
       "      <td>3.69</td>\n",
       "      <td>5.95</td>\n",
       "      <td>2.09</td>\n",
       "      <td>0.67</td>\n",
       "      <td>1.34</td>\n",
       "      <td>0.59</td>\n",
       "      <td>0.44</td>\n",
       "      <td>0.44</td>\n",
       "      <td>0.65</td>\n",
       "      <td>0.35</td>\n",
       "      <td>9.83</td>\n",
       "      <td>2.27</td>\n",
       "      <td>3.61</td>\n",
       "      <td>4.30</td>\n",
       "      <td>0.25</td>\n",
       "      <td>4.91</td>\n",
       "      <td>0.31</td>\n",
       "      <td>0.31</td>\n",
       "      <td>1.23</td>\n",
       "      <td>1.35</td>\n",
       "      <td>12281.76</td>\n",
       "      <td>22790.48</td>\n",
       "      <td>43.57</td>\n",
       "      <td>0.01</td>\n",
       "      <td>9.33</td>\n",
       "      <td>25.37</td>\n",
       "      <td>11.39</td>\n",
       "      <td>4.30</td>\n",
       "      <td>107.07</td>\n",
       "      <td>3682.67</td>\n",
       "      <td>32.77</td>\n",
       "      <td>27.75</td>\n",
       "      <td>49.87</td>\n",
       "      <td>41.17</td>\n",
       "      <td>522.40</td>\n",
       "      <td>294.05</td>\n",
       "      <td>1411.12</td>\n",
       "      <td>699.80</td>\n",
       "      <td>6092.45</td>\n",
       "      <td>2777.51</td>\n",
       "      <td>640.81</td>\n",
       "      <td>7.96</td>\n",
       "      <td>1</td>\n",
       "    </tr>\n",
       "    <tr>\n",
       "      <th>4</th>\n",
       "      <td>Delhi</td>\n",
       "      <td>India</td>\n",
       "      <td>4.91</td>\n",
       "      <td>22.11</td>\n",
       "      <td>4.30</td>\n",
       "      <td>1.84</td>\n",
       "      <td>3.68</td>\n",
       "      <td>1.77</td>\n",
       "      <td>0.49</td>\n",
       "      <td>0.19</td>\n",
       "      <td>0.73</td>\n",
       "      <td>0.50</td>\n",
       "      <td>0.85</td>\n",
       "      <td>1.02</td>\n",
       "      <td>4.36</td>\n",
       "      <td>3.81</td>\n",
       "      <td>5.71</td>\n",
       "      <td>1.79</td>\n",
       "      <td>0.75</td>\n",
       "      <td>1.03</td>\n",
       "      <td>0.61</td>\n",
       "      <td>0.37</td>\n",
       "      <td>0.41</td>\n",
       "      <td>0.70</td>\n",
       "      <td>0.36</td>\n",
       "      <td>9.83</td>\n",
       "      <td>1.54</td>\n",
       "      <td>2.49</td>\n",
       "      <td>4.30</td>\n",
       "      <td>0.49</td>\n",
       "      <td>11.67</td>\n",
       "      <td>0.61</td>\n",
       "      <td>0.22</td>\n",
       "      <td>1.23</td>\n",
       "      <td>1.24</td>\n",
       "      <td>12281.76</td>\n",
       "      <td>22940.65</td>\n",
       "      <td>58.07</td>\n",
       "      <td>0.01</td>\n",
       "      <td>7.95</td>\n",
       "      <td>21.20</td>\n",
       "      <td>8.60</td>\n",
       "      <td>4.91</td>\n",
       "      <td>74.00</td>\n",
       "      <td>1964.24</td>\n",
       "      <td>32.12</td>\n",
       "      <td>33.44</td>\n",
       "      <td>49.99</td>\n",
       "      <td>36.50</td>\n",
       "      <td>229.84</td>\n",
       "      <td>135.31</td>\n",
       "      <td>601.02</td>\n",
       "      <td>329.15</td>\n",
       "      <td>2506.73</td>\n",
       "      <td>1036.74</td>\n",
       "      <td>586.46</td>\n",
       "      <td>8.06</td>\n",
       "      <td>1</td>\n",
       "    </tr>\n",
       "  </tbody>\n",
       "</table>\n",
       "</div>"
      ],
      "text/plain": [
       "        city      country    x1     x2    x3    x4    x5    x6    x7    x8  \\\n",
       "0      Seoul  South Korea  7.68  53.78  6.15  3.07  4.99  3.93  1.48  0.79   \n",
       "1   Shanghai        China  5.69  39.86  5.69  1.14  4.27  3.98  0.53  0.33   \n",
       "2  Guangzhou        China  4.13  28.47  4.98  0.85  1.71  3.54  0.44  0.33   \n",
       "3     Mumbai        India  3.68  18.42  3.68  2.46  4.30  2.48  0.48  0.19   \n",
       "4      Delhi        India  4.91  22.11  4.30  1.84  3.68  1.77  0.49  0.19   \n",
       "\n",
       "     x9   x10   x11   x12    x13    x14    x15   x16   x17   x18   x19   x20  \\\n",
       "0  2.20  2.85  3.53  4.04  11.54  10.58  41.61  6.77  3.71  6.50  6.19  3.84   \n",
       "1  2.74  2.61  1.22  2.22  18.35   4.86  13.12  2.26  1.60  2.19  1.53  0.84   \n",
       "2  1.91  1.63  1.03  1.71   9.00   3.77  11.75  2.02  1.44  1.82  1.31  0.74   \n",
       "3  0.75  0.50  0.83  0.95   5.88   3.69   5.95  2.09  0.67  1.34  0.59  0.44   \n",
       "4  0.73  0.50  0.85  1.02   4.36   3.81   5.71  1.79  0.75  1.03  0.61  0.37   \n",
       "\n",
       "    x21   x22   x23    x24   x25   x26   x27   x28    x29   x30   x31   x32  \\\n",
       "0  2.92  2.45  1.05  15.36  2.12  2.36  3.46  1.00  42.25  2.92  0.92  9.22   \n",
       "1  1.04  0.83  0.64  14.24  0.94  1.97  3.56  0.57  28.47  2.14  0.43  8.54   \n",
       "2  1.00  0.49  0.51  11.39  0.95  2.26  3.70  0.36  28.47  1.71  0.37  6.26   \n",
       "3  0.44  0.65  0.35   9.83  2.27  3.61  4.30  0.25   4.91  0.31  0.31  1.23   \n",
       "4  0.41  0.70  0.36   9.83  1.54  2.49  4.30  0.49  11.67  0.61  0.22  1.23   \n",
       "\n",
       "    x33       x34       x35     x36   x37    x38    x39    x40   x41      x42  \\\n",
       "0  1.43  29192.75  27840.35  182.13  0.16  22.48  55.88  18.33  9.60   404.15   \n",
       "1  1.20  19929.68  20750.95   66.00  0.03  17.07  63.49  14.95  8.54  1382.62   \n",
       "2  1.19  21353.23  21381.70   59.65  0.02  16.66  34.17  18.98  8.54   555.18   \n",
       "3  1.35  12281.76  22790.48   43.57  0.01   9.33  25.37  11.39  4.30   107.07   \n",
       "4  1.24  12281.76  22940.65   58.07  0.01   7.95  21.20   8.60  4.91    74.00   \n",
       "\n",
       "        x43    x44    x45    x46     x47      x48     x49      x50      x51  \\\n",
       "0  17902.55  58.26  46.36  70.81  110.36   742.54  557.52  2669.12  1731.08   \n",
       "1  26379.45  70.49  34.92  88.21  123.51  1091.93  569.88  2952.70  1561.59   \n",
       "2  24556.21  63.43  33.83  66.73   43.89   533.28  317.45  1242.24   688.05   \n",
       "3   3682.67  32.77  27.75  49.87   41.17   522.40  294.05  1411.12   699.80   \n",
       "4   1964.24  32.12  33.44  49.99   36.50   229.84  135.31   601.02   329.15   \n",
       "\n",
       "        x52       x53      x54   x55  data_quality  \n",
       "0  22067.70  10971.90  2689.62  3.47             1  \n",
       "1  17746.11   9416.35  1419.87  5.03             1  \n",
       "2  12892.82   5427.45  1211.68  5.19             1  \n",
       "3   6092.45   2777.51   640.81  7.96             1  \n",
       "4   2506.73   1036.74   586.46  8.06             1  "
      ]
     },
     "execution_count": 2,
     "metadata": {},
     "output_type": "execute_result"
    }
   ],
   "source": [
    "df = pd.read_csv('./data/cost-of-living_v2.csv')\n",
    "df.head()"
   ]
  },
  {
   "cell_type": "markdown",
   "id": "3d66f866-7fc0-436a-8a90-d7fcdbeaec19",
   "metadata": {
    "jp-MarkdownHeadingCollapsed": true
   },
   "source": [
    "#### Dữ liệu có bao nhiêu dòng và bao nhiêu cột?"
   ]
  },
  {
   "cell_type": "code",
   "execution_count": 3,
   "id": "3315046f-0eb4-4c77-affe-080a40f79b7d",
   "metadata": {},
   "outputs": [
    {
     "data": {
      "text/plain": [
       "(4956, 58)"
      ]
     },
     "execution_count": 3,
     "metadata": {},
     "output_type": "execute_result"
    }
   ],
   "source": [
    "df.shape"
   ]
  },
  {
   "cell_type": "markdown",
   "id": "38383d12-1f04-46b6-9ddd-1b53eac18ae5",
   "metadata": {},
   "source": [
    "**Nhận xét:** Dữ liệu từ `cost-of-living_v2.csv` có 4956 dòng và 58 cột."
   ]
  },
  {
   "cell_type": "markdown",
   "id": "12608d8a-f182-4855-97db-283351345f23",
   "metadata": {
    "jp-MarkdownHeadingCollapsed": true
   },
   "source": [
    "#### Ý nghĩa của mỗi dòng"
   ]
  },
  {
   "cell_type": "code",
   "execution_count": 4,
   "id": "e82235b7-746f-4c9c-a12c-edbea54e0a4e",
   "metadata": {},
   "outputs": [
    {
     "data": {
      "text/html": [
       "<div>\n",
       "<style scoped>\n",
       "    .dataframe tbody tr th:only-of-type {\n",
       "        vertical-align: middle;\n",
       "    }\n",
       "\n",
       "    .dataframe tbody tr th {\n",
       "        vertical-align: top;\n",
       "    }\n",
       "\n",
       "    .dataframe thead th {\n",
       "        text-align: right;\n",
       "    }\n",
       "</style>\n",
       "<table border=\"1\" class=\"dataframe\">\n",
       "  <thead>\n",
       "    <tr style=\"text-align: right;\">\n",
       "      <th></th>\n",
       "      <th>city</th>\n",
       "      <th>country</th>\n",
       "      <th>x1</th>\n",
       "      <th>x2</th>\n",
       "      <th>x3</th>\n",
       "      <th>x4</th>\n",
       "      <th>x5</th>\n",
       "      <th>x6</th>\n",
       "      <th>x7</th>\n",
       "      <th>x8</th>\n",
       "      <th>x9</th>\n",
       "      <th>x10</th>\n",
       "      <th>x11</th>\n",
       "      <th>x12</th>\n",
       "      <th>x13</th>\n",
       "      <th>x14</th>\n",
       "      <th>x15</th>\n",
       "      <th>x16</th>\n",
       "      <th>x17</th>\n",
       "      <th>x18</th>\n",
       "      <th>x19</th>\n",
       "      <th>x20</th>\n",
       "      <th>x21</th>\n",
       "      <th>x22</th>\n",
       "      <th>x23</th>\n",
       "      <th>x24</th>\n",
       "      <th>x25</th>\n",
       "      <th>x26</th>\n",
       "      <th>x27</th>\n",
       "      <th>x28</th>\n",
       "      <th>x29</th>\n",
       "      <th>x30</th>\n",
       "      <th>x31</th>\n",
       "      <th>x32</th>\n",
       "      <th>x33</th>\n",
       "      <th>x34</th>\n",
       "      <th>x35</th>\n",
       "      <th>x36</th>\n",
       "      <th>x37</th>\n",
       "      <th>x38</th>\n",
       "      <th>x39</th>\n",
       "      <th>x40</th>\n",
       "      <th>x41</th>\n",
       "      <th>x42</th>\n",
       "      <th>x43</th>\n",
       "      <th>x44</th>\n",
       "      <th>x45</th>\n",
       "      <th>x46</th>\n",
       "      <th>x47</th>\n",
       "      <th>x48</th>\n",
       "      <th>x49</th>\n",
       "      <th>x50</th>\n",
       "      <th>x51</th>\n",
       "      <th>x52</th>\n",
       "      <th>x53</th>\n",
       "      <th>x54</th>\n",
       "      <th>x55</th>\n",
       "      <th>data_quality</th>\n",
       "    </tr>\n",
       "  </thead>\n",
       "  <tbody>\n",
       "    <tr>\n",
       "      <th>1908</th>\n",
       "      <td>Zlatoust</td>\n",
       "      <td>Russia</td>\n",
       "      <td>NaN</td>\n",
       "      <td>NaN</td>\n",
       "      <td>NaN</td>\n",
       "      <td>NaN</td>\n",
       "      <td>NaN</td>\n",
       "      <td>NaN</td>\n",
       "      <td>NaN</td>\n",
       "      <td>0.4</td>\n",
       "      <td>0.72</td>\n",
       "      <td>NaN</td>\n",
       "      <td>NaN</td>\n",
       "      <td>1.82</td>\n",
       "      <td>NaN</td>\n",
       "      <td>NaN</td>\n",
       "      <td>NaN</td>\n",
       "      <td>NaN</td>\n",
       "      <td>NaN</td>\n",
       "      <td>NaN</td>\n",
       "      <td>NaN</td>\n",
       "      <td>NaN</td>\n",
       "      <td>NaN</td>\n",
       "      <td>NaN</td>\n",
       "      <td>0.4</td>\n",
       "      <td>NaN</td>\n",
       "      <td>NaN</td>\n",
       "      <td>NaN</td>\n",
       "      <td>NaN</td>\n",
       "      <td>NaN</td>\n",
       "      <td>NaN</td>\n",
       "      <td>NaN</td>\n",
       "      <td>NaN</td>\n",
       "      <td>NaN</td>\n",
       "      <td>0.8</td>\n",
       "      <td>NaN</td>\n",
       "      <td>NaN</td>\n",
       "      <td>NaN</td>\n",
       "      <td>NaN</td>\n",
       "      <td>5.6</td>\n",
       "      <td>NaN</td>\n",
       "      <td>NaN</td>\n",
       "      <td>NaN</td>\n",
       "      <td>NaN</td>\n",
       "      <td>NaN</td>\n",
       "      <td>NaN</td>\n",
       "      <td>NaN</td>\n",
       "      <td>NaN</td>\n",
       "      <td>NaN</td>\n",
       "      <td>NaN</td>\n",
       "      <td>NaN</td>\n",
       "      <td>NaN</td>\n",
       "      <td>NaN</td>\n",
       "      <td>NaN</td>\n",
       "      <td>NaN</td>\n",
       "      <td>NaN</td>\n",
       "      <td>12.0</td>\n",
       "      <td>0</td>\n",
       "    </tr>\n",
       "  </tbody>\n",
       "</table>\n",
       "</div>"
      ],
      "text/plain": [
       "          city country  x1  x2  x3  x4  x5  x6  x7   x8    x9  x10  x11   x12  \\\n",
       "1908  Zlatoust  Russia NaN NaN NaN NaN NaN NaN NaN  0.4  0.72  NaN  NaN  1.82   \n",
       "\n",
       "      x13  x14  x15  x16  x17  x18  x19  x20  x21  x22  x23  x24  x25  x26  \\\n",
       "1908  NaN  NaN  NaN  NaN  NaN  NaN  NaN  NaN  NaN  NaN  0.4  NaN  NaN  NaN   \n",
       "\n",
       "      x27  x28  x29  x30  x31  x32  x33  x34  x35  x36  x37  x38  x39  x40  \\\n",
       "1908  NaN  NaN  NaN  NaN  NaN  NaN  0.8  NaN  NaN  NaN  NaN  5.6  NaN  NaN   \n",
       "\n",
       "      x41  x42  x43  x44  x45  x46  x47  x48  x49  x50  x51  x52  x53  x54  \\\n",
       "1908  NaN  NaN  NaN  NaN  NaN  NaN  NaN  NaN  NaN  NaN  NaN  NaN  NaN  NaN   \n",
       "\n",
       "       x55  data_quality  \n",
       "1908  12.0             0  "
      ]
     },
     "execution_count": 4,
     "metadata": {},
     "output_type": "execute_result"
    }
   ],
   "source": [
    "df.sample(1)"
   ]
  },
  {
   "cell_type": "markdown",
   "id": "60b3d89a-77ac-4a73-b28e-172eb5455644",
   "metadata": {},
   "source": [
    "**Nhận xét:** Mỗi dòng dữ liệu cho biết các chỉ số chi phí sinh hoạt (đơn vị: USD) tại một thành phố cụ thể trên thế giới. "
   ]
  },
  {
   "cell_type": "markdown",
   "id": "e143cb9b-f226-4847-9ac6-c210d7426264",
   "metadata": {
    "jp-MarkdownHeadingCollapsed": true
   },
   "source": [
    "#### Có dòng nào bị trùng không?"
   ]
  },
  {
   "cell_type": "code",
   "execution_count": 5,
   "id": "70fc6bfb-88a5-48a5-95ce-76d380752dd4",
   "metadata": {},
   "outputs": [
    {
     "name": "stdout",
     "output_type": "stream",
     "text": [
      "0\n",
      "0\n"
     ]
    }
   ],
   "source": [
    "print(df.duplicated().sum())\n",
    "print(df[['city', 'country']].duplicated().sum())"
   ]
  },
  {
   "cell_type": "markdown",
   "id": "925a8c3f-4d26-4568-bf7c-188a81e35d41",
   "metadata": {},
   "source": [
    "**Nhận xét:** Không có dòng dữ liệu nào bị trùng cũng như không có nhiều hơn 01 số liệu cho 01 thành phố ở cùng 01 quốc gia, vì thế không cần thao tác xóa các dòng trùng. "
   ]
  },
  {
   "cell_type": "markdown",
   "id": "8ef22662-f454-443b-bad3-8ab1636708c2",
   "metadata": {},
   "source": [
    "#### Ý nghĩa của từng cột"
   ]
  },
  {
   "cell_type": "markdown",
   "id": "943c56d2-b425-4fdf-8727-63bc55ce895c",
   "metadata": {},
   "source": [
    "<div style=\"overflow-x: auto; max-height: 250px; overflow-y: scroll;\">\n",
    "\n",
    "| **Column**   | **Description**                                                                                | **Chú thích (Tiếng Việt)**                                                  |\n",
    "|--------------|------------------------------------------------------------------------------------------------|-----------------------------------------------------------------------------|\n",
    "| `city`       | Name of the city                                                                               | Tên thành phố                                                              |\n",
    "| `country`    | Name of the country                                                                            | Tên quốc gia                                                               |\n",
    "| `x1`         | Meal, Inexpensive Restaurant (USD)                                                             | Bữa ăn tại nhà hàng giá rẻ (USD)                                           |\n",
    "| `x2`         | Meal for 2 People, Mid-range Restaurant, Three-course (USD)                                    | Bữa ăn 3 món cho 2 người tại nhà hàng tầm trung (USD)                      |\n",
    "| `x3`         | McMeal at McDonalds (or Equivalent Combo Meal) (USD)                                           | Bữa ăn tại McDonald's (hoặc tương đương, USD)                              |\n",
    "| `x4`         | Domestic Beer (0.5 liter draught, in restaurants) (USD)                                        | Bia nội địa (0.5 lít, tại nhà hàng, USD)                                   |\n",
    "| `x5`         | Imported Beer (0.33 liter bottle, in restaurants) (USD)                                        | Bia nhập khẩu (0.33 lít, tại nhà hàng, USD)                                |\n",
    "| `x6`         | Cappuccino (regular, in restaurants) (USD)                                                     | Cà phê Cappuccino (loại thường, tại nhà hàng, USD)                         |\n",
    "| `x7`         | Coke/Pepsi (0.33 liter bottle, in restaurants) (USD)                                           | Coke/Pepsi (chai 0.33 lít, tại nhà hàng, USD)                              |\n",
    "| `x8`         | Water (0.33 liter bottle, in restaurants) (USD)                                                | Nước suối (chai 0.33 lít, tại nhà hàng, USD)                               |\n",
    "| `x9`         | Milk (regular), (1 liter) (USD)                                                                | Sữa (loại thường, 1 lít, USD)                                              |\n",
    "| `x10`        | Loaf of Fresh White Bread (500g) (USD)                                                         | Ổ bánh mì trắng tươi (500g, USD)                                           |\n",
    "| `x11`        | Rice (white), (1kg) (USD)                                                                      | Gạo trắng (1kg, USD)                                                       |\n",
    "| `x12`        | Eggs (regular) (12) (USD)                                                                      | Trứng (loại thường, 12 quả, USD)                                           |\n",
    "| `x13`        | Local Cheese (1kg) (USD)                                                                       | Phô mai nội địa (1kg, USD)                                                 |\n",
    "| `x14`        | Chicken Fillets (1kg) (USD)                                                                    | Phi lê gà (1kg, USD)                                                       |\n",
    "| `x15`        | Beef Round (1kg) (or Equivalent Back Leg Red Meat) (USD)                                       | Thịt bò tròn (1kg, hoặc thịt đỏ tương đương, USD)                          |\n",
    "| `x16`        | Apples (1kg) (USD)                                                                             | Táo (1kg, USD)                                                             |\n",
    "| `x17`        | Banana (1kg) (USD)                                                                             | Chuối (1kg, USD)                                                           |\n",
    "| `x18`        | Oranges (1kg) (USD)                                                                            | Cam (1kg, USD)                                                             |\n",
    "| `x19`        | Tomato (1kg) (USD)                                                                             | Cà chua (1kg, USD)                                                         |\n",
    "| `x20`        | Potato (1kg) (USD)                                                                             | Khoai tây (1kg, USD)                                                       |\n",
    "| `x21`        | Onion (1kg) (USD)                                                                              | Hành tây (1kg, USD)                                                        |\n",
    "| `x22`        | Lettuce (1 head) (USD)                                                                         | Rau xà lách (1 cây, USD)                                                   |\n",
    "| `x23`        | Water (1.5 liter bottle, at the market) (USD)                                                  | Nước suối (chai 1.5 lít, tại chợ, USD)                                     |\n",
    "| `x24`        | Bottle of Wine (Mid-Range, at the market) (USD)                                                | Rượu vang (loại trung bình, tại chợ, USD)                                  |\n",
    "| `x25`        | Domestic Beer (0.5 liter bottle, at the market) (USD)                                          | Bia nội địa (chai 0.5 lít, tại chợ, USD)                                   |\n",
    "| `x26`        | Imported Beer (0.33 liter bottle, at the market) (USD)                                         | Bia nhập khẩu (chai 0.33 lít, tại chợ, USD)                                |\n",
    "| `x27`        | Cigarettes 20 Pack (Marlboro) (USD)                                                            | Thuốc lá (20 điếu, Marlboro, USD)                                          |\n",
    "| `x28`        | One-way Ticket (Local Transport) (USD)                                                         | Vé một chiều (giao thông công cộng, USD)                                   |\n",
    "| `x29`        | Monthly Pass (Regular Price) (USD)                                                             | Vé tháng (giá thông thường, USD)                                           |\n",
    "| `x30`        | Taxi Start (Normal Tariff) (USD)                                                               | Cước taxi khởi điểm (giá thông thường, USD)                                |\n",
    "| `x31`        | Taxi 1km (Normal Tariff) (USD)                                                                 | Cước taxi mỗi km (giá thông thường, USD)                                   |\n",
    "| `x32`        | Taxi 1hour Waiting (Normal Tariff) (USD)                                                       | Phí chờ taxi 1 giờ (giá thông thường, USD)                                 |\n",
    "| `x33`        | Gasoline (1 liter) (USD)                                                                       | Xăng (1 lít, USD)                                                          |\n",
    "| `x34`        | Volkswagen Golf 1.4 90 KW Trendline (Or Equivalent New Car) (USD)                              | Xe Volkswagen Golf 1.4 90 KW Trendline (hoặc xe mới tương đương, USD)      |\n",
    "| `x35`        | Toyota Corolla Sedan 1.6l 97kW Comfort (Or Equivalent New Car) (USD)                           | Xe Toyota Corolla Sedan 1.6l 97kW Comfort (hoặc xe mới tương đương, USD)   |\n",
    "| `x36`        | Basic (Electricity, Heating, Cooling, Water, Garbage) for 85m2 Apartment (USD)                 | Chi phí cơ bản (điện, nước, sưởi, rác) cho căn hộ 85m² (USD)               |\n",
    "| `x37`        | 1 min. of Prepaid Mobile Tariff Local (No Discounts or Plans) (USD)                            | Phí điện thoại trả trước (1 phút, không ưu đãi, USD)                        |\n",
    "| `x38`        | Internet (60 Mbps or More, Unlimited Data, Cable/ADSL) (USD)                                   | Internet (60 Mbps trở lên, không giới hạn dữ liệu, USD)                     |\n",
    "| `x39`        | Fitness Club, Monthly Fee for 1 Adult (USD)                                                    | Phí tập gym hàng tháng (1 người, USD)                                      |\n",
    "| `x40`        | Tennis Court Rent (1 Hour on Weekend) (USD)                                                    | Phí thuê sân tennis (1 giờ cuối tuần, USD)                                 |\n",
    "| `x41`        | Cinema, International Release, 1 Seat (USD)                                                    | Vé xem phim (phim quốc tế, 1 ghế, USD)                                     |\n",
    "| `x42`        | Preschool (or Kindergarten), Full Day, Private, Monthly for 1 Child (USD)                      | Trường mẫu giáo (cả ngày, tư thục, hàng tháng, 1 trẻ, USD)                 |\n",
    "| `x43`        | International Primary School, Yearly for 1 Child (USD)                                         | Trường tiểu học quốc tế (học phí hàng năm, 1 trẻ, USD)                     |\n",
    "| `x44`        | 1 Pair of Jeans (Levis 501 Or Similar) (USD)                                                   | Quần jeans (Levis 501 hoặc tương đương, USD)                               |\n",
    "| `x45`        | 1 Summer Dress in a Chain Store (Zara, H&M, …) (USD)                                           | Váy hè (tại cửa hàng chuỗi như Zara, H&M, USD)                             |\n",
    "| `x46`        | 1 Pair of Nike Running Shoes (Mid-Range) (USD)                                                 | Giày chạy Nike (loại trung bình, USD)                                      |\n",
    "| `x47`        | 1 Pair of Men Leather Business Shoes (USD)                                                     | Giày da nam công sở (USD)                                                  |\n",
    "| `x48`        | Apartment (1 bedroom) in City Centre (USD)                                                     | Căn hộ 1 phòng ngủ ở trung tâm (USD)                                       |\n",
    "| `x49`        | Apartment (1 bedroom) Outside of Centre (USD)                                                  | Căn hộ 1 phòng ngủ ngoài trung tâm (USD)                                   |\n",
    "| `x50`        | Apartment (3 bedrooms) in City Centre (USD)                                                    | Căn hộ 3 phòng ngủ ở trung tâm (USD)                                       |\n",
    "| `x51`        | Apartment (3 bedrooms) Outside of Centre (USD)                                                 | Căn hộ 3 phòng ngủ ngoài trung tâm (USD)                                   |\n",
    "| `x52`        | Price per Square Meter to Buy Apartment in City Centre (USD)                                   | Giá mỗi m² để mua căn hộ ở trung tâm (USD)                                 |\n",
    "| `x53`        | Price per Square Meter to Buy Apartment Outside of Centre (USD)                                | Giá mỗi m² để mua căn hộ ngoài trung tâm (USD)                             |\n",
    "| `x54`        | Average Monthly Net Salary (After Tax) (USD)                                                   | Thu nhập ròng trung bình hàng tháng (sau thuế, USD)                        |\n",
    "| `x55`        | Mortgage Interest Rate in Percentages (%), Yearly, for 20 Years Fixed-Rate                     | Lãi suất thế chấp hàng năm (cố định 20 năm, %)                              |\n",
    "| `data_quality` | 0 if Numbeo considers that more contributors are needed to increase data quality, else 1      | Chất lượng dữ liệu (0: cần thêm đóng góp, 1: đủ tin cậy)                   |\n"
   ]
  },
  {
   "cell_type": "markdown",
   "id": "85021ec6-6ad4-456c-97b0-a260abe1bf04",
   "metadata": {
    "jp-MarkdownHeadingCollapsed": true
   },
   "source": [
    "#### Kiểu dữ liệu từng cột"
   ]
  },
  {
   "cell_type": "code",
   "execution_count": 6,
   "id": "587265fe-3414-48d2-8473-c6c90ee11914",
   "metadata": {},
   "outputs": [
    {
     "data": {
      "text/plain": [
       "Index(['city', 'country', 'x1', 'x2', 'x3', 'x4', 'x5', 'x6', 'x7', 'x8', 'x9',\n",
       "       'x10', 'x11', 'x12', 'x13', 'x14', 'x15', 'x16', 'x17', 'x18', 'x19',\n",
       "       'x20', 'x21', 'x22', 'x23', 'x24', 'x25', 'x26', 'x27', 'x28', 'x29',\n",
       "       'x30', 'x31', 'x32', 'x33', 'x34', 'x35', 'x36', 'x37', 'x38', 'x39',\n",
       "       'x40', 'x41', 'x42', 'x43', 'x44', 'x45', 'x46', 'x47', 'x48', 'x49',\n",
       "       'x50', 'x51', 'x52', 'x53', 'x54', 'x55', 'data_quality'],\n",
       "      dtype='object')"
      ]
     },
     "execution_count": 6,
     "metadata": {},
     "output_type": "execute_result"
    }
   ],
   "source": [
    "df.columns"
   ]
  },
  {
   "cell_type": "code",
   "execution_count": 7,
   "id": "87d814f3-e4a6-40e0-bf6e-cc1c9cdfcefc",
   "metadata": {
    "scrolled": true
   },
   "outputs": [
    {
     "data": {
      "text/plain": [
       "city             object\n",
       "country          object\n",
       "x1              float64\n",
       "x2              float64\n",
       "x3              float64\n",
       "x4              float64\n",
       "x5              float64\n",
       "x6              float64\n",
       "x7              float64\n",
       "x8              float64\n",
       "x9              float64\n",
       "x10             float64\n",
       "x11             float64\n",
       "x12             float64\n",
       "x13             float64\n",
       "x14             float64\n",
       "x15             float64\n",
       "x16             float64\n",
       "x17             float64\n",
       "x18             float64\n",
       "x19             float64\n",
       "x20             float64\n",
       "x21             float64\n",
       "x22             float64\n",
       "x23             float64\n",
       "x24             float64\n",
       "x25             float64\n",
       "x26             float64\n",
       "x27             float64\n",
       "x28             float64\n",
       "x29             float64\n",
       "x30             float64\n",
       "x31             float64\n",
       "x32             float64\n",
       "x33             float64\n",
       "x34             float64\n",
       "x35             float64\n",
       "x36             float64\n",
       "x37             float64\n",
       "x38             float64\n",
       "x39             float64\n",
       "x40             float64\n",
       "x41             float64\n",
       "x42             float64\n",
       "x43             float64\n",
       "x44             float64\n",
       "x45             float64\n",
       "x46             float64\n",
       "x47             float64\n",
       "x48             float64\n",
       "x49             float64\n",
       "x50             float64\n",
       "x51             float64\n",
       "x52             float64\n",
       "x53             float64\n",
       "x54             float64\n",
       "x55             float64\n",
       "data_quality      int64\n",
       "dtype: object"
      ]
     },
     "execution_count": 7,
     "metadata": {},
     "output_type": "execute_result"
    }
   ],
   "source": [
    "df.dtypes"
   ]
  },
  {
   "cell_type": "code",
   "execution_count": 8,
   "id": "d0bd40c0-d70d-4ace-a085-463d1b65942b",
   "metadata": {},
   "outputs": [
    {
     "data": {
      "text/html": [
       "<div>\n",
       "<style scoped>\n",
       "    .dataframe tbody tr th:only-of-type {\n",
       "        vertical-align: middle;\n",
       "    }\n",
       "\n",
       "    .dataframe tbody tr th {\n",
       "        vertical-align: top;\n",
       "    }\n",
       "\n",
       "    .dataframe thead th {\n",
       "        text-align: right;\n",
       "    }\n",
       "</style>\n",
       "<table border=\"1\" class=\"dataframe\">\n",
       "  <thead>\n",
       "    <tr style=\"text-align: right;\">\n",
       "      <th></th>\n",
       "      <th>city</th>\n",
       "      <th>country</th>\n",
       "    </tr>\n",
       "  </thead>\n",
       "  <tbody>\n",
       "    <tr>\n",
       "      <th>0</th>\n",
       "      <td>&lt;class 'str'&gt;</td>\n",
       "      <td>&lt;class 'str'&gt;</td>\n",
       "    </tr>\n",
       "  </tbody>\n",
       "</table>\n",
       "</div>"
      ],
      "text/plain": [
       "            city        country\n",
       "0  <class 'str'>  <class 'str'>"
      ]
     },
     "execution_count": 8,
     "metadata": {},
     "output_type": "execute_result"
    }
   ],
   "source": [
    "def open_object_dtype(s):\n",
    "    return s.apply(type).unique() \n",
    "object_cols = df.select_dtypes(include=['object'])\n",
    "object_col_dtypes = object_cols.apply(open_object_dtype)\n",
    "object_col_dtypes"
   ]
  },
  {
   "cell_type": "markdown",
   "id": "f43831d8-4331-4532-b195-4215225eacb5",
   "metadata": {},
   "source": [
    "**Nhận xét:** Dữ liệu bao gồm 55 cột float64, 2 cột kiểu string và 1 cột kiểu int64. Kiểu dữ liệu của các cột như dự kiến nên không cần xử lý thêm về việc xử lý kiểu dữ liệu cho các cột. "
   ]
  },
  {
   "cell_type": "markdown",
   "id": "ec4220da-bf2a-4382-b0ae-3cac250d0497",
   "metadata": {},
   "source": [
    "#### Tỷ lệ khuyết dữ liệu ở các cột"
   ]
  },
  {
   "cell_type": "code",
   "execution_count": 9,
   "id": "e94545f5-7ab6-4c86-a657-80affc7c685f",
   "metadata": {},
   "outputs": [
    {
     "data": {
      "text/html": [
       "<div>\n",
       "<style scoped>\n",
       "    .dataframe tbody tr th:only-of-type {\n",
       "        vertical-align: middle;\n",
       "    }\n",
       "\n",
       "    .dataframe tbody tr th {\n",
       "        vertical-align: top;\n",
       "    }\n",
       "\n",
       "    .dataframe thead th {\n",
       "        text-align: right;\n",
       "    }\n",
       "</style>\n",
       "<table border=\"1\" class=\"dataframe\">\n",
       "  <thead>\n",
       "    <tr style=\"text-align: right;\">\n",
       "      <th></th>\n",
       "      <th>city</th>\n",
       "      <th>country</th>\n",
       "    </tr>\n",
       "  </thead>\n",
       "  <tbody>\n",
       "    <tr>\n",
       "      <th>missing_ratio</th>\n",
       "      <td>0.0</td>\n",
       "      <td>0.0</td>\n",
       "    </tr>\n",
       "    <tr>\n",
       "      <th>num_values</th>\n",
       "      <td>4898</td>\n",
       "      <td>215</td>\n",
       "    </tr>\n",
       "    <tr>\n",
       "      <th>value_ratios</th>\n",
       "      <td>{'Victoria': 0.1, 'Salamanca': 0.1, 'Peterboro...</td>\n",
       "      <td>{'United States': 21.7, 'Italy': 3.8, 'India':...</td>\n",
       "    </tr>\n",
       "  </tbody>\n",
       "</table>\n",
       "</div>"
      ],
      "text/plain": [
       "                                                            city  \\\n",
       "missing_ratio                                                0.0   \n",
       "num_values                                                  4898   \n",
       "value_ratios   {'Victoria': 0.1, 'Salamanca': 0.1, 'Peterboro...   \n",
       "\n",
       "                                                         country  \n",
       "missing_ratio                                                0.0  \n",
       "num_values                                                   215  \n",
       "value_ratios   {'United States': 21.7, 'Italy': 3.8, 'India':...  "
      ]
     },
     "execution_count": 9,
     "metadata": {},
     "output_type": "execute_result"
    }
   ],
   "source": [
    "object_col = df.select_dtypes(include='object')\n",
    "\n",
    "def missing_ratio(s):\n",
    "    return (s.isna().mean() * 100).round(1)\n",
    "\n",
    "def num_values(s):\n",
    "    s = s.str.split(';')\n",
    "    s = s.explode()\n",
    "    return len(s.value_counts())\n",
    "\n",
    "def value_ratios(s):\n",
    "    s = s.str.split(';')\n",
    "    s = s.explode()\n",
    "    totalCount = (~s.isna()).sum()\n",
    "    return dict(list(((s.value_counts()/totalCount*100).round(1)).to_dict().items())) \n",
    "\n",
    "object_col = object_col.agg([missing_ratio, num_values, value_ratios])\n",
    "object_col"
   ]
  },
  {
   "cell_type": "markdown",
   "id": "420efa44-c39b-4e14-9773-a3061523913a",
   "metadata": {},
   "source": [
    "**Nhận xét:** Dữ liệu này phản ánh chi phí sinh hoạt của 4898 thành phố thuộc 215 quốc gia/vùng lãnh thổ trên toàn cầu. Đối với các cột kiểu `str` là cột `city` và cột `country` thì tỷ lệ khuyết dữ liệu (missing_ratio) là bằng 0.0"
   ]
  },
  {
   "cell_type": "code",
   "execution_count": 10,
   "id": "c1083c91-1a4c-41f8-a6a4-b6062813bd91",
   "metadata": {},
   "outputs": [
    {
     "data": {
      "text/html": [
       "<div>\n",
       "<style scoped>\n",
       "    .dataframe tbody tr th:only-of-type {\n",
       "        vertical-align: middle;\n",
       "    }\n",
       "\n",
       "    .dataframe tbody tr th {\n",
       "        vertical-align: top;\n",
       "    }\n",
       "\n",
       "    .dataframe thead th {\n",
       "        text-align: right;\n",
       "    }\n",
       "</style>\n",
       "<table border=\"1\" class=\"dataframe\">\n",
       "  <thead>\n",
       "    <tr style=\"text-align: right;\">\n",
       "      <th></th>\n",
       "      <th>x40</th>\n",
       "      <th>x53</th>\n",
       "      <th>x52</th>\n",
       "      <th>x29</th>\n",
       "      <th>x43</th>\n",
       "      <th>x51</th>\n",
       "      <th>x28</th>\n",
       "      <th>x50</th>\n",
       "      <th>x54</th>\n",
       "      <th>x49</th>\n",
       "      <th>x32</th>\n",
       "      <th>x39</th>\n",
       "      <th>x48</th>\n",
       "      <th>x37</th>\n",
       "      <th>x42</th>\n",
       "      <th>x34</th>\n",
       "      <th>x31</th>\n",
       "      <th>x55</th>\n",
       "      <th>x35</th>\n",
       "      <th>x30</th>\n",
       "      <th>x25</th>\n",
       "      <th>x26</th>\n",
       "      <th>x45</th>\n",
       "      <th>x33</th>\n",
       "      <th>x15</th>\n",
       "      <th>x14</th>\n",
       "      <th>x47</th>\n",
       "      <th>x12</th>\n",
       "      <th>x22</th>\n",
       "      <th>x46</th>\n",
       "      <th>x4</th>\n",
       "      <th>x27</th>\n",
       "      <th>x36</th>\n",
       "      <th>x44</th>\n",
       "      <th>x13</th>\n",
       "      <th>x41</th>\n",
       "      <th>x19</th>\n",
       "      <th>x24</th>\n",
       "      <th>x2</th>\n",
       "      <th>x7</th>\n",
       "      <th>x18</th>\n",
       "      <th>x5</th>\n",
       "      <th>x20</th>\n",
       "      <th>x21</th>\n",
       "      <th>x1</th>\n",
       "      <th>x10</th>\n",
       "      <th>x23</th>\n",
       "      <th>x17</th>\n",
       "      <th>x9</th>\n",
       "      <th>x16</th>\n",
       "      <th>x38</th>\n",
       "      <th>x6</th>\n",
       "      <th>x11</th>\n",
       "      <th>x3</th>\n",
       "      <th>x8</th>\n",
       "      <th>data_quality</th>\n",
       "    </tr>\n",
       "  </thead>\n",
       "  <tbody>\n",
       "    <tr>\n",
       "      <th>missing_percentage</th>\n",
       "      <td>48.4</td>\n",
       "      <td>46.5</td>\n",
       "      <td>44.9</td>\n",
       "      <td>43.7</td>\n",
       "      <td>33.9</td>\n",
       "      <td>30.5</td>\n",
       "      <td>30.4</td>\n",
       "      <td>29.9</td>\n",
       "      <td>28.9</td>\n",
       "      <td>28.9</td>\n",
       "      <td>28.2</td>\n",
       "      <td>27.7</td>\n",
       "      <td>27.5</td>\n",
       "      <td>24.2</td>\n",
       "      <td>22.8</td>\n",
       "      <td>21.3</td>\n",
       "      <td>20.6</td>\n",
       "      <td>20.3</td>\n",
       "      <td>20.1</td>\n",
       "      <td>17.6</td>\n",
       "      <td>14.5</td>\n",
       "      <td>13.2</td>\n",
       "      <td>12.4</td>\n",
       "      <td>11.9</td>\n",
       "      <td>11.4</td>\n",
       "      <td>11.3</td>\n",
       "      <td>11.2</td>\n",
       "      <td>10.2</td>\n",
       "      <td>10.1</td>\n",
       "      <td>10.1</td>\n",
       "      <td>10.0</td>\n",
       "      <td>9.9</td>\n",
       "      <td>9.8</td>\n",
       "      <td>9.7</td>\n",
       "      <td>9.6</td>\n",
       "      <td>9.6</td>\n",
       "      <td>9.5</td>\n",
       "      <td>9.3</td>\n",
       "      <td>9.1</td>\n",
       "      <td>9.0</td>\n",
       "      <td>8.9</td>\n",
       "      <td>8.9</td>\n",
       "      <td>8.8</td>\n",
       "      <td>8.7</td>\n",
       "      <td>8.6</td>\n",
       "      <td>8.3</td>\n",
       "      <td>7.8</td>\n",
       "      <td>7.7</td>\n",
       "      <td>7.6</td>\n",
       "      <td>7.5</td>\n",
       "      <td>7.0</td>\n",
       "      <td>6.9</td>\n",
       "      <td>6.9</td>\n",
       "      <td>6.7</td>\n",
       "      <td>6.4</td>\n",
       "      <td>0.0</td>\n",
       "    </tr>\n",
       "  </tbody>\n",
       "</table>\n",
       "</div>"
      ],
      "text/plain": [
       "                     x40   x53   x52   x29   x43   x51   x28   x50   x54  \\\n",
       "missing_percentage  48.4  46.5  44.9  43.7  33.9  30.5  30.4  29.9  28.9   \n",
       "\n",
       "                     x49   x32   x39   x48   x37   x42   x34   x31   x55  \\\n",
       "missing_percentage  28.9  28.2  27.7  27.5  24.2  22.8  21.3  20.6  20.3   \n",
       "\n",
       "                     x35   x30   x25   x26   x45   x33   x15   x14   x47  \\\n",
       "missing_percentage  20.1  17.6  14.5  13.2  12.4  11.9  11.4  11.3  11.2   \n",
       "\n",
       "                     x12   x22   x46    x4  x27  x36  x44  x13  x41  x19  x24  \\\n",
       "missing_percentage  10.2  10.1  10.1  10.0  9.9  9.8  9.7  9.6  9.6  9.5  9.3   \n",
       "\n",
       "                     x2   x7  x18   x5  x20  x21   x1  x10  x23  x17   x9  \\\n",
       "missing_percentage  9.1  9.0  8.9  8.9  8.8  8.7  8.6  8.3  7.8  7.7  7.6   \n",
       "\n",
       "                    x16  x38   x6  x11   x3   x8  data_quality  \n",
       "missing_percentage  7.5  7.0  6.9  6.9  6.7  6.4           0.0  "
      ]
     },
     "execution_count": 10,
     "metadata": {},
     "output_type": "execute_result"
    }
   ],
   "source": [
    "numeric_cols = df.select_dtypes(include='number')\n",
    "\n",
    "def missing_percentage(s):\n",
    "    return (s.isna().mean() * 100).round(1)\n",
    "\n",
    "missing_stats = numeric_cols.agg([missing_percentage]).T\n",
    "missing_stats.sort_values('missing_percentage', ascending=False).T"
   ]
  },
  {
   "cell_type": "markdown",
   "id": "1025ac49-aed5-484a-8ecc-e6aec5a5a69e",
   "metadata": {},
   "source": [
    "**Nhận xét:** Có tổng cộng 36 cột có tỷ lệ khuyết dữ liệu < 20%, 15 cột có tỷ lệ khuyết dữ liệu từ 20%-40% và 4 cột có tỷ lệ khuyết dữ liệu lớn hơn 40%. \n",
    "\n",
    "Để dữ liệu sạch hơn thì ta sẽ tiến hành một số bước tiền xử lý dữ liệu các cột này như sau: \n",
    "\n",
    "- Bước 1: **Xóa các cột có tỷ lệ khuyết dữ liệu > 40% và cột `data_quality`.** Không thể áp dụng các phương án refill dữ liệu thay thế phương án xóa cột dữ liệu vì các cột này có tỷ lệ khuyết dữ liệu cao nên khi tính ra giá trị thay thế có thể sai sót, xa rời thực tế hoặc làm lệch kết quả phân tích.\n",
    "- Bước 2: **Xóa các dòng có tỷ lệ khuyết dữ liệu > 50% số cột dữ liệu.** Theo đó, các thành phố mà khuyết dữ liệu nhiều, phải phụ thuộc vào việc refill thì nên bị loại bỏ để tránh làm lệch kết quả phân tích về thành phố đó. Tuy nhiên chỉ đánh dấu chứ chưa vội xóa vì có một số dữ liệu sẽ cần thiết khi tính giá trị trung bình refill cho các cột khác.\n",
    "- Bước cuối: **Refill các cột còn lại.** Trong bước này, chúng ta sẽ thực hiện việc refill các cột bằng **giá trị trung vị (median)** của cột tương ứng trong cùng một quốc gia, thay vì refill theo giá trị trung vị của toàn bộ cột đó. Phương pháp này giúp cải thiện độ chính xác của dữ liệu, đặc biệt đối với các quốc gia có thị trường đồng nhất, nơi chi phí sản phẩm trong các thành phố và khu vực thường không có sự chênh lệch lớn và phản ánh đúng mức giá thị trường. Việc refill này sẽ đảm bảo rằng dữ liệu phản ánh đúng thực tế chi phí sinh hoạt hơn trong mỗi quốc gia (Ngoài ra, sau khi refill thì không nên refill những nan còn lại bằng median/mean của toàn cột vì nan có thể hiểu là dịch vụ đó không khả dụng tại nước sở tại. Nếu refill thì sẽ sai ý nghĩa và thực tế rằng có thể không tồn tại dịch vụ đó tại quốc gia đang xét).\n",
    "\n",
    "<!--\n",
    "Code dùng để tính tỷ lệ outliers để cân nhắc xem nên refill bằng Mean hay Median\n",
    "```python\n",
    "def calculate_outlier_percentage(df):\n",
    "    # Kết quả lưu tỷ lệ giá trị cực đoan theo từng cột\n",
    "    outlier_stats = {}\n",
    "    \n",
    "    for column in df.select_dtypes(include='number').columns:  # Chỉ xét các cột số\n",
    "        # Tính các phần tư và khoảng IQR\n",
    "        Q1 = df[column].quantile(0.25)\n",
    "        Q3 = df[column].quantile(0.75)\n",
    "        IQR = Q3 - Q1\n",
    "        \n",
    "        # Giới hạn giá trị không phải outliers\n",
    "        lower_bound = Q1 - 1.5 * IQR\n",
    "        upper_bound = Q3 + 1.5 * IQR\n",
    "        \n",
    "        # Đếm số lượng outliers\n",
    "        outliers = ((df[column] < lower_bound) | (df[column] > upper_bound)).sum()\n",
    "        \n",
    "        # Tính tỷ lệ giá trị cực đoan\n",
    "        total_values = df[column].notna().sum()  # Bỏ qua giá trị NaN\n",
    "        outlier_percentage = (outliers / total_values) * 100 if total_values > 0 else 0\n",
    "        \n",
    "        # Lưu kết quả\n",
    "        outlier_stats[column] = outlier_percentage\n",
    "    \n",
    "    return pd.DataFrame.from_dict(outlier_stats, orient='index', columns=['Outlier Percentage'])\n",
    "\n",
    "# Áp dụng cho DataFrame của bạn\n",
    "outlier_stats_df = calculate_outlier_percentage(df_processed)\n",
    "print(outlier_stats_df)\n",
    "```\n",
    "\n",
    "Tính tỷ lệ outlier từng cột theo từng nước\n",
    "```python\n",
    "def calculate_outlier_percentage_grouped(df, group_col):\n",
    "    # Kết quả lưu tỷ lệ giá trị cực đoan theo từng nước\n",
    "    grouped_outlier_stats = {}\n",
    "\n",
    "    for group, group_df in df.groupby(group_col):  # Nhóm theo cột quốc gia\n",
    "        # Tính tỷ lệ outliers cho nhóm\n",
    "        outlier_stats = {}\n",
    "        for column in group_df.select_dtypes(include='number').columns:  # Chỉ xét các cột số\n",
    "            # Tính các phần tư và khoảng IQR\n",
    "            Q1 = group_df[column].quantile(0.25)\n",
    "            Q3 = group_df[column].quantile(0.75)\n",
    "            IQR = Q3 - Q1\n",
    "\n",
    "            # Giới hạn giá trị không phải outliers\n",
    "            lower_bound = Q1 - 1.5 * IQR\n",
    "            upper_bound = Q3 + 1.5 * IQR\n",
    "\n",
    "            # Đếm số lượng outliers\n",
    "            outliers = ((group_df[column] < lower_bound) | (group_df[column] > upper_bound)).sum()\n",
    "\n",
    "            # Tính tỷ lệ giá trị cực đoan\n",
    "            total_values = group_df[column].notna().sum()  # Bỏ qua giá trị NaN\n",
    "            outlier_percentage = (outliers / total_values) * 100 if total_values > 0 else 0\n",
    "\n",
    "            # Lưu kết quả\n",
    "            outlier_stats[column] = outlier_percentage\n",
    "\n",
    "        # Lưu vào dict chính\n",
    "        grouped_outlier_stats[group] = outlier_stats\n",
    "\n",
    "    # Chuyển kết quả thành DataFrame\n",
    "    return pd.DataFrame(grouped_outlier_stats).T\n",
    "\n",
    "# Áp dụng cho DataFrame của bạn\n",
    "grouped_outlier_stats_df = calculate_outlier_percentage_grouped(df, group_col='country')\n",
    "grouped_outlier_stats_df.T\n",
    "\n",
    "```\n",
    "-->\n",
    "\n",
    "<!--\n",
    "- Các cột ban đầu refill: bao gồm các cột còn lại `x1`, `x2`, `x3`, từ cột `x6` đến cột `x23`, `x33`, `x36`, `x37`, từ cột `x44` đến cột `x51`, `x54`, `x55`. \n",
    "- Bước 3: **Giữ nguyên không refill một số cột.** Một số cột sau sẽ không được refill vì một vài lý do như sau:\n",
    "    - **Chi phí rượu, bia và thuốc lá:** gồm các cột `x4`, `x5`, `x24`, `x25`, `x26`, `x27`. Những cột này liên quan đến chi phí rượu, bia và thuốc lá tại các nhà hàng và chợ. Tuy nhiên, tại một số quốc gia hoặc thành phố, đặc biệt là các quốc gia Hồi giáo, các mặt hàng này có thể bị cấm hoặc hạn chế. Việc refill giá trị cho các cột này có thể làm cho thông tin không chính xác, dẫn đến sự sai lệch trong phân tích chi phí sống.\n",
    "    - **Chi phí phương tiện công cộng và taxi:** gồm các cột: `x28`, `x29`, `x30`, `x31`, `x32`. Đây là các cột liên quan đến chi phí di chuyển bằng phương tiện công cộng và taxi. Tuy nhiên, các dịch vụ này có thể không có mặt hoặc ít phổ biến ở các vùng nông thôn hoặc những thành phố nhỏ. Việc refill các cột này có thể dẫn đến sự sai lệch lớn trong giá trị, vì chi phí di chuyển có thể thay đổi mạnh mẽ tùy thuộc vào mức độ phát triển của thành phố hoặc khu vực.\n",
    "    - **Chi phí mua ô tô:** gồm các cột: `x34`, `x35`. Các cột này liên quan đến chi phí mua ô tô tại các thành phố. Tuy nhiên, nhu cầu sở hữu ô tô và quy định về giao thông có thể rất khác nhau giữa các thành phố. Một số thành phố có quy định nghiêm ngặt về việc cấm ô tô trong khu vực trung tâm, trong khi các thành phố khác có nhu cầu sử dụng ô tô cao. Vì vậy, việc refill các cột này có thể không phản ánh chính xác chi phí thực tế tại các thành phố chưa có thông tin.\n",
    "    - **Chi phí Internet tốc độ cao:** gồm cột: `x38`. Đây là cột liên quan đến chi phí dịch vụ Internet tốc độ cao. Tại các thành phố kém phát triển hoặc các khu vực không có cơ sở hạ tầng mạnh mẽ, dịch vụ này có thể bị hạn chế hoặc có giá cao hơn so với mức giá trung bình. Việc refill có thể dẫn đến những con số không phản ánh đúng thực tế tại các khu vực có dịch vụ Internet hạn chế.\n",
    "    - **Chi phí dịch vụ giải trí và trường học:** gồm các cột: `x39`, `x40`, `x41`, `x42`, `x43`. Các cột này liên quan đến các dịch vụ giải trí (như thuê sân tennis, vé xem phim) và chi phí cho trường học quốc tế hoặc dân lập. Những dịch vụ này có thể rất xa xỉ và không phải lúc nào cũng có mặt ở các vùng đô thị kém phát triển. Việc refill các cột này có thể không phản ánh chính xác chi phí sinh hoạt tại những khu vực thiếu các dịch vụ này.\n",
    "    - **Chi phí mua nhà ở:** gồm các cột: `x52`, `x53`. Đây là các cột liên quan đến chi phí mua nhà ở tại khu vực trung tâm thành phố và ngoại ô. Chi phí này có sự biến động rất lớn tùy thuộc vào từng thành phố. Việc refill giá trị cho các cột này có thể không đảm bảo khớp với thực tế, đặc biệt ở những thành phố chưa có đủ thông tin, khiến dữ liệu không chính xác.\n",
    "\n",
    "Code của Bước 3 (cũ): CHỉ định các cột sẽ refill (giới hạn các cột đặc trưng không refill)\n",
    "```python\n",
    "columns_to_refill = [\n",
    "    'x1', 'x2', 'x3', *['x' + str(i) for i in range(6, 24)], \n",
    "    'x33', 'x36', 'x37', *['x' + str(i) for i in range(44, 52)], \n",
    "    'x54', 'x55'\n",
    "]\n",
    "\n",
    "mean_values = df_processed.groupby('country')[columns_to_refill].transform('mean')\n",
    "df_processed[columns_to_refill] = df_processed[columns_to_refill].fillna(mean_values)\n",
    "\n",
    "-->"
   ]
  },
  {
   "cell_type": "code",
   "execution_count": 11,
   "id": "6a395408-0cd2-4e2c-a434-1f4ad4b6f81c",
   "metadata": {
    "scrolled": true
   },
   "outputs": [],
   "source": [
    "# Bước 1: Xóa các cột có tỷ lệ khuyết dữ liệu > 40% và cột data_quality\n",
    "df_processed = df.drop(columns=[col for col in missing_stats.index if missing_stats.loc[col, 'missing_percentage'] > 40])\n",
    "\n",
    "# Bước 2: Đánh dấu các dòng có tỷ lệ khuyết dữ liệu > 50% số cột dữ liệu.\n",
    "df_processed['to_drop'] = df_processed.isnull().mean(axis=1) > 0.5\n",
    "\n",
    "# Bước cuối: Refill các cột bằng giá trị trung vị (median) của cột tương ứng trong cùng một quốc gia\n",
    "numeric_cols = df_processed.select_dtypes(include=['number']).columns\n",
    "median_values = df_processed.groupby('country')[numeric_cols].transform('median')\n",
    "df_processed[numeric_cols] = df_processed[numeric_cols].fillna(median_values)\n",
    "\n",
    "# Xóa các dòng có tỷ lệ khuyết dữ liệu > 50% số cột dữ liệu, drop cột to_drop và cột data_quality\n",
    "df_processed = df_processed[df_processed['to_drop'] != True]\n",
    "df_processed = df_processed.drop(columns=['to_drop', 'data_quality'])"
   ]
  },
  {
   "cell_type": "markdown",
   "id": "cb79f550-bc9b-4692-8637-8513cfb33679",
   "metadata": {},
   "source": [
    "#### Số dòng, số cột, tên từng cột và tỷ lệ khuyết dữ liệu từng cột của dataset đã xử lý"
   ]
  },
  {
   "cell_type": "code",
   "execution_count": 12,
   "id": "9d79c83b-6123-40ce-94d3-c7c6b175fe41",
   "metadata": {},
   "outputs": [
    {
     "name": "stdout",
     "output_type": "stream",
     "text": [
      "(Số dòng, số cột) của `df_processed` = (4554, 53)\n",
      "\n",
      "Tên từng cột của `df_processed`:\n",
      " Index(['city', 'country', 'x1', 'x2', 'x3', 'x4', 'x5', 'x6', 'x7', 'x8', 'x9',\n",
      "       'x10', 'x11', 'x12', 'x13', 'x14', 'x15', 'x16', 'x17', 'x18', 'x19',\n",
      "       'x20', 'x21', 'x22', 'x23', 'x24', 'x25', 'x26', 'x27', 'x28', 'x30',\n",
      "       'x31', 'x32', 'x33', 'x34', 'x35', 'x36', 'x37', 'x38', 'x39', 'x41',\n",
      "       'x42', 'x43', 'x44', 'x45', 'x46', 'x47', 'x48', 'x49', 'x50', 'x51',\n",
      "       'x54', 'x55'],\n",
      "      dtype='object')\n",
      "\n",
      "Danh sách các cột đã được drop khỏi `df_processed`: {'x40', 'x53', 'data_quality', 'x52', 'x29'}\n",
      "Tỷ lệ các dòng bị drop: 8.111380145278446 %\n",
      "Tỷ lệ các cột bị drop: 8.62068965517241 %\n"
     ]
    }
   ],
   "source": [
    "print(f\"(Số dòng, số cột) của `df_processed` = {df_processed.shape}\\n\")\n",
    "print(f\"Tên từng cột của `df_processed`:\\n {df_processed.columns}\\n\")\n",
    "\n",
    "drop_columns = set(df.columns) - set(df_processed.columns)\n",
    "print(f\"Danh sách các cột đã được drop khỏi `df_processed`: {drop_columns}\")\n",
    "print(f\"Tỷ lệ các dòng bị drop: {(1 - df_processed.shape[0]/df.shape[0]) * 100} %\")\n",
    "print(f\"Tỷ lệ các cột bị drop: {(1 - df_processed.shape[1]/df.shape[1]) * 100} %\")"
   ]
  },
  {
   "cell_type": "code",
   "execution_count": 13,
   "id": "dc923921-9478-49ad-aa59-7d84294b314f",
   "metadata": {},
   "outputs": [
    {
     "data": {
      "text/html": [
       "<div>\n",
       "<style scoped>\n",
       "    .dataframe tbody tr th:only-of-type {\n",
       "        vertical-align: middle;\n",
       "    }\n",
       "\n",
       "    .dataframe tbody tr th {\n",
       "        vertical-align: top;\n",
       "    }\n",
       "\n",
       "    .dataframe thead th {\n",
       "        text-align: right;\n",
       "    }\n",
       "</style>\n",
       "<table border=\"1\" class=\"dataframe\">\n",
       "  <thead>\n",
       "    <tr style=\"text-align: right;\">\n",
       "      <th></th>\n",
       "      <th>x55</th>\n",
       "      <th>x43</th>\n",
       "      <th>x35</th>\n",
       "      <th>x31</th>\n",
       "      <th>x34</th>\n",
       "      <th>x42</th>\n",
       "      <th>x32</th>\n",
       "      <th>x30</th>\n",
       "      <th>x45</th>\n",
       "      <th>x46</th>\n",
       "      <th>x41</th>\n",
       "      <th>x44</th>\n",
       "      <th>x37</th>\n",
       "      <th>x47</th>\n",
       "      <th>x28</th>\n",
       "      <th>x22</th>\n",
       "      <th>x13</th>\n",
       "      <th>x27</th>\n",
       "      <th>x5</th>\n",
       "      <th>x3</th>\n",
       "      <th>x33</th>\n",
       "      <th>x21</th>\n",
       "      <th>x20</th>\n",
       "      <th>x23</th>\n",
       "      <th>x24</th>\n",
       "      <th>x25</th>\n",
       "      <th>x26</th>\n",
       "      <th>x36</th>\n",
       "      <th>x39</th>\n",
       "      <th>x18</th>\n",
       "      <th>x14</th>\n",
       "      <th>x19</th>\n",
       "      <th>x17</th>\n",
       "      <th>x15</th>\n",
       "      <th>x16</th>\n",
       "      <th>x51</th>\n",
       "      <th>x54</th>\n",
       "      <th>x38</th>\n",
       "      <th>x50</th>\n",
       "      <th>x12</th>\n",
       "      <th>x4</th>\n",
       "      <th>x10</th>\n",
       "      <th>x11</th>\n",
       "      <th>x1</th>\n",
       "      <th>x2</th>\n",
       "      <th>x6</th>\n",
       "      <th>x7</th>\n",
       "      <th>x8</th>\n",
       "      <th>x9</th>\n",
       "      <th>x49</th>\n",
       "      <th>x48</th>\n",
       "    </tr>\n",
       "  </thead>\n",
       "  <tbody>\n",
       "    <tr>\n",
       "      <th>missing_percentage</th>\n",
       "      <td>0.5</td>\n",
       "      <td>0.5</td>\n",
       "      <td>0.5</td>\n",
       "      <td>0.4</td>\n",
       "      <td>0.4</td>\n",
       "      <td>0.4</td>\n",
       "      <td>0.4</td>\n",
       "      <td>0.3</td>\n",
       "      <td>0.3</td>\n",
       "      <td>0.3</td>\n",
       "      <td>0.3</td>\n",
       "      <td>0.3</td>\n",
       "      <td>0.3</td>\n",
       "      <td>0.3</td>\n",
       "      <td>0.2</td>\n",
       "      <td>0.2</td>\n",
       "      <td>0.2</td>\n",
       "      <td>0.2</td>\n",
       "      <td>0.1</td>\n",
       "      <td>0.1</td>\n",
       "      <td>0.1</td>\n",
       "      <td>0.1</td>\n",
       "      <td>0.1</td>\n",
       "      <td>0.1</td>\n",
       "      <td>0.1</td>\n",
       "      <td>0.1</td>\n",
       "      <td>0.1</td>\n",
       "      <td>0.1</td>\n",
       "      <td>0.1</td>\n",
       "      <td>0.1</td>\n",
       "      <td>0.1</td>\n",
       "      <td>0.1</td>\n",
       "      <td>0.1</td>\n",
       "      <td>0.1</td>\n",
       "      <td>0.1</td>\n",
       "      <td>0.1</td>\n",
       "      <td>0.1</td>\n",
       "      <td>0.1</td>\n",
       "      <td>0.1</td>\n",
       "      <td>0.0</td>\n",
       "      <td>0.0</td>\n",
       "      <td>0.0</td>\n",
       "      <td>0.0</td>\n",
       "      <td>0.0</td>\n",
       "      <td>0.0</td>\n",
       "      <td>0.0</td>\n",
       "      <td>0.0</td>\n",
       "      <td>0.0</td>\n",
       "      <td>0.0</td>\n",
       "      <td>0.0</td>\n",
       "      <td>0.0</td>\n",
       "    </tr>\n",
       "  </tbody>\n",
       "</table>\n",
       "</div>"
      ],
      "text/plain": [
       "                    x55  x43  x35  x31  x34  x42  x32  x30  x45  x46  x41  \\\n",
       "missing_percentage  0.5  0.5  0.5  0.4  0.4  0.4  0.4  0.3  0.3  0.3  0.3   \n",
       "\n",
       "                    x44  x37  x47  x28  x22  x13  x27   x5   x3  x33  x21  \\\n",
       "missing_percentage  0.3  0.3  0.3  0.2  0.2  0.2  0.2  0.1  0.1  0.1  0.1   \n",
       "\n",
       "                    x20  x23  x24  x25  x26  x36  x39  x18  x14  x19  x17  \\\n",
       "missing_percentage  0.1  0.1  0.1  0.1  0.1  0.1  0.1  0.1  0.1  0.1  0.1   \n",
       "\n",
       "                    x15  x16  x51  x54  x38  x50  x12   x4  x10  x11   x1  \\\n",
       "missing_percentage  0.1  0.1  0.1  0.1  0.1  0.1  0.0  0.0  0.0  0.0  0.0   \n",
       "\n",
       "                     x2   x6   x7   x8   x9  x49  x48  \n",
       "missing_percentage  0.0  0.0  0.0  0.0  0.0  0.0  0.0  "
      ]
     },
     "execution_count": 13,
     "metadata": {},
     "output_type": "execute_result"
    }
   ],
   "source": [
    "# Lọc các cột kiểu số (int, float) và tính tỷ lệ khuyết dữ liệu (missing_percentage) của tất cả các cột\n",
    "numeric_cols_df_processed = df_processed.select_dtypes(include='number')\n",
    "missing_stats_df_processed = numeric_cols_df_processed.agg([missing_percentage]).T\n",
    "missing_stats_df_processed\n",
    "missing_stats_df_processed.sort_values('missing_percentage', ascending=False).T\n",
    "\n",
    "# df_processed.describe().drop(index=['count', 'min', '25%', '75%', 'max'])"
   ]
  },
  {
   "cell_type": "markdown",
   "id": "43849f62-f3ee-42ee-b766-248cd9ea46e7",
   "metadata": {},
   "source": [
    "**Nhận xét:** `df_processed` chỉ còn 4554 dòng và 53 cột, giảm 8.111380145278446 % số dòng và 8.62068965517241 % số cột so với bộ dữ liệu gốc. Dữ liệu đã được làm sạch đáng kể, tất cả các cột đều có tỷ lệ khuyết thấp hơn 1%."
   ]
  },
  {
   "cell_type": "markdown",
   "id": "46d274fd-a3f3-4c95-ba9f-0a4a0397c438",
   "metadata": {},
   "source": [
    "#### Phân bổ dữ liệu"
   ]
  },
  {
   "cell_type": "code",
   "execution_count": 53,
   "id": "3a3828fc-a466-43c1-abf3-d67e158d3546",
   "metadata": {},
   "outputs": [
    {
     "data": {
      "application/vnd.plotly.v1+json": {
       "config": {
        "plotlyServerURL": "https://plot.ly"
       },
       "data": [
        {
         "alignmentgroup": "True",
         "bingroup": "x",
         "hovertemplate": "log2(Số thành phố)=%{x}<br>count=%{y}<extra></extra>",
         "legendgroup": "",
         "marker": {
          "color": "#636efa",
          "opacity": 1,
          "pattern": {
           "shape": ""
          }
         },
         "name": "",
         "nbinsx": 50,
         "offsetgroup": "",
         "orientation": "v",
         "showlegend": false,
         "type": "histogram",
         "x": [
          0,
          0,
          0,
          0,
          0,
          0,
          0,
          0,
          0,
          0,
          0,
          0,
          0,
          0,
          0,
          0,
          0,
          0,
          0,
          0,
          0,
          0,
          0,
          0,
          0,
          0,
          0,
          0,
          0,
          0,
          0,
          0,
          0,
          0,
          0,
          0,
          0,
          0,
          0,
          0,
          0,
          0,
          0,
          0,
          0,
          0,
          0,
          0,
          0,
          0,
          0,
          0,
          0,
          0,
          0,
          0,
          0,
          1,
          1,
          1,
          1,
          1,
          1,
          1,
          1,
          1,
          1,
          1,
          1,
          1,
          1,
          1,
          1,
          1,
          1,
          1,
          1.5849625007211563,
          1.5849625007211563,
          1.5849625007211563,
          1.5849625007211563,
          1.5849625007211563,
          1.5849625007211563,
          1.5849625007211563,
          1.5849625007211563,
          1.5849625007211563,
          1.5849625007211563,
          1.5849625007211563,
          1.5849625007211563,
          1.5849625007211563,
          1.5849625007211563,
          1.5849625007211563,
          2,
          2,
          2,
          2,
          2,
          2,
          2,
          2.321928094887362,
          2.321928094887362,
          2.321928094887362,
          2.321928094887362,
          2.321928094887362,
          2.321928094887362,
          2.321928094887362,
          2.321928094887362,
          2.321928094887362,
          2.321928094887362,
          2.321928094887362,
          2.584962500721156,
          2.584962500721156,
          2.584962500721156,
          2.584962500721156,
          2.584962500721156,
          2.584962500721156,
          2.807354922057604,
          2.807354922057604,
          3,
          3,
          3,
          3,
          3,
          3,
          3.1699250014423126,
          3.1699250014423126,
          3.3219280948873626,
          3.3219280948873626,
          3.3219280948873626,
          3.3219280948873626,
          3.3219280948873626,
          3.3219280948873626,
          3.3219280948873626,
          3.4594316186372978,
          3.4594316186372978,
          3.4594316186372978,
          3.5849625007211565,
          3.5849625007211565,
          3.5849625007211565,
          3.5849625007211565,
          3.5849625007211565,
          3.5849625007211565,
          3.5849625007211565,
          3.700439718141092,
          3.700439718141092,
          3.700439718141092,
          3.8073549220576037,
          3.8073549220576037,
          3.9068905956085187,
          3.9068905956085187,
          4,
          4,
          4.08746284125034,
          4.169925001442312,
          4.247927513443585,
          4.247927513443585,
          4.321928094887363,
          4.321928094887363,
          4.392317422778761,
          4.459431618637297,
          4.459431618637297,
          4.459431618637297,
          4.523561956057013,
          4.584962500721157,
          4.643856189774724,
          4.643856189774724,
          4.643856189774724,
          4.700439718141093,
          4.754887502163469,
          4.754887502163469,
          4.754887502163469,
          4.807354922057604,
          4.857980995127573,
          4.906890595608519,
          5,
          5,
          5.044394119358453,
          5.044394119358453,
          5.044394119358453,
          5.044394119358453,
          5.08746284125034,
          5.08746284125034,
          5.129283016944966,
          5.129283016944966,
          5.169925001442312,
          5.20945336562895,
          5.20945336562895,
          5.285402218862249,
          5.321928094887363,
          5.321928094887363,
          5.392317422778761,
          5.672425341971496,
          5.700439718141093,
          5.700439718141093,
          5.7279204545632,
          5.930737337562887,
          5.977279923499917,
          6.149747119504682,
          6.209453365628951,
          6.375039431346925,
          6.409390936137703,
          6.554588851677638,
          6.584962500721156,
          6.832890014164742,
          6.930737337562887,
          7.098032082960527,
          7.219168520462162,
          7.257387842692652,
          7.303780748177103,
          7.348728154231078,
          9.887220615468385
         ],
         "xaxis": "x",
         "yaxis": "y"
        }
       ],
       "layout": {
        "autosize": true,
        "bargap": 0.1,
        "barmode": "relative",
        "legend": {
         "tracegroupgap": 0
        },
        "template": {
         "data": {
          "bar": [
           {
            "error_x": {
             "color": "#2a3f5f"
            },
            "error_y": {
             "color": "#2a3f5f"
            },
            "marker": {
             "line": {
              "color": "white",
              "width": 0.5
             },
             "pattern": {
              "fillmode": "overlay",
              "size": 10,
              "solidity": 0.2
             }
            },
            "type": "bar"
           }
          ],
          "barpolar": [
           {
            "marker": {
             "line": {
              "color": "white",
              "width": 0.5
             },
             "pattern": {
              "fillmode": "overlay",
              "size": 10,
              "solidity": 0.2
             }
            },
            "type": "barpolar"
           }
          ],
          "carpet": [
           {
            "aaxis": {
             "endlinecolor": "#2a3f5f",
             "gridcolor": "#C8D4E3",
             "linecolor": "#C8D4E3",
             "minorgridcolor": "#C8D4E3",
             "startlinecolor": "#2a3f5f"
            },
            "baxis": {
             "endlinecolor": "#2a3f5f",
             "gridcolor": "#C8D4E3",
             "linecolor": "#C8D4E3",
             "minorgridcolor": "#C8D4E3",
             "startlinecolor": "#2a3f5f"
            },
            "type": "carpet"
           }
          ],
          "choropleth": [
           {
            "colorbar": {
             "outlinewidth": 0,
             "ticks": ""
            },
            "type": "choropleth"
           }
          ],
          "contour": [
           {
            "colorbar": {
             "outlinewidth": 0,
             "ticks": ""
            },
            "colorscale": [
             [
              0,
              "#0d0887"
             ],
             [
              0.1111111111111111,
              "#46039f"
             ],
             [
              0.2222222222222222,
              "#7201a8"
             ],
             [
              0.3333333333333333,
              "#9c179e"
             ],
             [
              0.4444444444444444,
              "#bd3786"
             ],
             [
              0.5555555555555556,
              "#d8576b"
             ],
             [
              0.6666666666666666,
              "#ed7953"
             ],
             [
              0.7777777777777778,
              "#fb9f3a"
             ],
             [
              0.8888888888888888,
              "#fdca26"
             ],
             [
              1,
              "#f0f921"
             ]
            ],
            "type": "contour"
           }
          ],
          "contourcarpet": [
           {
            "colorbar": {
             "outlinewidth": 0,
             "ticks": ""
            },
            "type": "contourcarpet"
           }
          ],
          "heatmap": [
           {
            "colorbar": {
             "outlinewidth": 0,
             "ticks": ""
            },
            "colorscale": [
             [
              0,
              "#0d0887"
             ],
             [
              0.1111111111111111,
              "#46039f"
             ],
             [
              0.2222222222222222,
              "#7201a8"
             ],
             [
              0.3333333333333333,
              "#9c179e"
             ],
             [
              0.4444444444444444,
              "#bd3786"
             ],
             [
              0.5555555555555556,
              "#d8576b"
             ],
             [
              0.6666666666666666,
              "#ed7953"
             ],
             [
              0.7777777777777778,
              "#fb9f3a"
             ],
             [
              0.8888888888888888,
              "#fdca26"
             ],
             [
              1,
              "#f0f921"
             ]
            ],
            "type": "heatmap"
           }
          ],
          "heatmapgl": [
           {
            "colorbar": {
             "outlinewidth": 0,
             "ticks": ""
            },
            "colorscale": [
             [
              0,
              "#0d0887"
             ],
             [
              0.1111111111111111,
              "#46039f"
             ],
             [
              0.2222222222222222,
              "#7201a8"
             ],
             [
              0.3333333333333333,
              "#9c179e"
             ],
             [
              0.4444444444444444,
              "#bd3786"
             ],
             [
              0.5555555555555556,
              "#d8576b"
             ],
             [
              0.6666666666666666,
              "#ed7953"
             ],
             [
              0.7777777777777778,
              "#fb9f3a"
             ],
             [
              0.8888888888888888,
              "#fdca26"
             ],
             [
              1,
              "#f0f921"
             ]
            ],
            "type": "heatmapgl"
           }
          ],
          "histogram": [
           {
            "marker": {
             "pattern": {
              "fillmode": "overlay",
              "size": 10,
              "solidity": 0.2
             }
            },
            "type": "histogram"
           }
          ],
          "histogram2d": [
           {
            "colorbar": {
             "outlinewidth": 0,
             "ticks": ""
            },
            "colorscale": [
             [
              0,
              "#0d0887"
             ],
             [
              0.1111111111111111,
              "#46039f"
             ],
             [
              0.2222222222222222,
              "#7201a8"
             ],
             [
              0.3333333333333333,
              "#9c179e"
             ],
             [
              0.4444444444444444,
              "#bd3786"
             ],
             [
              0.5555555555555556,
              "#d8576b"
             ],
             [
              0.6666666666666666,
              "#ed7953"
             ],
             [
              0.7777777777777778,
              "#fb9f3a"
             ],
             [
              0.8888888888888888,
              "#fdca26"
             ],
             [
              1,
              "#f0f921"
             ]
            ],
            "type": "histogram2d"
           }
          ],
          "histogram2dcontour": [
           {
            "colorbar": {
             "outlinewidth": 0,
             "ticks": ""
            },
            "colorscale": [
             [
              0,
              "#0d0887"
             ],
             [
              0.1111111111111111,
              "#46039f"
             ],
             [
              0.2222222222222222,
              "#7201a8"
             ],
             [
              0.3333333333333333,
              "#9c179e"
             ],
             [
              0.4444444444444444,
              "#bd3786"
             ],
             [
              0.5555555555555556,
              "#d8576b"
             ],
             [
              0.6666666666666666,
              "#ed7953"
             ],
             [
              0.7777777777777778,
              "#fb9f3a"
             ],
             [
              0.8888888888888888,
              "#fdca26"
             ],
             [
              1,
              "#f0f921"
             ]
            ],
            "type": "histogram2dcontour"
           }
          ],
          "mesh3d": [
           {
            "colorbar": {
             "outlinewidth": 0,
             "ticks": ""
            },
            "type": "mesh3d"
           }
          ],
          "parcoords": [
           {
            "line": {
             "colorbar": {
              "outlinewidth": 0,
              "ticks": ""
             }
            },
            "type": "parcoords"
           }
          ],
          "pie": [
           {
            "automargin": true,
            "type": "pie"
           }
          ],
          "scatter": [
           {
            "fillpattern": {
             "fillmode": "overlay",
             "size": 10,
             "solidity": 0.2
            },
            "type": "scatter"
           }
          ],
          "scatter3d": [
           {
            "line": {
             "colorbar": {
              "outlinewidth": 0,
              "ticks": ""
             }
            },
            "marker": {
             "colorbar": {
              "outlinewidth": 0,
              "ticks": ""
             }
            },
            "type": "scatter3d"
           }
          ],
          "scattercarpet": [
           {
            "marker": {
             "colorbar": {
              "outlinewidth": 0,
              "ticks": ""
             }
            },
            "type": "scattercarpet"
           }
          ],
          "scattergeo": [
           {
            "marker": {
             "colorbar": {
              "outlinewidth": 0,
              "ticks": ""
             }
            },
            "type": "scattergeo"
           }
          ],
          "scattergl": [
           {
            "marker": {
             "colorbar": {
              "outlinewidth": 0,
              "ticks": ""
             }
            },
            "type": "scattergl"
           }
          ],
          "scattermapbox": [
           {
            "marker": {
             "colorbar": {
              "outlinewidth": 0,
              "ticks": ""
             }
            },
            "type": "scattermapbox"
           }
          ],
          "scatterpolar": [
           {
            "marker": {
             "colorbar": {
              "outlinewidth": 0,
              "ticks": ""
             }
            },
            "type": "scatterpolar"
           }
          ],
          "scatterpolargl": [
           {
            "marker": {
             "colorbar": {
              "outlinewidth": 0,
              "ticks": ""
             }
            },
            "type": "scatterpolargl"
           }
          ],
          "scatterternary": [
           {
            "marker": {
             "colorbar": {
              "outlinewidth": 0,
              "ticks": ""
             }
            },
            "type": "scatterternary"
           }
          ],
          "surface": [
           {
            "colorbar": {
             "outlinewidth": 0,
             "ticks": ""
            },
            "colorscale": [
             [
              0,
              "#0d0887"
             ],
             [
              0.1111111111111111,
              "#46039f"
             ],
             [
              0.2222222222222222,
              "#7201a8"
             ],
             [
              0.3333333333333333,
              "#9c179e"
             ],
             [
              0.4444444444444444,
              "#bd3786"
             ],
             [
              0.5555555555555556,
              "#d8576b"
             ],
             [
              0.6666666666666666,
              "#ed7953"
             ],
             [
              0.7777777777777778,
              "#fb9f3a"
             ],
             [
              0.8888888888888888,
              "#fdca26"
             ],
             [
              1,
              "#f0f921"
             ]
            ],
            "type": "surface"
           }
          ],
          "table": [
           {
            "cells": {
             "fill": {
              "color": "#EBF0F8"
             },
             "line": {
              "color": "white"
             }
            },
            "header": {
             "fill": {
              "color": "#C8D4E3"
             },
             "line": {
              "color": "white"
             }
            },
            "type": "table"
           }
          ]
         },
         "layout": {
          "annotationdefaults": {
           "arrowcolor": "#2a3f5f",
           "arrowhead": 0,
           "arrowwidth": 1
          },
          "autotypenumbers": "strict",
          "coloraxis": {
           "colorbar": {
            "outlinewidth": 0,
            "ticks": ""
           }
          },
          "colorscale": {
           "diverging": [
            [
             0,
             "#8e0152"
            ],
            [
             0.1,
             "#c51b7d"
            ],
            [
             0.2,
             "#de77ae"
            ],
            [
             0.3,
             "#f1b6da"
            ],
            [
             0.4,
             "#fde0ef"
            ],
            [
             0.5,
             "#f7f7f7"
            ],
            [
             0.6,
             "#e6f5d0"
            ],
            [
             0.7,
             "#b8e186"
            ],
            [
             0.8,
             "#7fbc41"
            ],
            [
             0.9,
             "#4d9221"
            ],
            [
             1,
             "#276419"
            ]
           ],
           "sequential": [
            [
             0,
             "#0d0887"
            ],
            [
             0.1111111111111111,
             "#46039f"
            ],
            [
             0.2222222222222222,
             "#7201a8"
            ],
            [
             0.3333333333333333,
             "#9c179e"
            ],
            [
             0.4444444444444444,
             "#bd3786"
            ],
            [
             0.5555555555555556,
             "#d8576b"
            ],
            [
             0.6666666666666666,
             "#ed7953"
            ],
            [
             0.7777777777777778,
             "#fb9f3a"
            ],
            [
             0.8888888888888888,
             "#fdca26"
            ],
            [
             1,
             "#f0f921"
            ]
           ],
           "sequentialminus": [
            [
             0,
             "#0d0887"
            ],
            [
             0.1111111111111111,
             "#46039f"
            ],
            [
             0.2222222222222222,
             "#7201a8"
            ],
            [
             0.3333333333333333,
             "#9c179e"
            ],
            [
             0.4444444444444444,
             "#bd3786"
            ],
            [
             0.5555555555555556,
             "#d8576b"
            ],
            [
             0.6666666666666666,
             "#ed7953"
            ],
            [
             0.7777777777777778,
             "#fb9f3a"
            ],
            [
             0.8888888888888888,
             "#fdca26"
            ],
            [
             1,
             "#f0f921"
            ]
           ]
          },
          "colorway": [
           "#636efa",
           "#EF553B",
           "#00cc96",
           "#ab63fa",
           "#FFA15A",
           "#19d3f3",
           "#FF6692",
           "#B6E880",
           "#FF97FF",
           "#FECB52"
          ],
          "font": {
           "color": "#2a3f5f"
          },
          "geo": {
           "bgcolor": "white",
           "lakecolor": "white",
           "landcolor": "white",
           "showlakes": true,
           "showland": true,
           "subunitcolor": "#C8D4E3"
          },
          "hoverlabel": {
           "align": "left"
          },
          "hovermode": "closest",
          "mapbox": {
           "style": "light"
          },
          "paper_bgcolor": "white",
          "plot_bgcolor": "white",
          "polar": {
           "angularaxis": {
            "gridcolor": "#EBF0F8",
            "linecolor": "#EBF0F8",
            "ticks": ""
           },
           "bgcolor": "white",
           "radialaxis": {
            "gridcolor": "#EBF0F8",
            "linecolor": "#EBF0F8",
            "ticks": ""
           }
          },
          "scene": {
           "xaxis": {
            "backgroundcolor": "white",
            "gridcolor": "#DFE8F3",
            "gridwidth": 2,
            "linecolor": "#EBF0F8",
            "showbackground": true,
            "ticks": "",
            "zerolinecolor": "#EBF0F8"
           },
           "yaxis": {
            "backgroundcolor": "white",
            "gridcolor": "#DFE8F3",
            "gridwidth": 2,
            "linecolor": "#EBF0F8",
            "showbackground": true,
            "ticks": "",
            "zerolinecolor": "#EBF0F8"
           },
           "zaxis": {
            "backgroundcolor": "white",
            "gridcolor": "#DFE8F3",
            "gridwidth": 2,
            "linecolor": "#EBF0F8",
            "showbackground": true,
            "ticks": "",
            "zerolinecolor": "#EBF0F8"
           }
          },
          "shapedefaults": {
           "line": {
            "color": "#2a3f5f"
           }
          },
          "ternary": {
           "aaxis": {
            "gridcolor": "#DFE8F3",
            "linecolor": "#A2B1C6",
            "ticks": ""
           },
           "baxis": {
            "gridcolor": "#DFE8F3",
            "linecolor": "#A2B1C6",
            "ticks": ""
           },
           "bgcolor": "white",
           "caxis": {
            "gridcolor": "#DFE8F3",
            "linecolor": "#A2B1C6",
            "ticks": ""
           }
          },
          "title": {
           "x": 0.05
          },
          "xaxis": {
           "automargin": true,
           "gridcolor": "#EBF0F8",
           "linecolor": "#EBF0F8",
           "ticks": "",
           "title": {
            "standoff": 15
           },
           "zerolinecolor": "#EBF0F8",
           "zerolinewidth": 2
          },
          "yaxis": {
           "automargin": true,
           "gridcolor": "#EBF0F8",
           "linecolor": "#EBF0F8",
           "ticks": "",
           "title": {
            "standoff": 15
           },
           "zerolinecolor": "#EBF0F8",
           "zerolinewidth": 2
          }
         }
        },
        "title": {
         "text": "Phân phối log-scale cơ số 2 của số thành phố theo quốc gia"
        },
        "xaxis": {
         "anchor": "y",
         "autorange": true,
         "domain": [
          0,
          1
         ],
         "range": [
          -0.09999999999999964,
          9.9
         ],
         "showspikes": false,
         "title": {
          "text": "log2(Số thành phố)"
         },
         "type": "linear"
        },
        "yaxis": {
         "anchor": "x",
         "autorange": true,
         "domain": [
          0,
          1
         ],
         "range": [
          0,
          60
         ],
         "showspikes": false,
         "title": {
          "text": "Số quốc gia"
         }
        }
       }
      },
      "image/png": "[encoded data removed]",
      "text/html": [
       "<div>                            <div id=\"1b963c13-f292-4ae1-a362-59b762d27911\" class=\"plotly-graph-div\" style=\"height:500px; width:100%;\"></div>            <script type=\"text/javascript\">                require([\"plotly\"], function(Plotly) {                    window.PLOTLYENV=window.PLOTLYENV || {};                                    if (document.getElementById(\"1b963c13-f292-4ae1-a362-59b762d27911\")) {                    Plotly.newPlot(                        \"1b963c13-f292-4ae1-a362-59b762d27911\",                        [{\"alignmentgroup\":\"True\",\"bingroup\":\"x\",\"hovertemplate\":\"log2(S\\u1ed1 th\\u00e0nh ph\\u1ed1)=%{x}\\u003cbr\\u003ecount=%{y}\\u003cextra\\u003e\\u003c\\u002fextra\\u003e\",\"legendgroup\":\"\",\"marker\":{\"color\":\"#636efa\",\"opacity\":1,\"pattern\":{\"shape\":\"\"}},\"name\":\"\",\"nbinsx\":50,\"offsetgroup\":\"\",\"orientation\":\"v\",\"showlegend\":false,\"x\":[0.0,0.0,0.0,0.0,0.0,0.0,0.0,0.0,0.0,0.0,0.0,0.0,0.0,0.0,0.0,0.0,0.0,0.0,0.0,0.0,0.0,0.0,0.0,0.0,0.0,0.0,0.0,0.0,0.0,0.0,0.0,0.0,0.0,0.0,0.0,0.0,0.0,0.0,0.0,0.0,0.0,0.0,0.0,0.0,0.0,0.0,0.0,0.0,0.0,0.0,0.0,0.0,0.0,0.0,0.0,0.0,0.0,1.0,1.0,1.0,1.0,1.0,1.0,1.0,1.0,1.0,1.0,1.0,1.0,1.0,1.0,1.0,1.0,1.0,1.0,1.0,1.5849625007211563,1.5849625007211563,1.5849625007211563,1.5849625007211563,1.5849625007211563,1.5849625007211563,1.5849625007211563,1.5849625007211563,1.5849625007211563,1.5849625007211563,1.5849625007211563,1.5849625007211563,1.5849625007211563,1.5849625007211563,1.5849625007211563,2.0,2.0,2.0,2.0,2.0,2.0,2.0,2.321928094887362,2.321928094887362,2.321928094887362,2.321928094887362,2.321928094887362,2.321928094887362,2.321928094887362,2.321928094887362,2.321928094887362,2.321928094887362,2.321928094887362,2.584962500721156,2.584962500721156,2.584962500721156,2.584962500721156,2.584962500721156,2.584962500721156,2.807354922057604,2.807354922057604,3.0,3.0,3.0,3.0,3.0,3.0,3.1699250014423126,3.1699250014423126,3.3219280948873626,3.3219280948873626,3.3219280948873626,3.3219280948873626,3.3219280948873626,3.3219280948873626,3.3219280948873626,3.4594316186372978,3.4594316186372978,3.4594316186372978,3.5849625007211565,3.5849625007211565,3.5849625007211565,3.5849625007211565,3.5849625007211565,3.5849625007211565,3.5849625007211565,3.700439718141092,3.700439718141092,3.700439718141092,3.8073549220576037,3.8073549220576037,3.9068905956085187,3.9068905956085187,4.0,4.0,4.08746284125034,4.169925001442312,4.247927513443585,4.247927513443585,4.321928094887363,4.321928094887363,4.392317422778761,4.459431618637297,4.459431618637297,4.459431618637297,4.523561956057013,4.584962500721157,4.643856189774724,4.643856189774724,4.643856189774724,4.700439718141093,4.754887502163469,4.754887502163469,4.754887502163469,4.807354922057604,4.857980995127573,4.906890595608519,5.0,5.0,5.044394119358453,5.044394119358453,5.044394119358453,5.044394119358453,5.08746284125034,5.08746284125034,5.129283016944966,5.129283016944966,5.169925001442312,5.20945336562895,5.20945336562895,5.285402218862249,5.321928094887363,5.321928094887363,5.392317422778761,5.672425341971496,5.700439718141093,5.700439718141093,5.7279204545632,5.930737337562887,5.977279923499917,6.149747119504682,6.209453365628951,6.375039431346925,6.409390936137703,6.554588851677638,6.584962500721156,6.832890014164742,6.930737337562887,7.098032082960527,7.219168520462162,7.257387842692652,7.303780748177103,7.348728154231078,9.887220615468385],\"xaxis\":\"x\",\"yaxis\":\"y\",\"type\":\"histogram\"}],                        {\"template\":{\"data\":{\"barpolar\":[{\"marker\":{\"line\":{\"color\":\"white\",\"width\":0.5},\"pattern\":{\"fillmode\":\"overlay\",\"size\":10,\"solidity\":0.2}},\"type\":\"barpolar\"}],\"bar\":[{\"error_x\":{\"color\":\"#2a3f5f\"},\"error_y\":{\"color\":\"#2a3f5f\"},\"marker\":{\"line\":{\"color\":\"white\",\"width\":0.5},\"pattern\":{\"fillmode\":\"overlay\",\"size\":10,\"solidity\":0.2}},\"type\":\"bar\"}],\"carpet\":[{\"aaxis\":{\"endlinecolor\":\"#2a3f5f\",\"gridcolor\":\"#C8D4E3\",\"linecolor\":\"#C8D4E3\",\"minorgridcolor\":\"#C8D4E3\",\"startlinecolor\":\"#2a3f5f\"},\"baxis\":{\"endlinecolor\":\"#2a3f5f\",\"gridcolor\":\"#C8D4E3\",\"linecolor\":\"#C8D4E3\",\"minorgridcolor\":\"#C8D4E3\",\"startlinecolor\":\"#2a3f5f\"},\"type\":\"carpet\"}],\"choropleth\":[{\"colorbar\":{\"outlinewidth\":0,\"ticks\":\"\"},\"type\":\"choropleth\"}],\"contourcarpet\":[{\"colorbar\":{\"outlinewidth\":0,\"ticks\":\"\"},\"type\":\"contourcarpet\"}],\"contour\":[{\"colorbar\":{\"outlinewidth\":0,\"ticks\":\"\"},\"colorscale\":[[0.0,\"#0d0887\"],[0.1111111111111111,\"#46039f\"],[0.2222222222222222,\"#7201a8\"],[0.3333333333333333,\"#9c179e\"],[0.4444444444444444,\"#bd3786\"],[0.5555555555555556,\"#d8576b\"],[0.6666666666666666,\"#ed7953\"],[0.7777777777777778,\"#fb9f3a\"],[0.8888888888888888,\"#fdca26\"],[1.0,\"#f0f921\"]],\"type\":\"contour\"}],\"heatmapgl\":[{\"colorbar\":{\"outlinewidth\":0,\"ticks\":\"\"},\"colorscale\":[[0.0,\"#0d0887\"],[0.1111111111111111,\"#46039f\"],[0.2222222222222222,\"#7201a8\"],[0.3333333333333333,\"#9c179e\"],[0.4444444444444444,\"#bd3786\"],[0.5555555555555556,\"#d8576b\"],[0.6666666666666666,\"#ed7953\"],[0.7777777777777778,\"#fb9f3a\"],[0.8888888888888888,\"#fdca26\"],[1.0,\"#f0f921\"]],\"type\":\"heatmapgl\"}],\"heatmap\":[{\"colorbar\":{\"outlinewidth\":0,\"ticks\":\"\"},\"colorscale\":[[0.0,\"#0d0887\"],[0.1111111111111111,\"#46039f\"],[0.2222222222222222,\"#7201a8\"],[0.3333333333333333,\"#9c179e\"],[0.4444444444444444,\"#bd3786\"],[0.5555555555555556,\"#d8576b\"],[0.6666666666666666,\"#ed7953\"],[0.7777777777777778,\"#fb9f3a\"],[0.8888888888888888,\"#fdca26\"],[1.0,\"#f0f921\"]],\"type\":\"heatmap\"}],\"histogram2dcontour\":[{\"colorbar\":{\"outlinewidth\":0,\"ticks\":\"\"},\"colorscale\":[[0.0,\"#0d0887\"],[0.1111111111111111,\"#46039f\"],[0.2222222222222222,\"#7201a8\"],[0.3333333333333333,\"#9c179e\"],[0.4444444444444444,\"#bd3786\"],[0.5555555555555556,\"#d8576b\"],[0.6666666666666666,\"#ed7953\"],[0.7777777777777778,\"#fb9f3a\"],[0.8888888888888888,\"#fdca26\"],[1.0,\"#f0f921\"]],\"type\":\"histogram2dcontour\"}],\"histogram2d\":[{\"colorbar\":{\"outlinewidth\":0,\"ticks\":\"\"},\"colorscale\":[[0.0,\"#0d0887\"],[0.1111111111111111,\"#46039f\"],[0.2222222222222222,\"#7201a8\"],[0.3333333333333333,\"#9c179e\"],[0.4444444444444444,\"#bd3786\"],[0.5555555555555556,\"#d8576b\"],[0.6666666666666666,\"#ed7953\"],[0.7777777777777778,\"#fb9f3a\"],[0.8888888888888888,\"#fdca26\"],[1.0,\"#f0f921\"]],\"type\":\"histogram2d\"}],\"histogram\":[{\"marker\":{\"pattern\":{\"fillmode\":\"overlay\",\"size\":10,\"solidity\":0.2}},\"type\":\"histogram\"}],\"mesh3d\":[{\"colorbar\":{\"outlinewidth\":0,\"ticks\":\"\"},\"type\":\"mesh3d\"}],\"parcoords\":[{\"line\":{\"colorbar\":{\"outlinewidth\":0,\"ticks\":\"\"}},\"type\":\"parcoords\"}],\"pie\":[{\"automargin\":true,\"type\":\"pie\"}],\"scatter3d\":[{\"line\":{\"colorbar\":{\"outlinewidth\":0,\"ticks\":\"\"}},\"marker\":{\"colorbar\":{\"outlinewidth\":0,\"ticks\":\"\"}},\"type\":\"scatter3d\"}],\"scattercarpet\":[{\"marker\":{\"colorbar\":{\"outlinewidth\":0,\"ticks\":\"\"}},\"type\":\"scattercarpet\"}],\"scattergeo\":[{\"marker\":{\"colorbar\":{\"outlinewidth\":0,\"ticks\":\"\"}},\"type\":\"scattergeo\"}],\"scattergl\":[{\"marker\":{\"colorbar\":{\"outlinewidth\":0,\"ticks\":\"\"}},\"type\":\"scattergl\"}],\"scattermapbox\":[{\"marker\":{\"colorbar\":{\"outlinewidth\":0,\"ticks\":\"\"}},\"type\":\"scattermapbox\"}],\"scatterpolargl\":[{\"marker\":{\"colorbar\":{\"outlinewidth\":0,\"ticks\":\"\"}},\"type\":\"scatterpolargl\"}],\"scatterpolar\":[{\"marker\":{\"colorbar\":{\"outlinewidth\":0,\"ticks\":\"\"}},\"type\":\"scatterpolar\"}],\"scatter\":[{\"fillpattern\":{\"fillmode\":\"overlay\",\"size\":10,\"solidity\":0.2},\"type\":\"scatter\"}],\"scatterternary\":[{\"marker\":{\"colorbar\":{\"outlinewidth\":0,\"ticks\":\"\"}},\"type\":\"scatterternary\"}],\"surface\":[{\"colorbar\":{\"outlinewidth\":0,\"ticks\":\"\"},\"colorscale\":[[0.0,\"#0d0887\"],[0.1111111111111111,\"#46039f\"],[0.2222222222222222,\"#7201a8\"],[0.3333333333333333,\"#9c179e\"],[0.4444444444444444,\"#bd3786\"],[0.5555555555555556,\"#d8576b\"],[0.6666666666666666,\"#ed7953\"],[0.7777777777777778,\"#fb9f3a\"],[0.8888888888888888,\"#fdca26\"],[1.0,\"#f0f921\"]],\"type\":\"surface\"}],\"table\":[{\"cells\":{\"fill\":{\"color\":\"#EBF0F8\"},\"line\":{\"color\":\"white\"}},\"header\":{\"fill\":{\"color\":\"#C8D4E3\"},\"line\":{\"color\":\"white\"}},\"type\":\"table\"}]},\"layout\":{\"annotationdefaults\":{\"arrowcolor\":\"#2a3f5f\",\"arrowhead\":0,\"arrowwidth\":1},\"autotypenumbers\":\"strict\",\"coloraxis\":{\"colorbar\":{\"outlinewidth\":0,\"ticks\":\"\"}},\"colorscale\":{\"diverging\":[[0,\"#8e0152\"],[0.1,\"#c51b7d\"],[0.2,\"#de77ae\"],[0.3,\"#f1b6da\"],[0.4,\"#fde0ef\"],[0.5,\"#f7f7f7\"],[0.6,\"#e6f5d0\"],[0.7,\"#b8e186\"],[0.8,\"#7fbc41\"],[0.9,\"#4d9221\"],[1,\"#276419\"]],\"sequential\":[[0.0,\"#0d0887\"],[0.1111111111111111,\"#46039f\"],[0.2222222222222222,\"#7201a8\"],[0.3333333333333333,\"#9c179e\"],[0.4444444444444444,\"#bd3786\"],[0.5555555555555556,\"#d8576b\"],[0.6666666666666666,\"#ed7953\"],[0.7777777777777778,\"#fb9f3a\"],[0.8888888888888888,\"#fdca26\"],[1.0,\"#f0f921\"]],\"sequentialminus\":[[0.0,\"#0d0887\"],[0.1111111111111111,\"#46039f\"],[0.2222222222222222,\"#7201a8\"],[0.3333333333333333,\"#9c179e\"],[0.4444444444444444,\"#bd3786\"],[0.5555555555555556,\"#d8576b\"],[0.6666666666666666,\"#ed7953\"],[0.7777777777777778,\"#fb9f3a\"],[0.8888888888888888,\"#fdca26\"],[1.0,\"#f0f921\"]]},\"colorway\":[\"#636efa\",\"#EF553B\",\"#00cc96\",\"#ab63fa\",\"#FFA15A\",\"#19d3f3\",\"#FF6692\",\"#B6E880\",\"#FF97FF\",\"#FECB52\"],\"font\":{\"color\":\"#2a3f5f\"},\"geo\":{\"bgcolor\":\"white\",\"lakecolor\":\"white\",\"landcolor\":\"white\",\"showlakes\":true,\"showland\":true,\"subunitcolor\":\"#C8D4E3\"},\"hoverlabel\":{\"align\":\"left\"},\"hovermode\":\"closest\",\"mapbox\":{\"style\":\"light\"},\"paper_bgcolor\":\"white\",\"plot_bgcolor\":\"white\",\"polar\":{\"angularaxis\":{\"gridcolor\":\"#EBF0F8\",\"linecolor\":\"#EBF0F8\",\"ticks\":\"\"},\"bgcolor\":\"white\",\"radialaxis\":{\"gridcolor\":\"#EBF0F8\",\"linecolor\":\"#EBF0F8\",\"ticks\":\"\"}},\"scene\":{\"xaxis\":{\"backgroundcolor\":\"white\",\"gridcolor\":\"#DFE8F3\",\"gridwidth\":2,\"linecolor\":\"#EBF0F8\",\"showbackground\":true,\"ticks\":\"\",\"zerolinecolor\":\"#EBF0F8\"},\"yaxis\":{\"backgroundcolor\":\"white\",\"gridcolor\":\"#DFE8F3\",\"gridwidth\":2,\"linecolor\":\"#EBF0F8\",\"showbackground\":true,\"ticks\":\"\",\"zerolinecolor\":\"#EBF0F8\"},\"zaxis\":{\"backgroundcolor\":\"white\",\"gridcolor\":\"#DFE8F3\",\"gridwidth\":2,\"linecolor\":\"#EBF0F8\",\"showbackground\":true,\"ticks\":\"\",\"zerolinecolor\":\"#EBF0F8\"}},\"shapedefaults\":{\"line\":{\"color\":\"#2a3f5f\"}},\"ternary\":{\"aaxis\":{\"gridcolor\":\"#DFE8F3\",\"linecolor\":\"#A2B1C6\",\"ticks\":\"\"},\"baxis\":{\"gridcolor\":\"#DFE8F3\",\"linecolor\":\"#A2B1C6\",\"ticks\":\"\"},\"bgcolor\":\"white\",\"caxis\":{\"gridcolor\":\"#DFE8F3\",\"linecolor\":\"#A2B1C6\",\"ticks\":\"\"}},\"title\":{\"x\":0.05},\"xaxis\":{\"automargin\":true,\"gridcolor\":\"#EBF0F8\",\"linecolor\":\"#EBF0F8\",\"ticks\":\"\",\"title\":{\"standoff\":15},\"zerolinecolor\":\"#EBF0F8\",\"zerolinewidth\":2},\"yaxis\":{\"automargin\":true,\"gridcolor\":\"#EBF0F8\",\"linecolor\":\"#EBF0F8\",\"ticks\":\"\",\"title\":{\"standoff\":15},\"zerolinecolor\":\"#EBF0F8\",\"zerolinewidth\":2}}},\"xaxis\":{\"anchor\":\"y\",\"domain\":[0.0,1.0],\"title\":{\"text\":\"log2(S\\u1ed1 th\\u00e0nh ph\\u1ed1)\"}},\"yaxis\":{\"anchor\":\"x\",\"domain\":[0.0,1.0],\"title\":{\"text\":\"S\\u1ed1 qu\\u1ed1c gia\"}},\"legend\":{\"tracegroupgap\":0},\"title\":{\"text\":\"Ph\\u00e2n ph\\u1ed1i log-scale c\\u01a1 s\\u1ed1 2 c\\u1ee7a s\\u1ed1 th\\u00e0nh ph\\u1ed1 theo qu\\u1ed1c gia\"},\"barmode\":\"relative\",\"bargap\":0.1,\"height\":500},                        {\"responsive\": true}                    ).then(function(){\n",
       "                            \n",
       "var gd = document.getElementById('1b963c13-f292-4ae1-a362-59b762d27911');\n",
       "var x = new MutationObserver(function (mutations, observer) {{\n",
       "        var display = window.getComputedStyle(gd).display;\n",
       "        if (!display || display === 'none') {{\n",
       "            console.log([gd, 'removed!']);\n",
       "            Plotly.purge(gd);\n",
       "            observer.disconnect();\n",
       "        }}\n",
       "}});\n",
       "\n",
       "// Listen for the removal of the full notebook cells\n",
       "var notebookContainer = gd.closest('#notebook-container');\n",
       "if (notebookContainer) {{\n",
       "    x.observe(notebookContainer, {childList: true});\n",
       "}}\n",
       "\n",
       "// Listen for the clearing of the current output cell\n",
       "var outputEl = gd.closest('.output');\n",
       "if (outputEl) {{\n",
       "    x.observe(outputEl, {childList: true});\n",
       "}}\n",
       "\n",
       "                        })                };                });            </script>        </div>"
      ]
     },
     "metadata": {},
     "output_type": "display_data"
    }
   ],
   "source": [
    "city_count = df_processed.groupby(\"country\")[\"city\"].size().reset_index(name=\"City Count\").sort_values(by=\"City Count\")\n",
    "city_count.T\n",
    "\n",
    "#Chuyển City Count sang log scale\n",
    "city_count['Log City Count'] = np.log(city_count['City Count']) / np.log(2)\n",
    "\n",
    "# Dữ liệu cho histogram\n",
    "fig = px.histogram(city_count, x='Log City Count', nbins=50, \n",
    "                   title=\"Phân phối log-scale cơ số 2 của số thành phố theo quốc gia\",\n",
    "                   labels={'Log City Count': 'log2(Số thành phố)'}, \n",
    "                   opacity=1)\n",
    "\n",
    "# Giao diện\n",
    "fig.update_layout(bargap=0.1, \n",
    "                  xaxis_title=\"log2(Số thành phố)\", \n",
    "                  yaxis_title=\"Số quốc gia\", \n",
    "                  template=\"plotly_white\",\n",
    "                  height=500)\n",
    "fig.show()"
   ]
  },
  {
   "cell_type": "markdown",
   "id": "f11327cb-9b96-49fb-affd-2c7710bdd56c",
   "metadata": {},
   "source": [
    "**Nhận xét:** chưa có\n",
    "\n",
    "<!--\n",
    "```python\n",
    "city_count = df_processed.groupby(\"country\")[\"city\"].size().reset_index(name=\"City Count\").sort_values(by=\"City Count\")\n",
    "city_count.T\n",
    "\n",
    "#Chuyển City Count sang log scale\n",
    "city_count['Log City Count'] = np.log(city_count['City Count']) / np.log(2)\n",
    "\n",
    "plt.figure(figsize=(16, 6))\n",
    "plt.hist(city_count['Log City Count'], bins=50, edgecolor='white', density=False)\n",
    "\n",
    "plt.xlabel('log2(Số thành phố)')\n",
    "plt.ylabel('Số quốc gia')\n",
    "plt.title('Phân phối log-scale cơ số 2 của số thành phố theo quốc gia')\n",
    "plt.show()\n",
    "```\n",
    "-->"
   ]
  },
  {
   "cell_type": "code",
   "execution_count": 61,
   "id": "55c6ba03-d160-4d4c-8d74-d319663edee4",
   "metadata": {},
   "outputs": [
    {
     "data": {
      "application/vnd.plotly.v1+json": {
       "config": {
        "plotlyServerURL": "https://plot.ly"
       },
       "data": [
        {
         "coloraxis": "coloraxis",
         "hovertemplate": "Variable 1: %{x}<br>Variable 2: %{y}<br>Correlation: %{z}<extra></extra>",
         "name": "0",
         "type": "heatmap",
         "x": [
          "x1",
          "x2",
          "x3",
          "x4",
          "x5",
          "x6",
          "x7",
          "x8",
          "x9",
          "x10",
          "x11",
          "x12",
          "x13",
          "x14",
          "x15",
          "x16",
          "x17",
          "x18",
          "x19",
          "x20",
          "x21",
          "x22",
          "x23",
          "x24",
          "x25",
          "x26",
          "x27",
          "x28",
          "x30",
          "x31",
          "x32",
          "x33",
          "x34",
          "x35",
          "x36",
          "x37",
          "x38",
          "x39",
          "x41",
          "x42",
          "x43",
          "x44",
          "x45",
          "x46",
          "x47",
          "x48",
          "x49",
          "x50",
          "x51",
          "x54",
          "x55"
         ],
         "xaxis": "x",
         "y": [
          "x1",
          "x2",
          "x3",
          "x4",
          "x5",
          "x6",
          "x7",
          "x8",
          "x9",
          "x10",
          "x11",
          "x12",
          "x13",
          "x14",
          "x15",
          "x16",
          "x17",
          "x18",
          "x19",
          "x20",
          "x21",
          "x22",
          "x23",
          "x24",
          "x25",
          "x26",
          "x27",
          "x28",
          "x30",
          "x31",
          "x32",
          "x33",
          "x34",
          "x35",
          "x36",
          "x37",
          "x38",
          "x39",
          "x41",
          "x42",
          "x43",
          "x44",
          "x45",
          "x46",
          "x47",
          "x48",
          "x49",
          "x50",
          "x51",
          "x54",
          "x55"
         ],
         "yaxis": "y",
         "z": [
          [
           1,
           0.7931416287143542,
           0.6991329952219533,
           0.6788330380206234,
           0.624917353142126,
           0.6428571944221042,
           0.7464013038530629,
           0.693835300236233,
           0.12835216021291723,
           0.6173423860206017,
           0.534214088594753,
           0.6627017027069086,
           0.41506033651677643,
           0.6632571009254538,
           0.5132490061848077,
           0.4245502600645855,
           0.3936412803492456,
           0.5133759556671785,
           0.5772668382061649,
           0.4979126698015633,
           0.5249913692186975,
           0.5339721380738501,
           0.5692501976217852,
           0.35209356105332607,
           0.46500334960317086,
           0.3130566524342821,
           0.6323124978198921,
           0.5898612111160837,
           0.5319412162535453,
           0.5049730578259981,
           0.6441556549494059,
           0.38342881093226094,
           0.1748084614034608,
           0.13058329718403844,
           0.5570185186429231,
           0.26409625219623956,
           -0.00832281443417428,
           0.3559981921639174,
           0.7075638893159627,
           0.6378713129712406,
           0.5108029888361042,
           0.4045418135244292,
           0.2568237403068192,
           0.2844119781287609,
           0.5111095584314516,
           0.6252508945175363,
           0.6618091515232429,
           0.5732019395253792,
           0.6371206036205501,
           0.7061938975650135,
           -0.37808982145859865
          ],
          [
           0.7931416287143542,
           1,
           0.7252007727480883,
           0.7113045879878733,
           0.6496590803299944,
           0.6669482962260643,
           0.7746121939425099,
           0.746169923587021,
           0.2131649956723633,
           0.6220739167687485,
           0.5068835418003425,
           0.6931743341950688,
           0.4432196819120104,
           0.6689689330039348,
           0.5656705586059736,
           0.41604116664733065,
           0.41807864699680714,
           0.48045451304040604,
           0.5638717010663822,
           0.47954075079081276,
           0.4964245033428585,
           0.5717409275743105,
           0.5593027629412696,
           0.3790287712514784,
           0.46432248989976027,
           0.30147147639014055,
           0.645921472283775,
           0.6310322343886927,
           0.5849972640503811,
           0.5602658215646965,
           0.6989275513370241,
           0.43012761079411493,
           0.2109378951342807,
           0.1487158906920406,
           0.5474523076837481,
           0.2837724955206204,
           0.008595364481862211,
           0.4232737024741024,
           0.750767819870406,
           0.6204407692620938,
           0.5077975956777349,
           0.4615653750578708,
           0.29357857582533037,
           0.3234414205706696,
           0.5563246838566427,
           0.6314332770374971,
           0.6590473221150064,
           0.606271373692499,
           0.6513961404337462,
           0.6986932845768403,
           -0.3991823558855094
          ],
          [
           0.6991329952219533,
           0.7252007727480883,
           1,
           0.6569407668032627,
           0.5829363127675791,
           0.5981268315567392,
           0.7379942798859452,
           0.7266682662339429,
           0.2245845307961931,
           0.5838380238830949,
           0.42755643477134714,
           0.672444956402906,
           0.45186238741439255,
           0.6386518470189383,
           0.5736751902791001,
           0.3875073575283286,
           0.39698272859642886,
           0.41164441306718064,
           0.4688468548226981,
           0.4368388197363894,
           0.45456117230346504,
           0.5144006791263402,
           0.4743026617684355,
           0.3350543490650096,
           0.40273206261030947,
           0.27808365133656604,
           0.5395839429242734,
           0.5551712098184997,
           0.5815010672436671,
           0.5773110697702601,
           0.6693600827179751,
           0.4503562172068854,
           0.20119460162144717,
           0.1880157134786056,
           0.4732607443535863,
           0.28317662719036985,
           0.04743014993688743,
           0.39079326422412425,
           0.6871898642316491,
           0.5376614424928259,
           0.40733376985814385,
           0.44613870911478576,
           0.29866647278444036,
           0.29645070963584147,
           0.5029393164564732,
           0.5239535501548708,
           0.5492083584310861,
           0.4841394680288109,
           0.5279920596346627,
           0.6125544978918607,
           -0.366808660897645
          ],
          [
           0.6788330380206234,
           0.7113045879878733,
           0.6569407668032627,
           1,
           0.8164512179314672,
           0.6658918734035967,
           0.6924743377320387,
           0.6626148301433644,
           0.15292419928015435,
           0.5925766070578308,
           0.49034247359439503,
           0.6334185645109557,
           0.3766784472641258,
           0.6123399963070331,
           0.5079316290354574,
           0.420258926405325,
           0.35830344905790334,
           0.4695965346194461,
           0.5109360129384075,
           0.4536345304634819,
           0.4763966617510962,
           0.5244521612027406,
           0.5434903129504748,
           0.4684822490357892,
           0.5919234737356263,
           0.4327099997356415,
           0.6414688065015579,
           0.5923389570567907,
           0.5194345348537903,
           0.47837248008996874,
           0.6458571262901245,
           0.3898249409133595,
           0.16144132578933057,
           0.10463386873176517,
           0.4732901055928269,
           0.22853677043291448,
           0.010122689181152366,
           0.3249111149324639,
           0.7032512354507733,
           0.5847724033769662,
           0.44563512010825973,
           0.3349490863492739,
           0.2002868316578304,
           0.19193963431925856,
           0.43884248206408155,
           0.5999624645324421,
           0.6313338255202524,
           0.5456530938177496,
           0.6041354608804558,
           0.7013328014373192,
           -0.42330686933392364
          ],
          [
           0.624917353142126,
           0.6496590803299944,
           0.5829363127675791,
           0.8164512179314672,
           1,
           0.7152102962950867,
           0.5965087461202537,
           0.5586823697262445,
           0.1779254150382717,
           0.6300909283883727,
           0.5387848026202097,
           0.5682423340390345,
           0.34620433759356034,
           0.5776273446742235,
           0.41924421754740193,
           0.4843240556510682,
           0.32876641040877563,
           0.5424663060453996,
           0.5368065583877749,
           0.5044244592969082,
           0.5254745405925723,
           0.5277367103671462,
           0.5993136909639415,
           0.5590266614015604,
           0.6401801651513754,
           0.5407163155201069,
           0.5902273497727311,
           0.49617906924804545,
           0.44616118747029493,
           0.40018996839135923,
           0.5407384727673381,
           0.21385756277434886,
           0.12887148313751987,
           0.06185331305101774,
           0.4253054219883695,
           0.19632824206317817,
           -0.004072389024737767,
           0.30320421628233085,
           0.6364799891897035,
           0.5664367392944711,
           0.4647498454375484,
           0.2076248286592401,
           0.20677077220236958,
           0.19446857453663213,
           0.394268809079701,
           0.6118447670711351,
           0.6359602754752403,
           0.5647990129703303,
           0.6195373705633354,
           0.673575493045967,
           -0.3291077967031134
          ],
          [
           0.6428571944221042,
           0.6669482962260643,
           0.5981268315567392,
           0.6658918734035967,
           0.7152102962950867,
           1,
           0.622619902858976,
           0.6267267159331028,
           0.23830066517232337,
           0.7236163448807905,
           0.6179213655582081,
           0.6153993613617206,
           0.38620766003296503,
           0.6249945870694938,
           0.48369346510093203,
           0.5912968455202338,
           0.36861547052409566,
           0.6268588699313261,
           0.6245530779669032,
           0.588896894392358,
           0.5984095386055653,
           0.5915920070924237,
           0.6821189804157827,
           0.5584282993109537,
           0.5576193001908943,
           0.41860955239865016,
           0.5407037959765649,
           0.5334883959527844,
           0.43029338009225326,
           0.47114291613858517,
           0.5561575283957996,
           0.1550972036247179,
           0.1671917356201004,
           0.07012111755208102,
           0.4617304093614029,
           0.19613335090524953,
           0.0168024996896376,
           0.34343445630850794,
           0.7164689605164505,
           0.6405991673457276,
           0.563023349644977,
           0.20912821632175163,
           0.22464551713513436,
           0.23596196842844802,
           0.4359662536805384,
           0.6609965247334525,
           0.6958868503945299,
           0.6214209547131031,
           0.6771870112273729,
           0.7571440246499415,
           -0.31478456505751523
          ],
          [
           0.7464013038530629,
           0.7746121939425099,
           0.7379942798859452,
           0.6924743377320387,
           0.5965087461202537,
           0.622619902858976,
           1,
           0.8575204268193439,
           0.13073059113643515,
           0.6034107151271443,
           0.4681297867659422,
           0.6994911625624223,
           0.4611395380883674,
           0.6935304683705069,
           0.6034691779048893,
           0.37240562237562785,
           0.4377016063049815,
           0.44802190761884414,
           0.5244092245847857,
           0.44629424128280604,
           0.46687057694139167,
           0.5082209688110214,
           0.4668482541488153,
           0.26591736672571026,
           0.3778927238144331,
           0.2378485153446557,
           0.6051466902450102,
           0.6235886415153723,
           0.5643602629245545,
           0.5715002924458789,
           0.7128595001240539,
           0.5307311719067256,
           0.19694494408401642,
           0.16072419252638054,
           0.6098940720653342,
           0.29450291558632596,
           0.016384155738958732,
           0.3525392645543579,
           0.7175382134480361,
           0.5740242882531451,
           0.46099931217532425,
           0.509638798526184,
           0.2669179418764483,
           0.3016118744730466,
           0.5497078976643283,
           0.5578322523669108,
           0.5951250833063869,
           0.5258259613250792,
           0.5769302027310956,
           0.6728430324485207,
           -0.4604434230736039
          ],
          [
           0.693835300236233,
           0.746169923587021,
           0.7266682662339429,
           0.6626148301433644,
           0.5586823697262445,
           0.6267267159331028,
           0.8575204268193439,
           1,
           0.10817545246618122,
           0.6128369956827164,
           0.4567032130350471,
           0.6700365641156143,
           0.44079555979689744,
           0.6608387754770112,
           0.6001603538709412,
           0.38689874206106806,
           0.40895745438213515,
           0.438549520841039,
           0.5205554599413362,
           0.45815667216259603,
           0.4660602061760247,
           0.537117727904904,
           0.4902942247401693,
           0.26965297454546283,
           0.3543013778683515,
           0.1912747306948718,
           0.5860075515419751,
           0.6578832498929271,
           0.5475713487509177,
           0.590198394901668,
           0.728683541851736,
           0.5105608837159558,
           0.17327996006607901,
           0.13913844777984205,
           0.5426452576875509,
           0.2635503321211372,
           0.0034524020723340097,
           0.3329577427728272,
           0.720174963489153,
           0.590487131833594,
           0.4631467599308218,
           0.4576506006059505,
           0.22523982286185815,
           0.24715847007350886,
           0.5171651358833259,
           0.572100751106501,
           0.6051219356757271,
           0.5476561684092254,
           0.5924276248317244,
           0.7073514405662737,
           -0.4460733522854201
          ],
          [
           0.12835216021291723,
           0.2131649956723633,
           0.2245845307961931,
           0.15292419928015435,
           0.1779254150382717,
           0.23830066517232337,
           0.13073059113643515,
           0.10817545246618122,
           1,
           0.22122886970259598,
           0.15118879736938667,
           0.3181922944396872,
           0.25355572308257396,
           0.16812352316254398,
           0.23996944104143256,
           0.24891083750285714,
           0.2982389993979342,
           0.20083804293739418,
           0.16370767218781965,
           0.23655061379630096,
           0.21173952511493857,
           0.3116276751969918,
           0.19119933547109558,
           0.3228864107583448,
           0.16116206401991454,
           0.2026880760976437,
           0.18651452763908938,
           0.08231283586508849,
           0.17582730755511033,
           0.18270851562679868,
           0.13492013427694877,
           0.04889236585308871,
           0.20580453564489465,
           0.1424669125429589,
           0.10590703864478444,
           0.16220611241405195,
           0.045907135441374335,
           0.3137227574261082,
           0.1914626864811557,
           0.08071701068910388,
           0.19153455183513496,
           0.176454953290177,
           0.19341996832431618,
           0.23295102123322017,
           0.2549330189021152,
           0.11294701338724172,
           0.08492993194510026,
           0.15200620130865675,
           0.11680642569762867,
           0.0675524141755284,
           -0.08555316783298815
          ],
          [
           0.6173423860206017,
           0.6220739167687485,
           0.5838380238830949,
           0.5925766070578308,
           0.6300909283883727,
           0.7236163448807905,
           0.6034107151271443,
           0.6128369956827164,
           0.22122886970259598,
           1,
           0.6595659859577434,
           0.6511727167493435,
           0.4466680167711273,
           0.6535177189625478,
           0.4916946098278758,
           0.5993736550393035,
           0.33607520993470086,
           0.6084667990817143,
           0.6411146909935761,
           0.6096369196192771,
           0.6581486697321255,
           0.6118331897378483,
           0.6763883578091682,
           0.5162767851933979,
           0.49839906643217524,
           0.33982517435322984,
           0.44060541341231063,
           0.48468670765048244,
           0.44033415028698913,
           0.469075731122006,
           0.5720263901661354,
           0.17932788933485508,
           0.12334508674790207,
           0.048911764786917514,
           0.3911394235118404,
           0.23890322877039055,
           -0.0006008995374820045,
           0.31275886345982895,
           0.6453659698934192,
           0.6047948834094576,
           0.5282018700585327,
           0.1512884917481906,
           0.18187493809784125,
           0.17939104322566862,
           0.410355518440622,
           0.6441964416112823,
           0.6878785559331427,
           0.6086233769034437,
           0.6667670719066664,
           0.7237266228963287,
           -0.2899705757096843
          ],
          [
           0.534214088594753,
           0.5068835418003425,
           0.42755643477134714,
           0.49034247359439503,
           0.5387848026202097,
           0.6179213655582081,
           0.4681297867659422,
           0.4567032130350471,
           0.15118879736938667,
           0.6595659859577434,
           1,
           0.5001209257496357,
           0.3393550614007572,
           0.5755520660941408,
           0.3895925377673829,
           0.6216430321664798,
           0.38599264908210706,
           0.6757950838399321,
           0.6497320850622667,
           0.637078295160511,
           0.6441602587485882,
           0.5481389208756401,
           0.6555144664067134,
           0.4194044419812033,
           0.46885605588657325,
           0.3394164398638732,
           0.3723000718054368,
           0.38953999298774955,
           0.32772715952759257,
           0.37236680123205906,
           0.4364799109930011,
           0.03460817845327355,
           0.15010225371737743,
           0.07588342886086984,
           0.3667000965230523,
           0.19358032366687028,
           -0.006845511470731351,
           0.27059924791547896,
           0.5549689898119775,
           0.4886801841042857,
           0.4504664636099752,
           0.07158902006188769,
           0.17914857373955367,
           0.2131335984835697,
           0.37981523052912236,
           0.5723333926152679,
           0.6079598628446277,
           0.5413144282916286,
           0.5906290834890162,
           0.61217953182988,
           -0.20827380919620522
          ],
          [
           0.6627017027069086,
           0.6931743341950688,
           0.672444956402906,
           0.6334185645109557,
           0.5682423340390345,
           0.6153993613617206,
           0.6994911625624223,
           0.6700365641156143,
           0.3181922944396872,
           0.6511727167493435,
           0.5001209257496357,
           1,
           0.46661721069102735,
           0.689266504001871,
           0.5759307069317464,
           0.4511432861413055,
           0.48015127823650056,
           0.48941199038479927,
           0.5571134077372588,
           0.5153675120960917,
           0.5314519266552817,
           0.5817495136535858,
           0.5219087003054038,
           0.39404342745121496,
           0.44321514457758465,
           0.3071020234354827,
           0.5480015729732997,
           0.5084798014936666,
           0.5182215359996017,
           0.520224447934994,
           0.623618313790642,
           0.3672676323889738,
           0.1478802995335692,
           0.10416348917859172,
           0.4891456868243128,
           0.29924099743692034,
           0.03491189401771972,
           0.39628070085723616,
           0.6756060756037848,
           0.5566574514701305,
           0.46614207276734615,
           0.36296252610271335,
           0.24906822216900354,
           0.27645471929421833,
           0.4883206661730029,
           0.5577337525030884,
           0.5792080479220418,
           0.5235329212853377,
           0.5648673561426599,
           0.6399394699810799,
           -0.37286386015330175
          ],
          [
           0.41506033651677643,
           0.4432196819120104,
           0.45186238741439255,
           0.3766784472641258,
           0.34620433759356034,
           0.38620766003296503,
           0.4611395380883674,
           0.44079555979689744,
           0.25355572308257396,
           0.4466680167711273,
           0.3393550614007572,
           0.46661721069102735,
           1,
           0.48088994755807324,
           0.5349206611758618,
           0.3487641781413749,
           0.3478791924988474,
           0.37814801736034453,
           0.39615201466452193,
           0.357020428042876,
           0.3775110341731003,
           0.3856323372429025,
           0.26753387530518496,
           0.29602054096429187,
           0.2274456954360829,
           0.18437463299910278,
           0.23792956612016342,
           0.3030638113245339,
           0.34656318350485915,
           0.3693021853932469,
           0.42711065615369553,
           0.27152039833228103,
           0.20661267401322042,
           0.1026894781063612,
           0.3214517883153399,
           0.18019659971871327,
           0.024757384962470708,
           0.33210736736643415,
           0.475582119650062,
           0.37705781522545273,
           0.3945797494825673,
           0.3359257224392658,
           0.2099659814678035,
           0.23472290675251614,
           0.42432472507903307,
           0.33662753362090664,
           0.3473300443568964,
           0.34006931965638715,
           0.3486747166025028,
           0.4077540676114826,
           -0.3275928180600759
          ],
          [
           0.6632571009254538,
           0.6689689330039348,
           0.6386518470189383,
           0.6123399963070331,
           0.5776273446742235,
           0.6249945870694938,
           0.6935304683705069,
           0.6608387754770112,
           0.16812352316254398,
           0.6535177189625478,
           0.5755520660941408,
           0.689266504001871,
           0.48088994755807324,
           1,
           0.6527145329697734,
           0.5035208011265118,
           0.4051765626131007,
           0.5403586600822725,
           0.5661823928641554,
           0.5271193718812878,
           0.5648973123667707,
           0.5474888700238759,
           0.561110771202685,
           0.40313499980358286,
           0.46160231730618967,
           0.3000765516161439,
           0.47251615449025347,
           0.5192721265007842,
           0.49477699746207543,
           0.5147494378209094,
           0.636667048755023,
           0.2934200061396557,
           0.15029778345916814,
           0.09980988059978514,
           0.45342569008101946,
           0.2670770424221074,
           0.00920152189538116,
           0.33698356836448096,
           0.6620890938591014,
           0.595867266819898,
           0.4995852915158965,
           0.31034341627436135,
           0.2221102553466965,
           0.2369619546187504,
           0.4747431117781299,
           0.5866947511627675,
           0.6130067611830816,
           0.5410870984196775,
           0.5913737177667031,
           0.6712473294076593,
           -0.3462175768793729
          ],
          [
           0.5132490061848077,
           0.5656705586059736,
           0.5736751902791001,
           0.5079316290354574,
           0.41924421754740193,
           0.48369346510093203,
           0.6034691779048893,
           0.6001603538709412,
           0.23996944104143256,
           0.4916946098278758,
           0.3895925377673829,
           0.5759307069317464,
           0.5349206611758618,
           0.6527145329697734,
           1,
           0.38423602261706763,
           0.4673935576443951,
           0.3986304002151422,
           0.4472604131909463,
           0.4038034768544725,
           0.399151355836015,
           0.45738396652133906,
           0.3328725351096353,
           0.3078012327181057,
           0.29280012513427833,
           0.20782438297440994,
           0.37215762853788925,
           0.4553772061754393,
           0.48054743839101766,
           0.4983406167651515,
           0.6047374195060629,
           0.3408716130812372,
           0.2255422641092624,
           0.18009058138950562,
           0.3837968587560651,
           0.23570136287955845,
           0.21619760022453383,
           0.34848551669834754,
           0.6026485858150286,
           0.4962069173179237,
           0.41331737390686973,
           0.40252826154327487,
           0.24389475931911458,
           0.29226996722094434,
           0.46875273023546693,
           0.4088433778958628,
           0.4241299065353854,
           0.3973778448292744,
           0.420276335242628,
           0.5416593910572758,
           -0.3538336870341219
          ],
          [
           0.4245502600645855,
           0.41604116664733065,
           0.3875073575283286,
           0.420258926405325,
           0.4843240556510682,
           0.5912968455202338,
           0.37240562237562785,
           0.38689874206106806,
           0.24891083750285714,
           0.5993736550393035,
           0.6216430321664798,
           0.4511432861413055,
           0.3487641781413749,
           0.5035208011265118,
           0.38423602261706763,
           1,
           0.47846931726853636,
           0.7629053568653446,
           0.6853618108872569,
           0.7250352304380046,
           0.7245328320523029,
           0.5761474040693033,
           0.6237793031299318,
           0.4917222122255603,
           0.47903712238223356,
           0.38130229770408236,
           0.30854085764706696,
           0.3314262270659344,
           0.31323408359695265,
           0.3935906167811658,
           0.385393012616456,
           -0.030469367460964847,
           0.1434838784436624,
           0.042833236185528104,
           0.2842504362586521,
           0.21976428217120544,
           0.01579181773262725,
           0.26751373525377997,
           0.48006803595321235,
           0.4557678094873487,
           0.4271142381339735,
           -0.002220547371771406,
           0.13181824553257124,
           0.0849519377823232,
           0.2806445546203881,
           0.5029090678944146,
           0.5114016922006152,
           0.4864783883192261,
           0.5109381110064165,
           0.557115440832714,
           -0.17330571371806644
          ],
          [
           0.3936412803492456,
           0.41807864699680714,
           0.39698272859642886,
           0.35830344905790334,
           0.32876641040877563,
           0.36861547052409566,
           0.4377016063049815,
           0.40895745438213515,
           0.2982389993979342,
           0.33607520993470086,
           0.38599264908210706,
           0.48015127823650056,
           0.3478791924988474,
           0.4051765626131007,
           0.4673935576443951,
           0.47846931726853636,
           1,
           0.5040598145278113,
           0.5046929766939824,
           0.5085616360296482,
           0.46672685423485877,
           0.5219559059635911,
           0.3176649881602561,
           0.2361502132276501,
           0.29100245353728355,
           0.24652084764129586,
           0.3523349686396146,
           0.3006948128544696,
           0.3203005212335402,
           0.3067732531388451,
           0.3686800063580649,
           0.1771994701731109,
           0.21355087031266679,
           0.15501625049098314,
           0.35116617389204763,
           0.24295392382060732,
           -0.00529331245680138,
           0.33353422025529045,
           0.4441158600516509,
           0.26032629549046266,
           0.27880973509829904,
           0.31601867469574046,
           0.21931304571256904,
           0.3200712814879738,
           0.3991388312208947,
           0.30963630918657836,
           0.28961234980423917,
           0.30009323415818834,
           0.2979845303941687,
           0.35143264512870853,
           -0.24741958209059187
          ],
          [
           0.5133759556671785,
           0.48045451304040604,
           0.41164441306718064,
           0.4695965346194461,
           0.5424663060453996,
           0.6268588699313261,
           0.44802190761884414,
           0.438549520841039,
           0.20083804293739418,
           0.6084667990817143,
           0.6757950838399321,
           0.48941199038479927,
           0.37814801736034453,
           0.5403586600822725,
           0.3986304002151422,
           0.7629053568653446,
           0.5040598145278113,
           1,
           0.7490989430177057,
           0.746328634412202,
           0.7275428987046849,
           0.6092768369568606,
           0.6283403868429887,
           0.4754230743956537,
           0.4937566899573987,
           0.3978210708750601,
           0.4128115559145229,
           0.3705033893033859,
           0.35153489290765455,
           0.38214141162429655,
           0.4209164233628236,
           0.03406700405264217,
           0.1140716412575475,
           0.013736354925550635,
           0.40091438177483024,
           0.20365518076905345,
           0.03513795069255557,
           0.30016740520987417,
           0.5361938740046014,
           0.4728045921824845,
           0.4659294491446058,
           0.09608638053906049,
           0.17804963245631783,
           0.16416247906366624,
           0.36104361391601625,
           0.5033789143147267,
           0.5297290351819935,
           0.484209089155702,
           0.5204856738672784,
           0.5917885140085551,
           -0.25338885971096936
          ],
          [
           0.5772668382061649,
           0.5638717010663822,
           0.4688468548226981,
           0.5109360129384075,
           0.5368065583877749,
           0.6245530779669032,
           0.5244092245847857,
           0.5205554599413362,
           0.16370767218781965,
           0.6411146909935761,
           0.6497320850622667,
           0.5571134077372588,
           0.39615201466452193,
           0.5661823928641554,
           0.4472604131909463,
           0.6853618108872569,
           0.5046929766939824,
           0.7490989430177057,
           1,
           0.7098489657152999,
           0.7205410783948751,
           0.6683394106891801,
           0.6577917517470663,
           0.4368684480716156,
           0.4967675061518239,
           0.33132292161785765,
           0.4598108515627436,
           0.432330977034325,
           0.3990616891703103,
           0.4018428695957176,
           0.5016652830854121,
           0.10754029354965594,
           0.11642590855724647,
           0.006237396498090535,
           0.4175519965951526,
           0.2688884550448548,
           0.01432807750870715,
           0.31373232940726675,
           0.591670143940252,
           0.5452298603822278,
           0.4651610464830894,
           0.17864443026026416,
           0.17694962236658793,
           0.15321185492504857,
           0.39634884712511764,
           0.5686541057214394,
           0.5959385926868545,
           0.5223388703426015,
           0.5733407855538843,
           0.6375106036141994,
           -0.29319912347842375
          ],
          [
           0.4979126698015633,
           0.47954075079081276,
           0.4368388197363894,
           0.4536345304634819,
           0.5044244592969082,
           0.588896894392358,
           0.44629424128280604,
           0.45815667216259603,
           0.23655061379630096,
           0.6096369196192771,
           0.637078295160511,
           0.5153675120960917,
           0.357020428042876,
           0.5271193718812878,
           0.4038034768544725,
           0.7250352304380046,
           0.5085616360296482,
           0.746328634412202,
           0.7098489657152999,
           1,
           0.8060735464393847,
           0.640279405619775,
           0.6117648736268904,
           0.4387087696434576,
           0.4778900305912422,
           0.3565289315664491,
           0.3844016328176074,
           0.3868322137025645,
           0.36016872929861043,
           0.40879858391575363,
           0.4292375802067976,
           0.05524820894921487,
           0.11069935735172626,
           0.018916317157355644,
           0.3325395882049103,
           0.2911585310910872,
           0.03851495735272421,
           0.29665879504662845,
           0.5352115960602075,
           0.46043971979933673,
           0.42810870202404677,
           0.06881835162563363,
           0.13029962095547115,
           0.13989463651733572,
           0.3324360624381953,
           0.5381124326832711,
           0.5493438952397963,
           0.5091922979623478,
           0.5392770779700972,
           0.5774047659452962,
           -0.23054505265014477
          ],
          [
           0.5249913692186975,
           0.4964245033428585,
           0.45456117230346504,
           0.4763966617510962,
           0.5254745405925723,
           0.5984095386055653,
           0.46687057694139167,
           0.4660602061760247,
           0.21173952511493857,
           0.6581486697321255,
           0.6441602587485882,
           0.5314519266552817,
           0.3775110341731003,
           0.5648973123667707,
           0.399151355836015,
           0.7245328320523029,
           0.46672685423485877,
           0.7275428987046849,
           0.7205410783948751,
           0.8060735464393847,
           1,
           0.6634508576306094,
           0.6596569532628201,
           0.47353379757603675,
           0.4918749368453121,
           0.3605253024319696,
           0.38903323707663434,
           0.3822576849189969,
           0.3594533307922233,
           0.40247929032248914,
           0.4377967484921246,
           0.057284631673531844,
           0.10578573342783888,
           0.01998959132283653,
           0.3166291933562008,
           0.28861032741623444,
           0.02221156403995291,
           0.28332204413189854,
           0.5392290728824912,
           0.4958729251715832,
           0.4391460055596356,
           0.055528094360354115,
           0.13721924019638398,
           0.11974991428504864,
           0.31751194003557653,
           0.5585210550052139,
           0.5780474615160193,
           0.5310599923830668,
           0.563925652820273,
           0.6023779462999487,
           -0.2233358440054535
          ],
          [
           0.5339721380738501,
           0.5717409275743105,
           0.5144006791263402,
           0.5244521612027406,
           0.5277367103671462,
           0.5915920070924237,
           0.5082209688110214,
           0.537117727904904,
           0.3116276751969918,
           0.6118331897378483,
           0.5481389208756401,
           0.5817495136535858,
           0.3856323372429025,
           0.5474888700238759,
           0.45738396652133906,
           0.5761474040693033,
           0.5219559059635911,
           0.6092768369568606,
           0.6683394106891801,
           0.640279405619775,
           0.6634508576306094,
           1,
           0.5979628291510676,
           0.4719803706236579,
           0.47974146440272186,
           0.3703347794994164,
           0.48044766129323374,
           0.4138640606111532,
           0.43417992636454095,
           0.4092108247147985,
           0.5078390464435796,
           0.14408195857960557,
           0.17363231868891527,
           0.055664400810404024,
           0.3592900449748355,
           0.2574550638736535,
           -0.010651308056598377,
           0.35128125279910444,
           0.5636021896972577,
           0.4460860685967391,
           0.38218656486480285,
           0.23322987631655265,
           0.20070591161423615,
           0.22102479793003668,
           0.4231256231269835,
           0.5245331469647287,
           0.5263818523493969,
           0.4810292400843924,
           0.51210046273267,
           0.5763270852968816,
           -0.24769782569683016
          ],
          [
           0.5692501976217852,
           0.5593027629412696,
           0.4743026617684355,
           0.5434903129504748,
           0.5993136909639415,
           0.6821189804157827,
           0.4668482541488153,
           0.4902942247401693,
           0.19119933547109558,
           0.6763883578091682,
           0.6555144664067134,
           0.5219087003054038,
           0.26753387530518496,
           0.561110771202685,
           0.3328725351096353,
           0.6237793031299318,
           0.3176649881602561,
           0.6283403868429887,
           0.6577917517470663,
           0.6117648736268904,
           0.6596569532628201,
           0.5979628291510676,
           1,
           0.5293205370738807,
           0.5889175926712045,
           0.4145142320123245,
           0.49623955486274857,
           0.441767455862181,
           0.36776190909082523,
           0.35768099386817065,
           0.45699450650853746,
           0.04589614371008784,
           0.11472895396919783,
           0.02119282212095204,
           0.3270377657912163,
           0.23689606296496993,
           0.016257708956449842,
           0.25663217924155235,
           0.5499974768204465,
           0.5553935685553125,
           0.4549540312449281,
           0.06961266272200993,
           0.1501177962747636,
           0.15004864006905008,
           0.32883042346838864,
           0.5962279648597328,
           0.6330331687431976,
           0.5536978745860301,
           0.6151736683455816,
           0.6448986546663455,
           -0.18653304971998266
          ],
          [
           0.35209356105332607,
           0.3790287712514784,
           0.3350543490650096,
           0.4684822490357892,
           0.5590266614015604,
           0.5584282993109537,
           0.26591736672571026,
           0.26965297454546283,
           0.3228864107583448,
           0.5162767851933979,
           0.4194044419812033,
           0.39404342745121496,
           0.29602054096429187,
           0.40313499980358286,
           0.3078012327181057,
           0.4917222122255603,
           0.2361502132276501,
           0.4754230743956537,
           0.4368684480716156,
           0.4387087696434576,
           0.47353379757603675,
           0.4719803706236579,
           0.5293205370738807,
           1,
           0.5388718846076446,
           0.4999321932802652,
           0.3281777012881272,
           0.2692275738357647,
           0.22299566852857147,
           0.24284988650458583,
           0.2996458917081475,
           -0.05915042740838781,
           0.1294701856102293,
           0.01379151206075403,
           0.1726328570769411,
           0.12677445925810923,
           0.015083024187481815,
           0.2432518725339132,
           0.4007210379914469,
           0.393870178767814,
           0.3649397995526182,
           0.03508847981488751,
           0.14432535371772953,
           0.10000794543440604,
           0.2376428131614765,
           0.40054797203403386,
           0.4222924342113422,
           0.39129156528217995,
           0.41369210125303607,
           0.4634065085571624,
           -0.17301743465021324
          ],
          [
           0.46500334960317086,
           0.46432248989976027,
           0.40273206261030947,
           0.5919234737356263,
           0.6401801651513754,
           0.5576193001908943,
           0.3778927238144331,
           0.3543013778683515,
           0.16116206401991454,
           0.49839906643217524,
           0.46885605588657325,
           0.44321514457758465,
           0.2274456954360829,
           0.46160231730618967,
           0.29280012513427833,
           0.47903712238223356,
           0.29100245353728355,
           0.4937566899573987,
           0.4967675061518239,
           0.4778900305912422,
           0.4918749368453121,
           0.47974146440272186,
           0.5889175926712045,
           0.5388718846076446,
           1,
           0.6865155496548013,
           0.5494548135008335,
           0.38658150587633705,
           0.322886056929686,
           0.2967454807458812,
           0.39444570786150307,
           0.02259080617492695,
           0.09510552983571911,
           0.030768298116639073,
           0.2455811373237247,
           0.24647052663331936,
           0.013209148267245554,
           0.2336200955968518,
           0.4927276687988822,
           0.4671120562353997,
           0.3558328839469778,
           0.04478544869429665,
           0.13332803408952232,
           0.10602175063356999,
           0.24433409604876205,
           0.47523700923109913,
           0.4974140461611267,
           0.4259229057380596,
           0.4769583767792605,
           0.542193257788705,
           -0.22063196944181648
          ],
          [
           0.3130566524342821,
           0.30147147639014055,
           0.27808365133656604,
           0.4327099997356415,
           0.5407163155201069,
           0.41860955239865016,
           0.2378485153446557,
           0.1912747306948718,
           0.2026880760976437,
           0.33982517435322984,
           0.3394164398638732,
           0.3071020234354827,
           0.18437463299910278,
           0.3000765516161439,
           0.20782438297440994,
           0.38130229770408236,
           0.24652084764129586,
           0.3978210708750601,
           0.33132292161785765,
           0.3565289315664491,
           0.3605253024319696,
           0.3703347794994164,
           0.4145142320123245,
           0.4999321932802652,
           0.6865155496548013,
           1,
           0.4116868621127904,
           0.22100877481316494,
           0.2079471928797769,
           0.18729010769485818,
           0.2309982555325944,
           -0.023449243656521835,
           0.07324077314292299,
           0.02819495550290726,
           0.21181589064776687,
           0.16363797130859456,
           0.018325373902788437,
           0.1839518832690501,
           0.32843215907845663,
           0.293334023559034,
           0.2431794279031606,
           0.0427944605898533,
           0.16122282981809932,
           0.1281236351147098,
           0.19107427930607093,
           0.29458745217687116,
           0.30223086947482497,
           0.28190765679233215,
           0.29740834309862274,
           0.3355705654406207,
           -0.11839901342908002
          ],
          [
           0.6323124978198921,
           0.645921472283775,
           0.5395839429242734,
           0.6414688065015579,
           0.5902273497727311,
           0.5407037959765649,
           0.6051466902450102,
           0.5860075515419751,
           0.18651452763908938,
           0.44060541341231063,
           0.3723000718054368,
           0.5480015729732997,
           0.23792956612016342,
           0.47251615449025347,
           0.37215762853788925,
           0.30854085764706696,
           0.3523349686396146,
           0.4128115559145229,
           0.4598108515627436,
           0.3844016328176074,
           0.38903323707663434,
           0.48044766129323374,
           0.49623955486274857,
           0.3281777012881272,
           0.5494548135008335,
           0.4116868621127904,
           1,
           0.590663890447491,
           0.3879059328402573,
           0.4068481764685768,
           0.5402335583039516,
           0.378863930262984,
           0.08563327290434969,
           0.04595083441189953,
           0.49337202222739973,
           0.2705522154012383,
           -0.006054402159976266,
           0.28115979478358927,
           0.6262533748995724,
           0.5722214320601244,
           0.4290723578684955,
           0.3569803358201013,
           0.21506517110843484,
           0.2576968086076078,
           0.3755865099496338,
           0.5111048376100407,
           0.530747361805125,
           0.4624489199193025,
           0.5153044837497345,
           0.6039963345836661,
           -0.4014765727322908
          ],
          [
           0.5898612111160837,
           0.6310322343886927,
           0.5551712098184997,
           0.5923389570567907,
           0.49617906924804545,
           0.5334883959527844,
           0.6235886415153723,
           0.6578832498929271,
           0.08231283586508849,
           0.48468670765048244,
           0.38953999298774955,
           0.5084798014936666,
           0.3030638113245339,
           0.5192721265007842,
           0.4553772061754393,
           0.3314262270659344,
           0.3006948128544696,
           0.3705033893033859,
           0.432330977034325,
           0.3868322137025645,
           0.3822576849189969,
           0.4138640606111532,
           0.441767455862181,
           0.2692275738357647,
           0.38658150587633705,
           0.22100877481316494,
           0.590663890447491,
           1,
           0.5218733733186265,
           0.4926132663759901,
           0.6312040518589699,
           0.4649365077739034,
           0.10764503946659004,
           0.06785879562851475,
           0.4719449846264357,
           0.26439487424426233,
           -0.012184667482709877,
           0.2690038571470564,
           0.6770627623371741,
           0.5531605963378754,
           0.4220974735286953,
           0.3659111464422843,
           0.14413218923314958,
           0.152897151523928,
           0.37642302348687157,
           0.5142993135259799,
           0.5475137216247754,
           0.46958851838514093,
           0.5354878515860316,
           0.6426800522866614,
           -0.42961950433983803
          ],
          [
           0.5319412162535453,
           0.5849972640503811,
           0.5815010672436671,
           0.5194345348537903,
           0.44616118747029493,
           0.43029338009225326,
           0.5643602629245545,
           0.5475713487509177,
           0.17582730755511033,
           0.44033415028698913,
           0.32772715952759257,
           0.5182215359996017,
           0.34656318350485915,
           0.49477699746207543,
           0.48054743839101766,
           0.31323408359695265,
           0.3203005212335402,
           0.35153489290765455,
           0.3990616891703103,
           0.36016872929861043,
           0.3594533307922233,
           0.43417992636454095,
           0.36776190909082523,
           0.22299566852857147,
           0.322886056929686,
           0.2079471928797769,
           0.3879059328402573,
           0.5218733733186265,
           1,
           0.5713203401953629,
           0.6521542418062015,
           0.42608995952488754,
           0.1442063382079697,
           0.09886433535491355,
           0.39660969643757693,
           0.2601230581164681,
           0.25991449470796335,
           0.3354611152431554,
           0.5755209290087221,
           0.36855656780022,
           0.3145395270537595,
           0.39795073602032605,
           0.18136302784934188,
           0.18112371844401887,
           0.4223445324708906,
           0.39215070246746064,
           0.40943311967931084,
           0.3610050435496658,
           0.39410356961140686,
           0.47274111782476586,
           -0.3761292323492862
          ],
          [
           0.5049730578259981,
           0.5602658215646965,
           0.5773110697702601,
           0.47837248008996874,
           0.40018996839135923,
           0.47114291613858517,
           0.5715002924458789,
           0.590198394901668,
           0.18270851562679868,
           0.469075731122006,
           0.37236680123205906,
           0.520224447934994,
           0.3693021853932469,
           0.5147494378209094,
           0.4983406167651515,
           0.3935906167811658,
           0.3067732531388451,
           0.38214141162429655,
           0.4018428695957176,
           0.40879858391575363,
           0.40247929032248914,
           0.4092108247147985,
           0.35768099386817065,
           0.24284988650458583,
           0.2967454807458812,
           0.18729010769485818,
           0.4068481764685768,
           0.4926132663759901,
           0.5713203401953629,
           1,
           0.6115468704174961,
           0.3492953361538544,
           0.07345475906711106,
           0.036615599302422475,
           0.376587548219719,
           0.3214070596036328,
           0.0010078778876427639,
           0.32904696397262834,
           0.6291162629502948,
           0.45555142104733437,
           0.3595624925965362,
           0.28173695050249403,
           0.1784471530184763,
           0.14137798355447956,
           0.3861066034740377,
           0.41615958799148317,
           0.43965476289337213,
           0.3935551039567523,
           0.42817836772394885,
           0.5373298533334128,
           -0.3129384840185257
          ],
          [
           0.6441556549494059,
           0.6989275513370241,
           0.6693600827179751,
           0.6458571262901245,
           0.5407384727673381,
           0.5561575283957996,
           0.7128595001240539,
           0.728683541851736,
           0.13492013427694877,
           0.5720263901661354,
           0.4364799109930011,
           0.623618313790642,
           0.42711065615369553,
           0.636667048755023,
           0.6047374195060629,
           0.385393012616456,
           0.3686800063580649,
           0.4209164233628236,
           0.5016652830854121,
           0.4292375802067976,
           0.4377967484921246,
           0.5078390464435796,
           0.45699450650853746,
           0.2996458917081475,
           0.39444570786150307,
           0.2309982555325944,
           0.5402335583039516,
           0.6312040518589699,
           0.6521542418062015,
           0.6115468704174961,
           1,
           0.47124399982638454,
           0.13364010005748794,
           0.09256372649835255,
           0.4556811076745387,
           0.2905041790380519,
           -0.003682488990638929,
           0.34065448386888714,
           0.7157975431651499,
           0.5452470080595186,
           0.4289291557630774,
           0.40288655035283477,
           0.17417992492928044,
           0.19720013095818736,
           0.47320903894941774,
           0.5267397196384527,
           0.5627015933712799,
           0.4997931354185489,
           0.5378754104409059,
           0.664020176577493,
           -0.4499598564419817
          ],
          [
           0.38342881093226094,
           0.43012761079411493,
           0.4503562172068854,
           0.3898249409133595,
           0.21385756277434886,
           0.1550972036247179,
           0.5307311719067256,
           0.5105608837159558,
           0.04889236585308871,
           0.17932788933485508,
           0.03460817845327355,
           0.3672676323889738,
           0.27152039833228103,
           0.2934200061396557,
           0.3408716130812372,
           -0.030469367460964847,
           0.1771994701731109,
           0.03406700405264217,
           0.10754029354965594,
           0.05524820894921487,
           0.057284631673531844,
           0.14408195857960557,
           0.04589614371008784,
           -0.05915042740838781,
           0.02259080617492695,
           -0.023449243656521835,
           0.378863930262984,
           0.4649365077739034,
           0.42608995952488754,
           0.3492953361538544,
           0.47124399982638454,
           1,
           0.0412293207091752,
           0.07731719399587965,
           0.42630261519275126,
           0.23480482907856143,
           -0.004635767909132064,
           0.18537562440811484,
           0.4060012928690324,
           0.21845212657841523,
           0.18278903626395737,
           0.5267742563826805,
           0.0857789615905629,
           0.09043060959608226,
           0.2993626400995219,
           0.17748945178735778,
           0.19326835497526326,
           0.1538690099172876,
           0.17973755531315008,
           0.26241576302678576,
           -0.5264625058925444
          ],
          [
           0.1748084614034608,
           0.2109378951342807,
           0.20119460162144717,
           0.16144132578933057,
           0.12887148313751987,
           0.1671917356201004,
           0.19694494408401642,
           0.17327996006607901,
           0.20580453564489465,
           0.12334508674790207,
           0.15010225371737743,
           0.1478802995335692,
           0.20661267401322042,
           0.15029778345916814,
           0.2255422641092624,
           0.1434838784436624,
           0.21355087031266679,
           0.1140716412575475,
           0.11642590855724647,
           0.11069935735172626,
           0.10578573342783888,
           0.17363231868891527,
           0.11472895396919783,
           0.1294701856102293,
           0.09510552983571911,
           0.07324077314292299,
           0.08563327290434969,
           0.10764503946659004,
           0.1442063382079697,
           0.07345475906711106,
           0.13364010005748794,
           0.0412293207091752,
           1,
           0.7132506747020146,
           0.12088924253080274,
           0.005665584541322422,
           0.08659118089809088,
           0.14985798792171334,
           0.13876078104286865,
           0.12089982920640406,
           0.14097512138565058,
           0.2603099822352048,
           0.22831888734384878,
           0.3641548809940711,
           0.2800234687032829,
           0.14998968597793072,
           0.1358641879426983,
           0.15352145668923722,
           0.1411696813754989,
           0.10366936701145789,
           0.020741403163522205
          ],
          [
           0.13058329718403844,
           0.1487158906920406,
           0.1880157134786056,
           0.10463386873176517,
           0.06185331305101774,
           0.07012111755208102,
           0.16072419252638054,
           0.13913844777984205,
           0.1424669125429589,
           0.048911764786917514,
           0.07588342886086984,
           0.10416348917859172,
           0.1026894781063612,
           0.09980988059978514,
           0.18009058138950562,
           0.042833236185528104,
           0.15501625049098314,
           0.013736354925550635,
           0.006237396498090535,
           0.018916317157355644,
           0.01998959132283653,
           0.055664400810404024,
           0.02119282212095204,
           0.01379151206075403,
           0.030768298116639073,
           0.02819495550290726,
           0.04595083441189953,
           0.06785879562851475,
           0.09886433535491355,
           0.036615599302422475,
           0.09256372649835255,
           0.07731719399587965,
           0.7132506747020146,
           1,
           0.05354123570912136,
           -0.018288897374434787,
           0.03987833655063306,
           0.08131780394894321,
           0.060054895611083736,
           0.05416959932505735,
           0.028985773926649146,
           0.2471810802162546,
           0.26365752207178517,
           0.4403582180383002,
           0.23962346033861426,
           0.07187789365265146,
           0.05869701372749174,
           0.07946871654642819,
           0.06646708384949357,
           0.025126258593809035,
           0.0829914257228486
          ],
          [
           0.5570185186429231,
           0.5474523076837481,
           0.4732607443535863,
           0.4732901055928269,
           0.4253054219883695,
           0.4617304093614029,
           0.6098940720653342,
           0.5426452576875509,
           0.10590703864478444,
           0.3911394235118404,
           0.3667000965230523,
           0.4891456868243128,
           0.3214517883153399,
           0.45342569008101946,
           0.3837968587560651,
           0.2842504362586521,
           0.35116617389204763,
           0.40091438177483024,
           0.4175519965951526,
           0.3325395882049103,
           0.3166291933562008,
           0.3592900449748355,
           0.3270377657912163,
           0.1726328570769411,
           0.2455811373237247,
           0.21181589064776687,
           0.49337202222739973,
           0.4719449846264357,
           0.39660969643757693,
           0.376587548219719,
           0.4556811076745387,
           0.42630261519275126,
           0.12088924253080274,
           0.05354123570912136,
           1,
           0.19710572988793773,
           -0.020430019189859584,
           0.28960998794309795,
           0.5471834269853745,
           0.4040541977843513,
           0.39787403327299325,
           0.4176192714280721,
           0.25023043808656775,
           0.27851854249626734,
           0.4403848014088765,
           0.39033007276778725,
           0.41147462871471,
           0.35969160974770376,
           0.3970809731899555,
           0.46501727176466334,
           -0.4156786425624306
          ],
          [
           0.26409625219623956,
           0.2837724955206204,
           0.28317662719036985,
           0.22853677043291448,
           0.19632824206317817,
           0.19613335090524953,
           0.29450291558632596,
           0.2635503321211372,
           0.16220611241405195,
           0.23890322877039055,
           0.19358032366687028,
           0.29924099743692034,
           0.18019659971871327,
           0.2670770424221074,
           0.23570136287955845,
           0.21976428217120544,
           0.24295392382060732,
           0.20365518076905345,
           0.2688884550448548,
           0.2911585310910872,
           0.28861032741623444,
           0.2574550638736535,
           0.23689606296496993,
           0.12677445925810923,
           0.24647052663331936,
           0.16363797130859456,
           0.2705522154012383,
           0.26439487424426233,
           0.2601230581164681,
           0.3214070596036328,
           0.2905041790380519,
           0.23480482907856143,
           0.005665584541322422,
           -0.018288897374434787,
           0.19710572988793773,
           1,
           -0.001163247070032931,
           0.21145356131447277,
           0.31780065277266345,
           0.2357785151625578,
           0.20255306178142768,
           0.15684562997577386,
           0.10429460114703776,
           0.0693624586822629,
           0.17380188723690337,
           0.22483286873317704,
           0.23481392918468527,
           0.2182051637047876,
           0.23621314387340442,
           0.2550467862450668,
           -0.2161641547812421
          ],
          [
           -0.00832281443417428,
           0.008595364481862211,
           0.04743014993688743,
           0.010122689181152366,
           -0.004072389024737767,
           0.0168024996896376,
           0.016384155738958732,
           0.0034524020723340097,
           0.045907135441374335,
           -0.0006008995374820045,
           -0.006845511470731351,
           0.03491189401771972,
           0.024757384962470708,
           0.00920152189538116,
           0.21619760022453383,
           0.01579181773262725,
           -0.00529331245680138,
           0.03513795069255557,
           0.01432807750870715,
           0.03851495735272421,
           0.02221156403995291,
           -0.010651308056598377,
           0.016257708956449842,
           0.015083024187481815,
           0.013209148267245554,
           0.018325373902788437,
           -0.006054402159976266,
           -0.012184667482709877,
           0.25991449470796335,
           0.0010078778876427639,
           -0.003682488990638929,
           -0.004635767909132064,
           0.08659118089809088,
           0.03987833655063306,
           -0.020430019189859584,
           -0.001163247070032931,
           1,
           0.018195586652484122,
           -0.012686013243141475,
           -0.009942489723252235,
           -0.009222817676810057,
           -0.027345707429751363,
           -0.02678557112456927,
           0.017968170616010463,
           0.014632504251090828,
           -0.0007268691219240453,
           0.005186350348160323,
           0.012354069260565079,
           0.011121856724520677,
           -0.008530331755221294,
           0.01881815945284038
          ],
          [
           0.3559981921639174,
           0.4232737024741024,
           0.39079326422412425,
           0.3249111149324639,
           0.30320421628233085,
           0.34343445630850794,
           0.3525392645543579,
           0.3329577427728272,
           0.3137227574261082,
           0.31275886345982895,
           0.27059924791547896,
           0.39628070085723616,
           0.33210736736643415,
           0.33698356836448096,
           0.34848551669834754,
           0.26751373525377997,
           0.33353422025529045,
           0.30016740520987417,
           0.31373232940726675,
           0.29665879504662845,
           0.28332204413189854,
           0.35128125279910444,
           0.25663217924155235,
           0.2432518725339132,
           0.2336200955968518,
           0.1839518832690501,
           0.28115979478358927,
           0.2690038571470564,
           0.3354611152431554,
           0.32904696397262834,
           0.34065448386888714,
           0.18537562440811484,
           0.14985798792171334,
           0.08131780394894321,
           0.28960998794309795,
           0.21145356131447277,
           0.018195586652484122,
           1,
           0.4307362941612988,
           0.3079864629711299,
           0.3005928151701002,
           0.2923369454686998,
           0.22602704519127956,
           0.24073696186595714,
           0.36325498301914216,
           0.36655302780074217,
           0.3456003655547042,
           0.45385858233194804,
           0.3847781451672853,
           0.33658009785619436,
           -0.2441467656597611
          ],
          [
           0.7075638893159627,
           0.750767819870406,
           0.6871898642316491,
           0.7032512354507733,
           0.6364799891897035,
           0.7164689605164505,
           0.7175382134480361,
           0.720174963489153,
           0.1914626864811557,
           0.6453659698934192,
           0.5549689898119775,
           0.6756060756037848,
           0.475582119650062,
           0.6620890938591014,
           0.6026485858150286,
           0.48006803595321235,
           0.4441158600516509,
           0.5361938740046014,
           0.591670143940252,
           0.5352115960602075,
           0.5392290728824912,
           0.5636021896972577,
           0.5499974768204465,
           0.4007210379914469,
           0.4927276687988822,
           0.32843215907845663,
           0.6262533748995724,
           0.6770627623371741,
           0.5755209290087221,
           0.6291162629502948,
           0.7157975431651499,
           0.4060012928690324,
           0.13876078104286865,
           0.060054895611083736,
           0.5471834269853745,
           0.31780065277266345,
           -0.012686013243141475,
           0.4307362941612988,
           1,
           0.6605508407125885,
           0.551436501346438,
           0.38548433154761264,
           0.2603365812541718,
           0.23337664487449555,
           0.509645786052913,
           0.6468454202617381,
           0.6738289551447052,
           0.600017595759714,
           0.6499506809541532,
           0.7781556103647106,
           -0.4918036472575633
          ],
          [
           0.6378713129712406,
           0.6204407692620938,
           0.5376614424928259,
           0.5847724033769662,
           0.5664367392944711,
           0.6405991673457276,
           0.5740242882531451,
           0.590487131833594,
           0.08071701068910388,
           0.6047948834094576,
           0.4886801841042857,
           0.5566574514701305,
           0.37705781522545273,
           0.595867266819898,
           0.4962069173179237,
           0.4557678094873487,
           0.26032629549046266,
           0.4728045921824845,
           0.5452298603822278,
           0.46043971979933673,
           0.4958729251715832,
           0.4460860685967391,
           0.5553935685553125,
           0.393870178767814,
           0.4671120562353997,
           0.293334023559034,
           0.5722214320601244,
           0.5531605963378754,
           0.36855656780022,
           0.45555142104733437,
           0.5452470080595186,
           0.21845212657841523,
           0.12089982920640406,
           0.05416959932505735,
           0.4040541977843513,
           0.2357785151625578,
           -0.009942489723252235,
           0.3079864629711299,
           0.6605508407125885,
           1,
           0.5921518932554658,
           0.206036934939744,
           0.15854951786453447,
           0.16784821456529636,
           0.3738249695023993,
           0.6614212543648753,
           0.6976273156265452,
           0.6500731648284862,
           0.6755961378886703,
           0.7373064370753925,
           -0.31364999217016404
          ],
          [
           0.5108029888361042,
           0.5077975956777349,
           0.40733376985814385,
           0.44563512010825973,
           0.4647498454375484,
           0.563023349644977,
           0.46099931217532425,
           0.4631467599308218,
           0.19153455183513496,
           0.5282018700585327,
           0.4504664636099752,
           0.46614207276734615,
           0.3945797494825673,
           0.4995852915158965,
           0.41331737390686973,
           0.4271142381339735,
           0.27880973509829904,
           0.4659294491446058,
           0.4651610464830894,
           0.42810870202404677,
           0.4391460055596356,
           0.38218656486480285,
           0.4549540312449281,
           0.3649397995526182,
           0.3558328839469778,
           0.2431794279031606,
           0.4290723578684955,
           0.4220974735286953,
           0.3145395270537595,
           0.3595624925965362,
           0.4289291557630774,
           0.18278903626395737,
           0.14097512138565058,
           0.028985773926649146,
           0.39787403327299325,
           0.20255306178142768,
           -0.009222817676810057,
           0.3005928151701002,
           0.551436501346438,
           0.5921518932554658,
           1,
           0.21623856798735847,
           0.17745243280291462,
           0.17337882304728439,
           0.36337677817374114,
           0.5160111629842773,
           0.5461557023060826,
           0.4957787817882956,
           0.5365497351981318,
           0.5873066497630005,
           -0.30017560803471044
          ],
          [
           0.4045418135244292,
           0.4615653750578708,
           0.44613870911478576,
           0.3349490863492739,
           0.2076248286592401,
           0.20912821632175163,
           0.509638798526184,
           0.4576506006059505,
           0.176454953290177,
           0.1512884917481906,
           0.07158902006188769,
           0.36296252610271335,
           0.3359257224392658,
           0.31034341627436135,
           0.40252826154327487,
           -0.002220547371771406,
           0.31601867469574046,
           0.09608638053906049,
           0.17864443026026416,
           0.06881835162563363,
           0.055528094360354115,
           0.23322987631655265,
           0.06961266272200993,
           0.03508847981488751,
           0.04478544869429665,
           0.0427944605898533,
           0.3569803358201013,
           0.3659111464422843,
           0.39795073602032605,
           0.28173695050249403,
           0.40288655035283477,
           0.5267742563826805,
           0.2603099822352048,
           0.2471810802162546,
           0.4176192714280721,
           0.15684562997577386,
           -0.027345707429751363,
           0.2923369454686998,
           0.38548433154761264,
           0.206036934939744,
           0.21623856798735847,
           1,
           0.4034641886070703,
           0.46302812493521334,
           0.5731017832793087,
           0.16505049519798518,
           0.16787912983168593,
           0.16440944093503146,
           0.1672949367731743,
           0.2225406934585085,
           -0.350732142397985
          ],
          [
           0.2568237403068192,
           0.29357857582533037,
           0.29866647278444036,
           0.2002868316578304,
           0.20677077220236958,
           0.22464551713513436,
           0.2669179418764483,
           0.22523982286185815,
           0.19341996832431618,
           0.18187493809784125,
           0.17914857373955367,
           0.24906822216900354,
           0.2099659814678035,
           0.2221102553466965,
           0.24389475931911458,
           0.13181824553257124,
           0.21931304571256904,
           0.17804963245631783,
           0.17694962236658793,
           0.13029962095547115,
           0.13721924019638398,
           0.20070591161423615,
           0.1501177962747636,
           0.14432535371772953,
           0.13332803408952232,
           0.16122282981809932,
           0.21506517110843484,
           0.14413218923314958,
           0.18136302784934188,
           0.1784471530184763,
           0.17417992492928044,
           0.0857789615905629,
           0.22831888734384878,
           0.26365752207178517,
           0.25023043808656775,
           0.10429460114703776,
           -0.02678557112456927,
           0.22602704519127956,
           0.2603365812541718,
           0.15854951786453447,
           0.17745243280291462,
           0.4034641886070703,
           1,
           0.4350696991126981,
           0.3991591156560138,
           0.16083304841087787,
           0.16301650329911804,
           0.17684543798971344,
           0.1667059236760484,
           0.1599100211886797,
           -0.03999113426038824
          ],
          [
           0.2844119781287609,
           0.3234414205706696,
           0.29645070963584147,
           0.19193963431925856,
           0.19446857453663213,
           0.23596196842844802,
           0.3016118744730466,
           0.24715847007350886,
           0.23295102123322017,
           0.17939104322566862,
           0.2131335984835697,
           0.27645471929421833,
           0.23472290675251614,
           0.2369619546187504,
           0.29226996722094434,
           0.0849519377823232,
           0.3200712814879738,
           0.16416247906366624,
           0.15321185492504857,
           0.13989463651733572,
           0.11974991428504864,
           0.22102479793003668,
           0.15004864006905008,
           0.10000794543440604,
           0.10602175063356999,
           0.1281236351147098,
           0.2576968086076078,
           0.152897151523928,
           0.18112371844401887,
           0.14137798355447956,
           0.19720013095818736,
           0.09043060959608226,
           0.3641548809940711,
           0.4403582180383002,
           0.27851854249626734,
           0.0693624586822629,
           0.017968170616010463,
           0.24073696186595714,
           0.23337664487449555,
           0.16784821456529636,
           0.17337882304728439,
           0.46302812493521334,
           0.4350696991126981,
           1,
           0.590788155879497,
           0.18305138952340397,
           0.1738828964930574,
           0.20716982774022086,
           0.18961439855446946,
           0.15994971162628047,
           -0.016878871873401563
          ],
          [
           0.5111095584314516,
           0.5563246838566427,
           0.5029393164564732,
           0.43884248206408155,
           0.394268809079701,
           0.4359662536805384,
           0.5497078976643283,
           0.5171651358833259,
           0.2549330189021152,
           0.410355518440622,
           0.37981523052912236,
           0.4883206661730029,
           0.42432472507903307,
           0.4747431117781299,
           0.46875273023546693,
           0.2806445546203881,
           0.3991388312208947,
           0.36104361391601625,
           0.39634884712511764,
           0.3324360624381953,
           0.31751194003557653,
           0.4231256231269835,
           0.32883042346838864,
           0.2376428131614765,
           0.24433409604876205,
           0.19107427930607093,
           0.3755865099496338,
           0.37642302348687157,
           0.4223445324708906,
           0.3861066034740377,
           0.47320903894941774,
           0.2993626400995219,
           0.2800234687032829,
           0.23962346033861426,
           0.4403848014088765,
           0.17380188723690337,
           0.014632504251090828,
           0.36325498301914216,
           0.509645786052913,
           0.3738249695023993,
           0.36337677817374114,
           0.5731017832793087,
           0.3991591156560138,
           0.590788155879497,
           1,
           0.37131321652276555,
           0.3801207196126565,
           0.3949522981630342,
           0.38646852199295423,
           0.42807328442740394,
           -0.27391636539225067
          ],
          [
           0.6252508945175363,
           0.6314332770374971,
           0.5239535501548708,
           0.5999624645324421,
           0.6118447670711351,
           0.6609965247334525,
           0.5578322523669108,
           0.572100751106501,
           0.11294701338724172,
           0.6441964416112823,
           0.5723333926152679,
           0.5577337525030884,
           0.33662753362090664,
           0.5866947511627675,
           0.4088433778958628,
           0.5029090678944146,
           0.30963630918657836,
           0.5033789143147267,
           0.5686541057214394,
           0.5381124326832711,
           0.5585210550052139,
           0.5245331469647287,
           0.5962279648597328,
           0.40054797203403386,
           0.47523700923109913,
           0.29458745217687116,
           0.5111048376100407,
           0.5142993135259799,
           0.39215070246746064,
           0.41615958799148317,
           0.5267397196384527,
           0.17748945178735778,
           0.14998968597793072,
           0.07187789365265146,
           0.39033007276778725,
           0.22483286873317704,
           -0.0007268691219240453,
           0.36655302780074217,
           0.6468454202617381,
           0.6614212543648753,
           0.5160111629842773,
           0.16505049519798518,
           0.16083304841087787,
           0.18305138952340397,
           0.37131321652276555,
           1,
           0.9284668573200453,
           0.8786930421253877,
           0.8860932658510795,
           0.7330538302193292,
           -0.27249943510878905
          ],
          [
           0.6618091515232429,
           0.6590473221150064,
           0.5492083584310861,
           0.6313338255202524,
           0.6359602754752403,
           0.6958868503945299,
           0.5951250833063869,
           0.6051219356757271,
           0.08492993194510026,
           0.6878785559331427,
           0.6079598628446277,
           0.5792080479220418,
           0.3473300443568964,
           0.6130067611830816,
           0.4241299065353854,
           0.5114016922006152,
           0.28961234980423917,
           0.5297290351819935,
           0.5959385926868545,
           0.5493438952397963,
           0.5780474615160193,
           0.5263818523493969,
           0.6330331687431976,
           0.4222924342113422,
           0.4974140461611267,
           0.30223086947482497,
           0.530747361805125,
           0.5475137216247754,
           0.40943311967931084,
           0.43965476289337213,
           0.5627015933712799,
           0.19326835497526326,
           0.1358641879426983,
           0.05869701372749174,
           0.41147462871471,
           0.23481392918468527,
           0.005186350348160323,
           0.3456003655547042,
           0.6738289551447052,
           0.6976273156265452,
           0.5461557023060826,
           0.16787912983168593,
           0.16301650329911804,
           0.1738828964930574,
           0.3801207196126565,
           0.9284668573200453,
           1,
           0.8534585147340737,
           0.9170763167613979,
           0.7775287778036838,
           -0.30211627958685955
          ],
          [
           0.5732019395253792,
           0.606271373692499,
           0.4841394680288109,
           0.5456530938177496,
           0.5647990129703303,
           0.6214209547131031,
           0.5258259613250792,
           0.5476561684092254,
           0.15200620130865675,
           0.6086233769034437,
           0.5413144282916286,
           0.5235329212853377,
           0.34006931965638715,
           0.5410870984196775,
           0.3973778448292744,
           0.4864783883192261,
           0.30009323415818834,
           0.484209089155702,
           0.5223388703426015,
           0.5091922979623478,
           0.5310599923830668,
           0.4810292400843924,
           0.5536978745860301,
           0.39129156528217995,
           0.4259229057380596,
           0.28190765679233215,
           0.4624489199193025,
           0.46958851838514093,
           0.3610050435496658,
           0.3935551039567523,
           0.4997931354185489,
           0.1538690099172876,
           0.15352145668923722,
           0.07946871654642819,
           0.35969160974770376,
           0.2182051637047876,
           0.012354069260565079,
           0.45385858233194804,
           0.600017595759714,
           0.6500731648284862,
           0.4957787817882956,
           0.16440944093503146,
           0.17684543798971344,
           0.20716982774022086,
           0.3949522981630342,
           0.8786930421253877,
           0.8534585147340737,
           1,
           0.9107729277529583,
           0.6854762089894558,
           -0.24027550364727654
          ],
          [
           0.6371206036205501,
           0.6513961404337462,
           0.5279920596346627,
           0.6041354608804558,
           0.6195373705633354,
           0.6771870112273729,
           0.5769302027310956,
           0.5924276248317244,
           0.11680642569762867,
           0.6667670719066664,
           0.5906290834890162,
           0.5648673561426599,
           0.3486747166025028,
           0.5913737177667031,
           0.420276335242628,
           0.5109381110064165,
           0.2979845303941687,
           0.5204856738672784,
           0.5733407855538843,
           0.5392770779700972,
           0.563925652820273,
           0.51210046273267,
           0.6151736683455816,
           0.41369210125303607,
           0.4769583767792605,
           0.29740834309862274,
           0.5153044837497345,
           0.5354878515860316,
           0.39410356961140686,
           0.42817836772394885,
           0.5378754104409059,
           0.17973755531315008,
           0.1411696813754989,
           0.06646708384949357,
           0.3970809731899555,
           0.23621314387340442,
           0.011121856724520677,
           0.3847781451672853,
           0.6499506809541532,
           0.6755961378886703,
           0.5365497351981318,
           0.1672949367731743,
           0.1667059236760484,
           0.18961439855446946,
           0.38646852199295423,
           0.8860932658510795,
           0.9170763167613979,
           0.9107729277529583,
           1,
           0.7563738155513149,
           -0.27801741644507766
          ],
          [
           0.7061938975650135,
           0.6986932845768403,
           0.6125544978918607,
           0.7013328014373192,
           0.673575493045967,
           0.7571440246499415,
           0.6728430324485207,
           0.7073514405662737,
           0.0675524141755284,
           0.7237266228963287,
           0.61217953182988,
           0.6399394699810799,
           0.4077540676114826,
           0.6712473294076593,
           0.5416593910572758,
           0.557115440832714,
           0.35143264512870853,
           0.5917885140085551,
           0.6375106036141994,
           0.5774047659452962,
           0.6023779462999487,
           0.5763270852968816,
           0.6448986546663455,
           0.4634065085571624,
           0.542193257788705,
           0.3355705654406207,
           0.6039963345836661,
           0.6426800522866614,
           0.47274111782476586,
           0.5373298533334128,
           0.664020176577493,
           0.26241576302678576,
           0.10366936701145789,
           0.025126258593809035,
           0.46501727176466334,
           0.2550467862450668,
           -0.008530331755221294,
           0.33658009785619436,
           0.7781556103647106,
           0.7373064370753925,
           0.5873066497630005,
           0.2225406934585085,
           0.1599100211886797,
           0.15994971162628047,
           0.42807328442740394,
           0.7330538302193292,
           0.7775287778036838,
           0.6854762089894558,
           0.7563738155513149,
           1,
           -0.4153406507252437
          ],
          [
           -0.37808982145859865,
           -0.3991823558855094,
           -0.366808660897645,
           -0.42330686933392364,
           -0.3291077967031134,
           -0.31478456505751523,
           -0.4604434230736039,
           -0.4460733522854201,
           -0.08555316783298815,
           -0.2899705757096843,
           -0.20827380919620522,
           -0.37286386015330175,
           -0.3275928180600759,
           -0.3462175768793729,
           -0.3538336870341219,
           -0.17330571371806644,
           -0.24741958209059187,
           -0.25338885971096936,
           -0.29319912347842375,
           -0.23054505265014477,
           -0.2233358440054535,
           -0.24769782569683016,
           -0.18653304971998266,
           -0.17301743465021324,
           -0.22063196944181648,
           -0.11839901342908002,
           -0.4014765727322908,
           -0.42961950433983803,
           -0.3761292323492862,
           -0.3129384840185257,
           -0.4499598564419817,
           -0.5264625058925444,
           0.020741403163522205,
           0.0829914257228486,
           -0.4156786425624306,
           -0.2161641547812421,
           0.01881815945284038,
           -0.2441467656597611,
           -0.4918036472575633,
           -0.31364999217016404,
           -0.30017560803471044,
           -0.350732142397985,
           -0.03999113426038824,
           -0.016878871873401563,
           -0.27391636539225067,
           -0.27249943510878905,
           -0.30211627958685955,
           -0.24027550364727654,
           -0.27801741644507766,
           -0.4153406507252437,
           1
          ]
         ]
        }
       ],
       "layout": {
        "coloraxis": {
         "colorbar": {
          "title": {
           "text": "Correlation"
          }
         },
         "colorscale": [
          [
           0,
           "#440154"
          ],
          [
           0.1111111111111111,
           "#482878"
          ],
          [
           0.2222222222222222,
           "#3e4989"
          ],
          [
           0.3333333333333333,
           "#31688e"
          ],
          [
           0.4444444444444444,
           "#26828e"
          ],
          [
           0.5555555555555556,
           "#1f9e89"
          ],
          [
           0.6666666666666666,
           "#35b779"
          ],
          [
           0.7777777777777778,
           "#6ece58"
          ],
          [
           0.8888888888888888,
           "#b5de2b"
          ],
          [
           1,
           "#fde725"
          ]
         ]
        },
        "height": 800,
        "margin": {
         "t": 60
        },
        "template": {
         "data": {
          "bar": [
           {
            "error_x": {
             "color": "#2a3f5f"
            },
            "error_y": {
             "color": "#2a3f5f"
            },
            "marker": {
             "line": {
              "color": "#E5ECF6",
              "width": 0.5
             },
             "pattern": {
              "fillmode": "overlay",
              "size": 10,
              "solidity": 0.2
             }
            },
            "type": "bar"
           }
          ],
          "barpolar": [
           {
            "marker": {
             "line": {
              "color": "#E5ECF6",
              "width": 0.5
             },
             "pattern": {
              "fillmode": "overlay",
              "size": 10,
              "solidity": 0.2
             }
            },
            "type": "barpolar"
           }
          ],
          "carpet": [
           {
            "aaxis": {
             "endlinecolor": "#2a3f5f",
             "gridcolor": "white",
             "linecolor": "white",
             "minorgridcolor": "white",
             "startlinecolor": "#2a3f5f"
            },
            "baxis": {
             "endlinecolor": "#2a3f5f",
             "gridcolor": "white",
             "linecolor": "white",
             "minorgridcolor": "white",
             "startlinecolor": "#2a3f5f"
            },
            "type": "carpet"
           }
          ],
          "choropleth": [
           {
            "colorbar": {
             "outlinewidth": 0,
             "ticks": ""
            },
            "type": "choropleth"
           }
          ],
          "contour": [
           {
            "colorbar": {
             "outlinewidth": 0,
             "ticks": ""
            },
            "colorscale": [
             [
              0,
              "#0d0887"
             ],
             [
              0.1111111111111111,
              "#46039f"
             ],
             [
              0.2222222222222222,
              "#7201a8"
             ],
             [
              0.3333333333333333,
              "#9c179e"
             ],
             [
              0.4444444444444444,
              "#bd3786"
             ],
             [
              0.5555555555555556,
              "#d8576b"
             ],
             [
              0.6666666666666666,
              "#ed7953"
             ],
             [
              0.7777777777777778,
              "#fb9f3a"
             ],
             [
              0.8888888888888888,
              "#fdca26"
             ],
             [
              1,
              "#f0f921"
             ]
            ],
            "type": "contour"
           }
          ],
          "contourcarpet": [
           {
            "colorbar": {
             "outlinewidth": 0,
             "ticks": ""
            },
            "type": "contourcarpet"
           }
          ],
          "heatmap": [
           {
            "colorbar": {
             "outlinewidth": 0,
             "ticks": ""
            },
            "colorscale": [
             [
              0,
              "#0d0887"
             ],
             [
              0.1111111111111111,
              "#46039f"
             ],
             [
              0.2222222222222222,
              "#7201a8"
             ],
             [
              0.3333333333333333,
              "#9c179e"
             ],
             [
              0.4444444444444444,
              "#bd3786"
             ],
             [
              0.5555555555555556,
              "#d8576b"
             ],
             [
              0.6666666666666666,
              "#ed7953"
             ],
             [
              0.7777777777777778,
              "#fb9f3a"
             ],
             [
              0.8888888888888888,
              "#fdca26"
             ],
             [
              1,
              "#f0f921"
             ]
            ],
            "type": "heatmap"
           }
          ],
          "heatmapgl": [
           {
            "colorbar": {
             "outlinewidth": 0,
             "ticks": ""
            },
            "colorscale": [
             [
              0,
              "#0d0887"
             ],
             [
              0.1111111111111111,
              "#46039f"
             ],
             [
              0.2222222222222222,
              "#7201a8"
             ],
             [
              0.3333333333333333,
              "#9c179e"
             ],
             [
              0.4444444444444444,
              "#bd3786"
             ],
             [
              0.5555555555555556,
              "#d8576b"
             ],
             [
              0.6666666666666666,
              "#ed7953"
             ],
             [
              0.7777777777777778,
              "#fb9f3a"
             ],
             [
              0.8888888888888888,
              "#fdca26"
             ],
             [
              1,
              "#f0f921"
             ]
            ],
            "type": "heatmapgl"
           }
          ],
          "histogram": [
           {
            "marker": {
             "pattern": {
              "fillmode": "overlay",
              "size": 10,
              "solidity": 0.2
             }
            },
            "type": "histogram"
           }
          ],
          "histogram2d": [
           {
            "colorbar": {
             "outlinewidth": 0,
             "ticks": ""
            },
            "colorscale": [
             [
              0,
              "#0d0887"
             ],
             [
              0.1111111111111111,
              "#46039f"
             ],
             [
              0.2222222222222222,
              "#7201a8"
             ],
             [
              0.3333333333333333,
              "#9c179e"
             ],
             [
              0.4444444444444444,
              "#bd3786"
             ],
             [
              0.5555555555555556,
              "#d8576b"
             ],
             [
              0.6666666666666666,
              "#ed7953"
             ],
             [
              0.7777777777777778,
              "#fb9f3a"
             ],
             [
              0.8888888888888888,
              "#fdca26"
             ],
             [
              1,
              "#f0f921"
             ]
            ],
            "type": "histogram2d"
           }
          ],
          "histogram2dcontour": [
           {
            "colorbar": {
             "outlinewidth": 0,
             "ticks": ""
            },
            "colorscale": [
             [
              0,
              "#0d0887"
             ],
             [
              0.1111111111111111,
              "#46039f"
             ],
             [
              0.2222222222222222,
              "#7201a8"
             ],
             [
              0.3333333333333333,
              "#9c179e"
             ],
             [
              0.4444444444444444,
              "#bd3786"
             ],
             [
              0.5555555555555556,
              "#d8576b"
             ],
             [
              0.6666666666666666,
              "#ed7953"
             ],
             [
              0.7777777777777778,
              "#fb9f3a"
             ],
             [
              0.8888888888888888,
              "#fdca26"
             ],
             [
              1,
              "#f0f921"
             ]
            ],
            "type": "histogram2dcontour"
           }
          ],
          "mesh3d": [
           {
            "colorbar": {
             "outlinewidth": 0,
             "ticks": ""
            },
            "type": "mesh3d"
           }
          ],
          "parcoords": [
           {
            "line": {
             "colorbar": {
              "outlinewidth": 0,
              "ticks": ""
             }
            },
            "type": "parcoords"
           }
          ],
          "pie": [
           {
            "automargin": true,
            "type": "pie"
           }
          ],
          "scatter": [
           {
            "fillpattern": {
             "fillmode": "overlay",
             "size": 10,
             "solidity": 0.2
            },
            "type": "scatter"
           }
          ],
          "scatter3d": [
           {
            "line": {
             "colorbar": {
              "outlinewidth": 0,
              "ticks": ""
             }
            },
            "marker": {
             "colorbar": {
              "outlinewidth": 0,
              "ticks": ""
             }
            },
            "type": "scatter3d"
           }
          ],
          "scattercarpet": [
           {
            "marker": {
             "colorbar": {
              "outlinewidth": 0,
              "ticks": ""
             }
            },
            "type": "scattercarpet"
           }
          ],
          "scattergeo": [
           {
            "marker": {
             "colorbar": {
              "outlinewidth": 0,
              "ticks": ""
             }
            },
            "type": "scattergeo"
           }
          ],
          "scattergl": [
           {
            "marker": {
             "colorbar": {
              "outlinewidth": 0,
              "ticks": ""
             }
            },
            "type": "scattergl"
           }
          ],
          "scattermapbox": [
           {
            "marker": {
             "colorbar": {
              "outlinewidth": 0,
              "ticks": ""
             }
            },
            "type": "scattermapbox"
           }
          ],
          "scatterpolar": [
           {
            "marker": {
             "colorbar": {
              "outlinewidth": 0,
              "ticks": ""
             }
            },
            "type": "scatterpolar"
           }
          ],
          "scatterpolargl": [
           {
            "marker": {
             "colorbar": {
              "outlinewidth": 0,
              "ticks": ""
             }
            },
            "type": "scatterpolargl"
           }
          ],
          "scatterternary": [
           {
            "marker": {
             "colorbar": {
              "outlinewidth": 0,
              "ticks": ""
             }
            },
            "type": "scatterternary"
           }
          ],
          "surface": [
           {
            "colorbar": {
             "outlinewidth": 0,
             "ticks": ""
            },
            "colorscale": [
             [
              0,
              "#0d0887"
             ],
             [
              0.1111111111111111,
              "#46039f"
             ],
             [
              0.2222222222222222,
              "#7201a8"
             ],
             [
              0.3333333333333333,
              "#9c179e"
             ],
             [
              0.4444444444444444,
              "#bd3786"
             ],
             [
              0.5555555555555556,
              "#d8576b"
             ],
             [
              0.6666666666666666,
              "#ed7953"
             ],
             [
              0.7777777777777778,
              "#fb9f3a"
             ],
             [
              0.8888888888888888,
              "#fdca26"
             ],
             [
              1,
              "#f0f921"
             ]
            ],
            "type": "surface"
           }
          ],
          "table": [
           {
            "cells": {
             "fill": {
              "color": "#EBF0F8"
             },
             "line": {
              "color": "white"
             }
            },
            "header": {
             "fill": {
              "color": "#C8D4E3"
             },
             "line": {
              "color": "white"
             }
            },
            "type": "table"
           }
          ]
         },
         "layout": {
          "annotationdefaults": {
           "arrowcolor": "#2a3f5f",
           "arrowhead": 0,
           "arrowwidth": 1
          },
          "autotypenumbers": "strict",
          "coloraxis": {
           "colorbar": {
            "outlinewidth": 0,
            "ticks": ""
           }
          },
          "colorscale": {
           "diverging": [
            [
             0,
             "#8e0152"
            ],
            [
             0.1,
             "#c51b7d"
            ],
            [
             0.2,
             "#de77ae"
            ],
            [
             0.3,
             "#f1b6da"
            ],
            [
             0.4,
             "#fde0ef"
            ],
            [
             0.5,
             "#f7f7f7"
            ],
            [
             0.6,
             "#e6f5d0"
            ],
            [
             0.7,
             "#b8e186"
            ],
            [
             0.8,
             "#7fbc41"
            ],
            [
             0.9,
             "#4d9221"
            ],
            [
             1,
             "#276419"
            ]
           ],
           "sequential": [
            [
             0,
             "#0d0887"
            ],
            [
             0.1111111111111111,
             "#46039f"
            ],
            [
             0.2222222222222222,
             "#7201a8"
            ],
            [
             0.3333333333333333,
             "#9c179e"
            ],
            [
             0.4444444444444444,
             "#bd3786"
            ],
            [
             0.5555555555555556,
             "#d8576b"
            ],
            [
             0.6666666666666666,
             "#ed7953"
            ],
            [
             0.7777777777777778,
             "#fb9f3a"
            ],
            [
             0.8888888888888888,
             "#fdca26"
            ],
            [
             1,
             "#f0f921"
            ]
           ],
           "sequentialminus": [
            [
             0,
             "#0d0887"
            ],
            [
             0.1111111111111111,
             "#46039f"
            ],
            [
             0.2222222222222222,
             "#7201a8"
            ],
            [
             0.3333333333333333,
             "#9c179e"
            ],
            [
             0.4444444444444444,
             "#bd3786"
            ],
            [
             0.5555555555555556,
             "#d8576b"
            ],
            [
             0.6666666666666666,
             "#ed7953"
            ],
            [
             0.7777777777777778,
             "#fb9f3a"
            ],
            [
             0.8888888888888888,
             "#fdca26"
            ],
            [
             1,
             "#f0f921"
            ]
           ]
          },
          "colorway": [
           "#636efa",
           "#EF553B",
           "#00cc96",
           "#ab63fa",
           "#FFA15A",
           "#19d3f3",
           "#FF6692",
           "#B6E880",
           "#FF97FF",
           "#FECB52"
          ],
          "font": {
           "color": "#2a3f5f"
          },
          "geo": {
           "bgcolor": "white",
           "lakecolor": "white",
           "landcolor": "#E5ECF6",
           "showlakes": true,
           "showland": true,
           "subunitcolor": "white"
          },
          "hoverlabel": {
           "align": "left"
          },
          "hovermode": "closest",
          "mapbox": {
           "style": "light"
          },
          "paper_bgcolor": "white",
          "plot_bgcolor": "#E5ECF6",
          "polar": {
           "angularaxis": {
            "gridcolor": "white",
            "linecolor": "white",
            "ticks": ""
           },
           "bgcolor": "#E5ECF6",
           "radialaxis": {
            "gridcolor": "white",
            "linecolor": "white",
            "ticks": ""
           }
          },
          "scene": {
           "xaxis": {
            "backgroundcolor": "#E5ECF6",
            "gridcolor": "white",
            "gridwidth": 2,
            "linecolor": "white",
            "showbackground": true,
            "ticks": "",
            "zerolinecolor": "white"
           },
           "yaxis": {
            "backgroundcolor": "#E5ECF6",
            "gridcolor": "white",
            "gridwidth": 2,
            "linecolor": "white",
            "showbackground": true,
            "ticks": "",
            "zerolinecolor": "white"
           },
           "zaxis": {
            "backgroundcolor": "#E5ECF6",
            "gridcolor": "white",
            "gridwidth": 2,
            "linecolor": "white",
            "showbackground": true,
            "ticks": "",
            "zerolinecolor": "white"
           }
          },
          "shapedefaults": {
           "line": {
            "color": "#2a3f5f"
           }
          },
          "ternary": {
           "aaxis": {
            "gridcolor": "white",
            "linecolor": "white",
            "ticks": ""
           },
           "baxis": {
            "gridcolor": "white",
            "linecolor": "white",
            "ticks": ""
           },
           "bgcolor": "#E5ECF6",
           "caxis": {
            "gridcolor": "white",
            "linecolor": "white",
            "ticks": ""
           }
          },
          "title": {
           "x": 0.05
          },
          "xaxis": {
           "automargin": true,
           "gridcolor": "white",
           "linecolor": "white",
           "ticks": "",
           "title": {
            "standoff": 15
           },
           "zerolinecolor": "white",
           "zerolinewidth": 2
          },
          "yaxis": {
           "automargin": true,
           "gridcolor": "white",
           "linecolor": "white",
           "ticks": "",
           "title": {
            "standoff": 15
           },
           "zerolinecolor": "white",
           "zerolinewidth": 2
          }
         }
        },
        "title": {
         "text": "Heatmap - Ma trận tương quan"
        },
        "width": 800,
        "xaxis": {
         "anchor": "y",
         "autorange": true,
         "constrain": "domain",
         "domain": [
          0,
          1
         ],
         "range": [
          -0.5,
          50.5
         ],
         "scaleanchor": "y",
         "title": {
          "text": "Cột"
         },
         "type": "category"
        },
        "yaxis": {
         "anchor": "x",
         "autorange": true,
         "constrain": "domain",
         "domain": [
          0.046212121212121204,
          0.9537878787878789
         ],
         "range": [
          50.5,
          -0.5
         ],
         "title": {
          "text": "Cột"
         },
         "type": "category"
        }
       }
      },
      "image/png": "[encoded data removed]",
      "text/html": [
       "<div>                            <div id=\"d4e26a0a-8acf-4c0c-b200-77f59aea7d59\" class=\"plotly-graph-div\" style=\"height:800px; width:800px;\"></div>            <script type=\"text/javascript\">                require([\"plotly\"], function(Plotly) {                    window.PLOTLYENV=window.PLOTLYENV || {};                                    if (document.getElementById(\"d4e26a0a-8acf-4c0c-b200-77f59aea7d59\")) {                    Plotly.newPlot(                        \"d4e26a0a-8acf-4c0c-b200-77f59aea7d59\",                        [{\"coloraxis\":\"coloraxis\",\"name\":\"0\",\"x\":[\"x1\",\"x2\",\"x3\",\"x4\",\"x5\",\"x6\",\"x7\",\"x8\",\"x9\",\"x10\",\"x11\",\"x12\",\"x13\",\"x14\",\"x15\",\"x16\",\"x17\",\"x18\",\"x19\",\"x20\",\"x21\",\"x22\",\"x23\",\"x24\",\"x25\",\"x26\",\"x27\",\"x28\",\"x30\",\"x31\",\"x32\",\"x33\",\"x34\",\"x35\",\"x36\",\"x37\",\"x38\",\"x39\",\"x41\",\"x42\",\"x43\",\"x44\",\"x45\",\"x46\",\"x47\",\"x48\",\"x49\",\"x50\",\"x51\",\"x54\",\"x55\"],\"y\":[\"x1\",\"x2\",\"x3\",\"x4\",\"x5\",\"x6\",\"x7\",\"x8\",\"x9\",\"x10\",\"x11\",\"x12\",\"x13\",\"x14\",\"x15\",\"x16\",\"x17\",\"x18\",\"x19\",\"x20\",\"x21\",\"x22\",\"x23\",\"x24\",\"x25\",\"x26\",\"x27\",\"x28\",\"x30\",\"x31\",\"x32\",\"x33\",\"x34\",\"x35\",\"x36\",\"x37\",\"x38\",\"x39\",\"x41\",\"x42\",\"x43\",\"x44\",\"x45\",\"x46\",\"x47\",\"x48\",\"x49\",\"x50\",\"x51\",\"x54\",\"x55\"],\"z\":[[1.0,0.7931416287143542,0.6991329952219533,0.6788330380206234,0.624917353142126,0.6428571944221042,0.7464013038530629,0.693835300236233,0.12835216021291723,0.6173423860206017,0.534214088594753,0.6627017027069086,0.41506033651677643,0.6632571009254538,0.5132490061848077,0.4245502600645855,0.3936412803492456,0.5133759556671785,0.5772668382061649,0.4979126698015633,0.5249913692186975,0.5339721380738501,0.5692501976217852,0.35209356105332607,0.46500334960317086,0.3130566524342821,0.6323124978198921,0.5898612111160837,0.5319412162535453,0.5049730578259981,0.6441556549494059,0.38342881093226094,0.1748084614034608,0.13058329718403844,0.5570185186429231,0.26409625219623956,-0.00832281443417428,0.3559981921639174,0.7075638893159627,0.6378713129712406,0.5108029888361042,0.4045418135244292,0.2568237403068192,0.2844119781287609,0.5111095584314516,0.6252508945175363,0.6618091515232429,0.5732019395253792,0.6371206036205501,0.7061938975650135,-0.37808982145859865],[0.7931416287143542,1.0,0.7252007727480883,0.7113045879878733,0.6496590803299944,0.6669482962260643,0.7746121939425099,0.746169923587021,0.2131649956723633,0.6220739167687485,0.5068835418003425,0.6931743341950688,0.4432196819120104,0.6689689330039348,0.5656705586059736,0.41604116664733065,0.41807864699680714,0.48045451304040604,0.5638717010663822,0.47954075079081276,0.4964245033428585,0.5717409275743105,0.5593027629412696,0.3790287712514784,0.46432248989976027,0.30147147639014055,0.645921472283775,0.6310322343886927,0.5849972640503811,0.5602658215646965,0.6989275513370241,0.43012761079411493,0.2109378951342807,0.1487158906920406,0.5474523076837481,0.2837724955206204,0.008595364481862211,0.4232737024741024,0.750767819870406,0.6204407692620938,0.5077975956777349,0.4615653750578708,0.29357857582533037,0.3234414205706696,0.5563246838566427,0.6314332770374971,0.6590473221150064,0.606271373692499,0.6513961404337462,0.6986932845768403,-0.3991823558855094],[0.6991329952219533,0.7252007727480883,1.0,0.6569407668032627,0.5829363127675791,0.5981268315567392,0.7379942798859452,0.7266682662339429,0.2245845307961931,0.5838380238830949,0.42755643477134714,0.672444956402906,0.45186238741439255,0.6386518470189383,0.5736751902791001,0.3875073575283286,0.39698272859642886,0.41164441306718064,0.4688468548226981,0.4368388197363894,0.45456117230346504,0.5144006791263402,0.4743026617684355,0.3350543490650096,0.40273206261030947,0.27808365133656604,0.5395839429242734,0.5551712098184997,0.5815010672436671,0.5773110697702601,0.6693600827179751,0.4503562172068854,0.20119460162144717,0.1880157134786056,0.4732607443535863,0.28317662719036985,0.04743014993688743,0.39079326422412425,0.6871898642316491,0.5376614424928259,0.40733376985814385,0.44613870911478576,0.29866647278444036,0.29645070963584147,0.5029393164564732,0.5239535501548708,0.5492083584310861,0.4841394680288109,0.5279920596346627,0.6125544978918607,-0.366808660897645],[0.6788330380206234,0.7113045879878733,0.6569407668032627,1.0,0.8164512179314672,0.6658918734035967,0.6924743377320387,0.6626148301433644,0.15292419928015435,0.5925766070578308,0.49034247359439503,0.6334185645109557,0.3766784472641258,0.6123399963070331,0.5079316290354574,0.420258926405325,0.35830344905790334,0.4695965346194461,0.5109360129384075,0.4536345304634819,0.4763966617510962,0.5244521612027406,0.5434903129504748,0.4684822490357892,0.5919234737356263,0.4327099997356415,0.6414688065015579,0.5923389570567907,0.5194345348537903,0.47837248008996874,0.6458571262901245,0.3898249409133595,0.16144132578933057,0.10463386873176517,0.4732901055928269,0.22853677043291448,0.010122689181152366,0.3249111149324639,0.7032512354507733,0.5847724033769662,0.44563512010825973,0.3349490863492739,0.2002868316578304,0.19193963431925856,0.43884248206408155,0.5999624645324421,0.6313338255202524,0.5456530938177496,0.6041354608804558,0.7013328014373192,-0.42330686933392364],[0.624917353142126,0.6496590803299944,0.5829363127675791,0.8164512179314672,1.0,0.7152102962950867,0.5965087461202537,0.5586823697262445,0.1779254150382717,0.6300909283883727,0.5387848026202097,0.5682423340390345,0.34620433759356034,0.5776273446742235,0.41924421754740193,0.4843240556510682,0.32876641040877563,0.5424663060453996,0.5368065583877749,0.5044244592969082,0.5254745405925723,0.5277367103671462,0.5993136909639415,0.5590266614015604,0.6401801651513754,0.5407163155201069,0.5902273497727311,0.49617906924804545,0.44616118747029493,0.40018996839135923,0.5407384727673381,0.21385756277434886,0.12887148313751987,0.06185331305101774,0.4253054219883695,0.19632824206317817,-0.004072389024737767,0.30320421628233085,0.6364799891897035,0.5664367392944711,0.4647498454375484,0.2076248286592401,0.20677077220236958,0.19446857453663213,0.394268809079701,0.6118447670711351,0.6359602754752403,0.5647990129703303,0.6195373705633354,0.673575493045967,-0.3291077967031134],[0.6428571944221042,0.6669482962260643,0.5981268315567392,0.6658918734035967,0.7152102962950867,1.0,0.622619902858976,0.6267267159331028,0.23830066517232337,0.7236163448807905,0.6179213655582081,0.6153993613617206,0.38620766003296503,0.6249945870694938,0.48369346510093203,0.5912968455202338,0.36861547052409566,0.6268588699313261,0.6245530779669032,0.588896894392358,0.5984095386055653,0.5915920070924237,0.6821189804157827,0.5584282993109537,0.5576193001908943,0.41860955239865016,0.5407037959765649,0.5334883959527844,0.43029338009225326,0.47114291613858517,0.5561575283957996,0.1550972036247179,0.1671917356201004,0.07012111755208102,0.4617304093614029,0.19613335090524953,0.0168024996896376,0.34343445630850794,0.7164689605164505,0.6405991673457276,0.563023349644977,0.20912821632175163,0.22464551713513436,0.23596196842844802,0.4359662536805384,0.6609965247334525,0.6958868503945299,0.6214209547131031,0.6771870112273729,0.7571440246499415,-0.31478456505751523],[0.7464013038530629,0.7746121939425099,0.7379942798859452,0.6924743377320387,0.5965087461202537,0.622619902858976,1.0,0.8575204268193439,0.13073059113643515,0.6034107151271443,0.4681297867659422,0.6994911625624223,0.4611395380883674,0.6935304683705069,0.6034691779048893,0.37240562237562785,0.4377016063049815,0.44802190761884414,0.5244092245847857,0.44629424128280604,0.46687057694139167,0.5082209688110214,0.4668482541488153,0.26591736672571026,0.3778927238144331,0.2378485153446557,0.6051466902450102,0.6235886415153723,0.5643602629245545,0.5715002924458789,0.7128595001240539,0.5307311719067256,0.19694494408401642,0.16072419252638054,0.6098940720653342,0.29450291558632596,0.016384155738958732,0.3525392645543579,0.7175382134480361,0.5740242882531451,0.46099931217532425,0.509638798526184,0.2669179418764483,0.3016118744730466,0.5497078976643283,0.5578322523669108,0.5951250833063869,0.5258259613250792,0.5769302027310956,0.6728430324485207,-0.4604434230736039],[0.693835300236233,0.746169923587021,0.7266682662339429,0.6626148301433644,0.5586823697262445,0.6267267159331028,0.8575204268193439,1.0,0.10817545246618122,0.6128369956827164,0.4567032130350471,0.6700365641156143,0.44079555979689744,0.6608387754770112,0.6001603538709412,0.38689874206106806,0.40895745438213515,0.438549520841039,0.5205554599413362,0.45815667216259603,0.4660602061760247,0.537117727904904,0.4902942247401693,0.26965297454546283,0.3543013778683515,0.1912747306948718,0.5860075515419751,0.6578832498929271,0.5475713487509177,0.590198394901668,0.728683541851736,0.5105608837159558,0.17327996006607901,0.13913844777984205,0.5426452576875509,0.2635503321211372,0.0034524020723340097,0.3329577427728272,0.720174963489153,0.590487131833594,0.4631467599308218,0.4576506006059505,0.22523982286185815,0.24715847007350886,0.5171651358833259,0.572100751106501,0.6051219356757271,0.5476561684092254,0.5924276248317244,0.7073514405662737,-0.4460733522854201],[0.12835216021291723,0.2131649956723633,0.2245845307961931,0.15292419928015435,0.1779254150382717,0.23830066517232337,0.13073059113643515,0.10817545246618122,1.0,0.22122886970259598,0.15118879736938667,0.3181922944396872,0.25355572308257396,0.16812352316254398,0.23996944104143256,0.24891083750285714,0.2982389993979342,0.20083804293739418,0.16370767218781965,0.23655061379630096,0.21173952511493857,0.3116276751969918,0.19119933547109558,0.3228864107583448,0.16116206401991454,0.2026880760976437,0.18651452763908938,0.08231283586508849,0.17582730755511033,0.18270851562679868,0.13492013427694877,0.04889236585308871,0.20580453564489465,0.1424669125429589,0.10590703864478444,0.16220611241405195,0.045907135441374335,0.3137227574261082,0.1914626864811557,0.08071701068910388,0.19153455183513496,0.176454953290177,0.19341996832431618,0.23295102123322017,0.2549330189021152,0.11294701338724172,0.08492993194510026,0.15200620130865675,0.11680642569762867,0.0675524141755284,-0.08555316783298815],[0.6173423860206017,0.6220739167687485,0.5838380238830949,0.5925766070578308,0.6300909283883727,0.7236163448807905,0.6034107151271443,0.6128369956827164,0.22122886970259598,1.0,0.6595659859577434,0.6511727167493435,0.4466680167711273,0.6535177189625478,0.4916946098278758,0.5993736550393035,0.33607520993470086,0.6084667990817143,0.6411146909935761,0.6096369196192771,0.6581486697321255,0.6118331897378483,0.6763883578091682,0.5162767851933979,0.49839906643217524,0.33982517435322984,0.44060541341231063,0.48468670765048244,0.44033415028698913,0.469075731122006,0.5720263901661354,0.17932788933485508,0.12334508674790207,0.048911764786917514,0.3911394235118404,0.23890322877039055,-0.0006008995374820045,0.31275886345982895,0.6453659698934192,0.6047948834094576,0.5282018700585327,0.1512884917481906,0.18187493809784125,0.17939104322566862,0.410355518440622,0.6441964416112823,0.6878785559331427,0.6086233769034437,0.6667670719066664,0.7237266228963287,-0.2899705757096843],[0.534214088594753,0.5068835418003425,0.42755643477134714,0.49034247359439503,0.5387848026202097,0.6179213655582081,0.4681297867659422,0.4567032130350471,0.15118879736938667,0.6595659859577434,1.0,0.5001209257496357,0.3393550614007572,0.5755520660941408,0.3895925377673829,0.6216430321664798,0.38599264908210706,0.6757950838399321,0.6497320850622667,0.637078295160511,0.6441602587485882,0.5481389208756401,0.6555144664067134,0.4194044419812033,0.46885605588657325,0.3394164398638732,0.3723000718054368,0.38953999298774955,0.32772715952759257,0.37236680123205906,0.4364799109930011,0.03460817845327355,0.15010225371737743,0.07588342886086984,0.3667000965230523,0.19358032366687028,-0.006845511470731351,0.27059924791547896,0.5549689898119775,0.4886801841042857,0.4504664636099752,0.07158902006188769,0.17914857373955367,0.2131335984835697,0.37981523052912236,0.5723333926152679,0.6079598628446277,0.5413144282916286,0.5906290834890162,0.61217953182988,-0.20827380919620522],[0.6627017027069086,0.6931743341950688,0.672444956402906,0.6334185645109557,0.5682423340390345,0.6153993613617206,0.6994911625624223,0.6700365641156143,0.3181922944396872,0.6511727167493435,0.5001209257496357,1.0,0.46661721069102735,0.689266504001871,0.5759307069317464,0.4511432861413055,0.48015127823650056,0.48941199038479927,0.5571134077372588,0.5153675120960917,0.5314519266552817,0.5817495136535858,0.5219087003054038,0.39404342745121496,0.44321514457758465,0.3071020234354827,0.5480015729732997,0.5084798014936666,0.5182215359996017,0.520224447934994,0.623618313790642,0.3672676323889738,0.1478802995335692,0.10416348917859172,0.4891456868243128,0.29924099743692034,0.03491189401771972,0.39628070085723616,0.6756060756037848,0.5566574514701305,0.46614207276734615,0.36296252610271335,0.24906822216900354,0.27645471929421833,0.4883206661730029,0.5577337525030884,0.5792080479220418,0.5235329212853377,0.5648673561426599,0.6399394699810799,-0.37286386015330175],[0.41506033651677643,0.4432196819120104,0.45186238741439255,0.3766784472641258,0.34620433759356034,0.38620766003296503,0.4611395380883674,0.44079555979689744,0.25355572308257396,0.4466680167711273,0.3393550614007572,0.46661721069102735,1.0,0.48088994755807324,0.5349206611758618,0.3487641781413749,0.3478791924988474,0.37814801736034453,0.39615201466452193,0.357020428042876,0.3775110341731003,0.3856323372429025,0.26753387530518496,0.29602054096429187,0.2274456954360829,0.18437463299910278,0.23792956612016342,0.3030638113245339,0.34656318350485915,0.3693021853932469,0.42711065615369553,0.27152039833228103,0.20661267401322042,0.1026894781063612,0.3214517883153399,0.18019659971871327,0.024757384962470708,0.33210736736643415,0.475582119650062,0.37705781522545273,0.3945797494825673,0.3359257224392658,0.2099659814678035,0.23472290675251614,0.42432472507903307,0.33662753362090664,0.3473300443568964,0.34006931965638715,0.3486747166025028,0.4077540676114826,-0.3275928180600759],[0.6632571009254538,0.6689689330039348,0.6386518470189383,0.6123399963070331,0.5776273446742235,0.6249945870694938,0.6935304683705069,0.6608387754770112,0.16812352316254398,0.6535177189625478,0.5755520660941408,0.689266504001871,0.48088994755807324,1.0,0.6527145329697734,0.5035208011265118,0.4051765626131007,0.5403586600822725,0.5661823928641554,0.5271193718812878,0.5648973123667707,0.5474888700238759,0.561110771202685,0.40313499980358286,0.46160231730618967,0.3000765516161439,0.47251615449025347,0.5192721265007842,0.49477699746207543,0.5147494378209094,0.636667048755023,0.2934200061396557,0.15029778345916814,0.09980988059978514,0.45342569008101946,0.2670770424221074,0.00920152189538116,0.33698356836448096,0.6620890938591014,0.595867266819898,0.4995852915158965,0.31034341627436135,0.2221102553466965,0.2369619546187504,0.4747431117781299,0.5866947511627675,0.6130067611830816,0.5410870984196775,0.5913737177667031,0.6712473294076593,-0.3462175768793729],[0.5132490061848077,0.5656705586059736,0.5736751902791001,0.5079316290354574,0.41924421754740193,0.48369346510093203,0.6034691779048893,0.6001603538709412,0.23996944104143256,0.4916946098278758,0.3895925377673829,0.5759307069317464,0.5349206611758618,0.6527145329697734,1.0,0.38423602261706763,0.4673935576443951,0.3986304002151422,0.4472604131909463,0.4038034768544725,0.399151355836015,0.45738396652133906,0.3328725351096353,0.3078012327181057,0.29280012513427833,0.20782438297440994,0.37215762853788925,0.4553772061754393,0.48054743839101766,0.4983406167651515,0.6047374195060629,0.3408716130812372,0.2255422641092624,0.18009058138950562,0.3837968587560651,0.23570136287955845,0.21619760022453383,0.34848551669834754,0.6026485858150286,0.4962069173179237,0.41331737390686973,0.40252826154327487,0.24389475931911458,0.29226996722094434,0.46875273023546693,0.4088433778958628,0.4241299065353854,0.3973778448292744,0.420276335242628,0.5416593910572758,-0.3538336870341219],[0.4245502600645855,0.41604116664733065,0.3875073575283286,0.420258926405325,0.4843240556510682,0.5912968455202338,0.37240562237562785,0.38689874206106806,0.24891083750285714,0.5993736550393035,0.6216430321664798,0.4511432861413055,0.3487641781413749,0.5035208011265118,0.38423602261706763,1.0,0.47846931726853636,0.7629053568653446,0.6853618108872569,0.7250352304380046,0.7245328320523029,0.5761474040693033,0.6237793031299318,0.4917222122255603,0.47903712238223356,0.38130229770408236,0.30854085764706696,0.3314262270659344,0.31323408359695265,0.3935906167811658,0.385393012616456,-0.030469367460964847,0.1434838784436624,0.042833236185528104,0.2842504362586521,0.21976428217120544,0.01579181773262725,0.26751373525377997,0.48006803595321235,0.4557678094873487,0.4271142381339735,-0.002220547371771406,0.13181824553257124,0.0849519377823232,0.2806445546203881,0.5029090678944146,0.5114016922006152,0.4864783883192261,0.5109381110064165,0.557115440832714,-0.17330571371806644],[0.3936412803492456,0.41807864699680714,0.39698272859642886,0.35830344905790334,0.32876641040877563,0.36861547052409566,0.4377016063049815,0.40895745438213515,0.2982389993979342,0.33607520993470086,0.38599264908210706,0.48015127823650056,0.3478791924988474,0.4051765626131007,0.4673935576443951,0.47846931726853636,1.0,0.5040598145278113,0.5046929766939824,0.5085616360296482,0.46672685423485877,0.5219559059635911,0.3176649881602561,0.2361502132276501,0.29100245353728355,0.24652084764129586,0.3523349686396146,0.3006948128544696,0.3203005212335402,0.3067732531388451,0.3686800063580649,0.1771994701731109,0.21355087031266679,0.15501625049098314,0.35116617389204763,0.24295392382060732,-0.00529331245680138,0.33353422025529045,0.4441158600516509,0.26032629549046266,0.27880973509829904,0.31601867469574046,0.21931304571256904,0.3200712814879738,0.3991388312208947,0.30963630918657836,0.28961234980423917,0.30009323415818834,0.2979845303941687,0.35143264512870853,-0.24741958209059187],[0.5133759556671785,0.48045451304040604,0.41164441306718064,0.4695965346194461,0.5424663060453996,0.6268588699313261,0.44802190761884414,0.438549520841039,0.20083804293739418,0.6084667990817143,0.6757950838399321,0.48941199038479927,0.37814801736034453,0.5403586600822725,0.3986304002151422,0.7629053568653446,0.5040598145278113,1.0,0.7490989430177057,0.746328634412202,0.7275428987046849,0.6092768369568606,0.6283403868429887,0.4754230743956537,0.4937566899573987,0.3978210708750601,0.4128115559145229,0.3705033893033859,0.35153489290765455,0.38214141162429655,0.4209164233628236,0.03406700405264217,0.1140716412575475,0.013736354925550635,0.40091438177483024,0.20365518076905345,0.03513795069255557,0.30016740520987417,0.5361938740046014,0.4728045921824845,0.4659294491446058,0.09608638053906049,0.17804963245631783,0.16416247906366624,0.36104361391601625,0.5033789143147267,0.5297290351819935,0.484209089155702,0.5204856738672784,0.5917885140085551,-0.25338885971096936],[0.5772668382061649,0.5638717010663822,0.4688468548226981,0.5109360129384075,0.5368065583877749,0.6245530779669032,0.5244092245847857,0.5205554599413362,0.16370767218781965,0.6411146909935761,0.6497320850622667,0.5571134077372588,0.39615201466452193,0.5661823928641554,0.4472604131909463,0.6853618108872569,0.5046929766939824,0.7490989430177057,1.0,0.7098489657152999,0.7205410783948751,0.6683394106891801,0.6577917517470663,0.4368684480716156,0.4967675061518239,0.33132292161785765,0.4598108515627436,0.432330977034325,0.3990616891703103,0.4018428695957176,0.5016652830854121,0.10754029354965594,0.11642590855724647,0.006237396498090535,0.4175519965951526,0.2688884550448548,0.01432807750870715,0.31373232940726675,0.591670143940252,0.5452298603822278,0.4651610464830894,0.17864443026026416,0.17694962236658793,0.15321185492504857,0.39634884712511764,0.5686541057214394,0.5959385926868545,0.5223388703426015,0.5733407855538843,0.6375106036141994,-0.29319912347842375],[0.4979126698015633,0.47954075079081276,0.4368388197363894,0.4536345304634819,0.5044244592969082,0.588896894392358,0.44629424128280604,0.45815667216259603,0.23655061379630096,0.6096369196192771,0.637078295160511,0.5153675120960917,0.357020428042876,0.5271193718812878,0.4038034768544725,0.7250352304380046,0.5085616360296482,0.746328634412202,0.7098489657152999,1.0,0.8060735464393847,0.640279405619775,0.6117648736268904,0.4387087696434576,0.4778900305912422,0.3565289315664491,0.3844016328176074,0.3868322137025645,0.36016872929861043,0.40879858391575363,0.4292375802067976,0.05524820894921487,0.11069935735172626,0.018916317157355644,0.3325395882049103,0.2911585310910872,0.03851495735272421,0.29665879504662845,0.5352115960602075,0.46043971979933673,0.42810870202404677,0.06881835162563363,0.13029962095547115,0.13989463651733572,0.3324360624381953,0.5381124326832711,0.5493438952397963,0.5091922979623478,0.5392770779700972,0.5774047659452962,-0.23054505265014477],[0.5249913692186975,0.4964245033428585,0.45456117230346504,0.4763966617510962,0.5254745405925723,0.5984095386055653,0.46687057694139167,0.4660602061760247,0.21173952511493857,0.6581486697321255,0.6441602587485882,0.5314519266552817,0.3775110341731003,0.5648973123667707,0.399151355836015,0.7245328320523029,0.46672685423485877,0.7275428987046849,0.7205410783948751,0.8060735464393847,1.0,0.6634508576306094,0.6596569532628201,0.47353379757603675,0.4918749368453121,0.3605253024319696,0.38903323707663434,0.3822576849189969,0.3594533307922233,0.40247929032248914,0.4377967484921246,0.057284631673531844,0.10578573342783888,0.01998959132283653,0.3166291933562008,0.28861032741623444,0.02221156403995291,0.28332204413189854,0.5392290728824912,0.4958729251715832,0.4391460055596356,0.055528094360354115,0.13721924019638398,0.11974991428504864,0.31751194003557653,0.5585210550052139,0.5780474615160193,0.5310599923830668,0.563925652820273,0.6023779462999487,-0.2233358440054535],[0.5339721380738501,0.5717409275743105,0.5144006791263402,0.5244521612027406,0.5277367103671462,0.5915920070924237,0.5082209688110214,0.537117727904904,0.3116276751969918,0.6118331897378483,0.5481389208756401,0.5817495136535858,0.3856323372429025,0.5474888700238759,0.45738396652133906,0.5761474040693033,0.5219559059635911,0.6092768369568606,0.6683394106891801,0.640279405619775,0.6634508576306094,1.0,0.5979628291510676,0.4719803706236579,0.47974146440272186,0.3703347794994164,0.48044766129323374,0.4138640606111532,0.43417992636454095,0.4092108247147985,0.5078390464435796,0.14408195857960557,0.17363231868891527,0.055664400810404024,0.3592900449748355,0.2574550638736535,-0.010651308056598377,0.35128125279910444,0.5636021896972577,0.4460860685967391,0.38218656486480285,0.23322987631655265,0.20070591161423615,0.22102479793003668,0.4231256231269835,0.5245331469647287,0.5263818523493969,0.4810292400843924,0.51210046273267,0.5763270852968816,-0.24769782569683016],[0.5692501976217852,0.5593027629412696,0.4743026617684355,0.5434903129504748,0.5993136909639415,0.6821189804157827,0.4668482541488153,0.4902942247401693,0.19119933547109558,0.6763883578091682,0.6555144664067134,0.5219087003054038,0.26753387530518496,0.561110771202685,0.3328725351096353,0.6237793031299318,0.3176649881602561,0.6283403868429887,0.6577917517470663,0.6117648736268904,0.6596569532628201,0.5979628291510676,1.0,0.5293205370738807,0.5889175926712045,0.4145142320123245,0.49623955486274857,0.441767455862181,0.36776190909082523,0.35768099386817065,0.45699450650853746,0.04589614371008784,0.11472895396919783,0.02119282212095204,0.3270377657912163,0.23689606296496993,0.016257708956449842,0.25663217924155235,0.5499974768204465,0.5553935685553125,0.4549540312449281,0.06961266272200993,0.1501177962747636,0.15004864006905008,0.32883042346838864,0.5962279648597328,0.6330331687431976,0.5536978745860301,0.6151736683455816,0.6448986546663455,-0.18653304971998266],[0.35209356105332607,0.3790287712514784,0.3350543490650096,0.4684822490357892,0.5590266614015604,0.5584282993109537,0.26591736672571026,0.26965297454546283,0.3228864107583448,0.5162767851933979,0.4194044419812033,0.39404342745121496,0.29602054096429187,0.40313499980358286,0.3078012327181057,0.4917222122255603,0.2361502132276501,0.4754230743956537,0.4368684480716156,0.4387087696434576,0.47353379757603675,0.4719803706236579,0.5293205370738807,1.0,0.5388718846076446,0.4999321932802652,0.3281777012881272,0.2692275738357647,0.22299566852857147,0.24284988650458583,0.2996458917081475,-0.05915042740838781,0.1294701856102293,0.01379151206075403,0.1726328570769411,0.12677445925810923,0.015083024187481815,0.2432518725339132,0.4007210379914469,0.393870178767814,0.3649397995526182,0.03508847981488751,0.14432535371772953,0.10000794543440604,0.2376428131614765,0.40054797203403386,0.4222924342113422,0.39129156528217995,0.41369210125303607,0.4634065085571624,-0.17301743465021324],[0.46500334960317086,0.46432248989976027,0.40273206261030947,0.5919234737356263,0.6401801651513754,0.5576193001908943,0.3778927238144331,0.3543013778683515,0.16116206401991454,0.49839906643217524,0.46885605588657325,0.44321514457758465,0.2274456954360829,0.46160231730618967,0.29280012513427833,0.47903712238223356,0.29100245353728355,0.4937566899573987,0.4967675061518239,0.4778900305912422,0.4918749368453121,0.47974146440272186,0.5889175926712045,0.5388718846076446,1.0,0.6865155496548013,0.5494548135008335,0.38658150587633705,0.322886056929686,0.2967454807458812,0.39444570786150307,0.02259080617492695,0.09510552983571911,0.030768298116639073,0.2455811373237247,0.24647052663331936,0.013209148267245554,0.2336200955968518,0.4927276687988822,0.4671120562353997,0.3558328839469778,0.04478544869429665,0.13332803408952232,0.10602175063356999,0.24433409604876205,0.47523700923109913,0.4974140461611267,0.4259229057380596,0.4769583767792605,0.542193257788705,-0.22063196944181648],[0.3130566524342821,0.30147147639014055,0.27808365133656604,0.4327099997356415,0.5407163155201069,0.41860955239865016,0.2378485153446557,0.1912747306948718,0.2026880760976437,0.33982517435322984,0.3394164398638732,0.3071020234354827,0.18437463299910278,0.3000765516161439,0.20782438297440994,0.38130229770408236,0.24652084764129586,0.3978210708750601,0.33132292161785765,0.3565289315664491,0.3605253024319696,0.3703347794994164,0.4145142320123245,0.4999321932802652,0.6865155496548013,1.0,0.4116868621127904,0.22100877481316494,0.2079471928797769,0.18729010769485818,0.2309982555325944,-0.023449243656521835,0.07324077314292299,0.02819495550290726,0.21181589064776687,0.16363797130859456,0.018325373902788437,0.1839518832690501,0.32843215907845663,0.293334023559034,0.2431794279031606,0.0427944605898533,0.16122282981809932,0.1281236351147098,0.19107427930607093,0.29458745217687116,0.30223086947482497,0.28190765679233215,0.29740834309862274,0.3355705654406207,-0.11839901342908002],[0.6323124978198921,0.645921472283775,0.5395839429242734,0.6414688065015579,0.5902273497727311,0.5407037959765649,0.6051466902450102,0.5860075515419751,0.18651452763908938,0.44060541341231063,0.3723000718054368,0.5480015729732997,0.23792956612016342,0.47251615449025347,0.37215762853788925,0.30854085764706696,0.3523349686396146,0.4128115559145229,0.4598108515627436,0.3844016328176074,0.38903323707663434,0.48044766129323374,0.49623955486274857,0.3281777012881272,0.5494548135008335,0.4116868621127904,1.0,0.590663890447491,0.3879059328402573,0.4068481764685768,0.5402335583039516,0.378863930262984,0.08563327290434969,0.04595083441189953,0.49337202222739973,0.2705522154012383,-0.006054402159976266,0.28115979478358927,0.6262533748995724,0.5722214320601244,0.4290723578684955,0.3569803358201013,0.21506517110843484,0.2576968086076078,0.3755865099496338,0.5111048376100407,0.530747361805125,0.4624489199193025,0.5153044837497345,0.6039963345836661,-0.4014765727322908],[0.5898612111160837,0.6310322343886927,0.5551712098184997,0.5923389570567907,0.49617906924804545,0.5334883959527844,0.6235886415153723,0.6578832498929271,0.08231283586508849,0.48468670765048244,0.38953999298774955,0.5084798014936666,0.3030638113245339,0.5192721265007842,0.4553772061754393,0.3314262270659344,0.3006948128544696,0.3705033893033859,0.432330977034325,0.3868322137025645,0.3822576849189969,0.4138640606111532,0.441767455862181,0.2692275738357647,0.38658150587633705,0.22100877481316494,0.590663890447491,1.0,0.5218733733186265,0.4926132663759901,0.6312040518589699,0.4649365077739034,0.10764503946659004,0.06785879562851475,0.4719449846264357,0.26439487424426233,-0.012184667482709877,0.2690038571470564,0.6770627623371741,0.5531605963378754,0.4220974735286953,0.3659111464422843,0.14413218923314958,0.152897151523928,0.37642302348687157,0.5142993135259799,0.5475137216247754,0.46958851838514093,0.5354878515860316,0.6426800522866614,-0.42961950433983803],[0.5319412162535453,0.5849972640503811,0.5815010672436671,0.5194345348537903,0.44616118747029493,0.43029338009225326,0.5643602629245545,0.5475713487509177,0.17582730755511033,0.44033415028698913,0.32772715952759257,0.5182215359996017,0.34656318350485915,0.49477699746207543,0.48054743839101766,0.31323408359695265,0.3203005212335402,0.35153489290765455,0.3990616891703103,0.36016872929861043,0.3594533307922233,0.43417992636454095,0.36776190909082523,0.22299566852857147,0.322886056929686,0.2079471928797769,0.3879059328402573,0.5218733733186265,1.0,0.5713203401953629,0.6521542418062015,0.42608995952488754,0.1442063382079697,0.09886433535491355,0.39660969643757693,0.2601230581164681,0.25991449470796335,0.3354611152431554,0.5755209290087221,0.36855656780022,0.3145395270537595,0.39795073602032605,0.18136302784934188,0.18112371844401887,0.4223445324708906,0.39215070246746064,0.40943311967931084,0.3610050435496658,0.39410356961140686,0.47274111782476586,-0.3761292323492862],[0.5049730578259981,0.5602658215646965,0.5773110697702601,0.47837248008996874,0.40018996839135923,0.47114291613858517,0.5715002924458789,0.590198394901668,0.18270851562679868,0.469075731122006,0.37236680123205906,0.520224447934994,0.3693021853932469,0.5147494378209094,0.4983406167651515,0.3935906167811658,0.3067732531388451,0.38214141162429655,0.4018428695957176,0.40879858391575363,0.40247929032248914,0.4092108247147985,0.35768099386817065,0.24284988650458583,0.2967454807458812,0.18729010769485818,0.4068481764685768,0.4926132663759901,0.5713203401953629,1.0,0.6115468704174961,0.3492953361538544,0.07345475906711106,0.036615599302422475,0.376587548219719,0.3214070596036328,0.0010078778876427639,0.32904696397262834,0.6291162629502948,0.45555142104733437,0.3595624925965362,0.28173695050249403,0.1784471530184763,0.14137798355447956,0.3861066034740377,0.41615958799148317,0.43965476289337213,0.3935551039567523,0.42817836772394885,0.5373298533334128,-0.3129384840185257],[0.6441556549494059,0.6989275513370241,0.6693600827179751,0.6458571262901245,0.5407384727673381,0.5561575283957996,0.7128595001240539,0.728683541851736,0.13492013427694877,0.5720263901661354,0.4364799109930011,0.623618313790642,0.42711065615369553,0.636667048755023,0.6047374195060629,0.385393012616456,0.3686800063580649,0.4209164233628236,0.5016652830854121,0.4292375802067976,0.4377967484921246,0.5078390464435796,0.45699450650853746,0.2996458917081475,0.39444570786150307,0.2309982555325944,0.5402335583039516,0.6312040518589699,0.6521542418062015,0.6115468704174961,1.0,0.47124399982638454,0.13364010005748794,0.09256372649835255,0.4556811076745387,0.2905041790380519,-0.003682488990638929,0.34065448386888714,0.7157975431651499,0.5452470080595186,0.4289291557630774,0.40288655035283477,0.17417992492928044,0.19720013095818736,0.47320903894941774,0.5267397196384527,0.5627015933712799,0.4997931354185489,0.5378754104409059,0.664020176577493,-0.4499598564419817],[0.38342881093226094,0.43012761079411493,0.4503562172068854,0.3898249409133595,0.21385756277434886,0.1550972036247179,0.5307311719067256,0.5105608837159558,0.04889236585308871,0.17932788933485508,0.03460817845327355,0.3672676323889738,0.27152039833228103,0.2934200061396557,0.3408716130812372,-0.030469367460964847,0.1771994701731109,0.03406700405264217,0.10754029354965594,0.05524820894921487,0.057284631673531844,0.14408195857960557,0.04589614371008784,-0.05915042740838781,0.02259080617492695,-0.023449243656521835,0.378863930262984,0.4649365077739034,0.42608995952488754,0.3492953361538544,0.47124399982638454,1.0,0.0412293207091752,0.07731719399587965,0.42630261519275126,0.23480482907856143,-0.004635767909132064,0.18537562440811484,0.4060012928690324,0.21845212657841523,0.18278903626395737,0.5267742563826805,0.0857789615905629,0.09043060959608226,0.2993626400995219,0.17748945178735778,0.19326835497526326,0.1538690099172876,0.17973755531315008,0.26241576302678576,-0.5264625058925444],[0.1748084614034608,0.2109378951342807,0.20119460162144717,0.16144132578933057,0.12887148313751987,0.1671917356201004,0.19694494408401642,0.17327996006607901,0.20580453564489465,0.12334508674790207,0.15010225371737743,0.1478802995335692,0.20661267401322042,0.15029778345916814,0.2255422641092624,0.1434838784436624,0.21355087031266679,0.1140716412575475,0.11642590855724647,0.11069935735172626,0.10578573342783888,0.17363231868891527,0.11472895396919783,0.1294701856102293,0.09510552983571911,0.07324077314292299,0.08563327290434969,0.10764503946659004,0.1442063382079697,0.07345475906711106,0.13364010005748794,0.0412293207091752,1.0,0.7132506747020146,0.12088924253080274,0.005665584541322422,0.08659118089809088,0.14985798792171334,0.13876078104286865,0.12089982920640406,0.14097512138565058,0.2603099822352048,0.22831888734384878,0.3641548809940711,0.2800234687032829,0.14998968597793072,0.1358641879426983,0.15352145668923722,0.1411696813754989,0.10366936701145789,0.020741403163522205],[0.13058329718403844,0.1487158906920406,0.1880157134786056,0.10463386873176517,0.06185331305101774,0.07012111755208102,0.16072419252638054,0.13913844777984205,0.1424669125429589,0.048911764786917514,0.07588342886086984,0.10416348917859172,0.1026894781063612,0.09980988059978514,0.18009058138950562,0.042833236185528104,0.15501625049098314,0.013736354925550635,0.006237396498090535,0.018916317157355644,0.01998959132283653,0.055664400810404024,0.02119282212095204,0.01379151206075403,0.030768298116639073,0.02819495550290726,0.04595083441189953,0.06785879562851475,0.09886433535491355,0.036615599302422475,0.09256372649835255,0.07731719399587965,0.7132506747020146,1.0,0.05354123570912136,-0.018288897374434787,0.03987833655063306,0.08131780394894321,0.060054895611083736,0.05416959932505735,0.028985773926649146,0.2471810802162546,0.26365752207178517,0.4403582180383002,0.23962346033861426,0.07187789365265146,0.05869701372749174,0.07946871654642819,0.06646708384949357,0.025126258593809035,0.0829914257228486],[0.5570185186429231,0.5474523076837481,0.4732607443535863,0.4732901055928269,0.4253054219883695,0.4617304093614029,0.6098940720653342,0.5426452576875509,0.10590703864478444,0.3911394235118404,0.3667000965230523,0.4891456868243128,0.3214517883153399,0.45342569008101946,0.3837968587560651,0.2842504362586521,0.35116617389204763,0.40091438177483024,0.4175519965951526,0.3325395882049103,0.3166291933562008,0.3592900449748355,0.3270377657912163,0.1726328570769411,0.2455811373237247,0.21181589064776687,0.49337202222739973,0.4719449846264357,0.39660969643757693,0.376587548219719,0.4556811076745387,0.42630261519275126,0.12088924253080274,0.05354123570912136,1.0,0.19710572988793773,-0.020430019189859584,0.28960998794309795,0.5471834269853745,0.4040541977843513,0.39787403327299325,0.4176192714280721,0.25023043808656775,0.27851854249626734,0.4403848014088765,0.39033007276778725,0.41147462871471,0.35969160974770376,0.3970809731899555,0.46501727176466334,-0.4156786425624306],[0.26409625219623956,0.2837724955206204,0.28317662719036985,0.22853677043291448,0.19632824206317817,0.19613335090524953,0.29450291558632596,0.2635503321211372,0.16220611241405195,0.23890322877039055,0.19358032366687028,0.29924099743692034,0.18019659971871327,0.2670770424221074,0.23570136287955845,0.21976428217120544,0.24295392382060732,0.20365518076905345,0.2688884550448548,0.2911585310910872,0.28861032741623444,0.2574550638736535,0.23689606296496993,0.12677445925810923,0.24647052663331936,0.16363797130859456,0.2705522154012383,0.26439487424426233,0.2601230581164681,0.3214070596036328,0.2905041790380519,0.23480482907856143,0.005665584541322422,-0.018288897374434787,0.19710572988793773,1.0,-0.001163247070032931,0.21145356131447277,0.31780065277266345,0.2357785151625578,0.20255306178142768,0.15684562997577386,0.10429460114703776,0.0693624586822629,0.17380188723690337,0.22483286873317704,0.23481392918468527,0.2182051637047876,0.23621314387340442,0.2550467862450668,-0.2161641547812421],[-0.00832281443417428,0.008595364481862211,0.04743014993688743,0.010122689181152366,-0.004072389024737767,0.0168024996896376,0.016384155738958732,0.0034524020723340097,0.045907135441374335,-0.0006008995374820045,-0.006845511470731351,0.03491189401771972,0.024757384962470708,0.00920152189538116,0.21619760022453383,0.01579181773262725,-0.00529331245680138,0.03513795069255557,0.01432807750870715,0.03851495735272421,0.02221156403995291,-0.010651308056598377,0.016257708956449842,0.015083024187481815,0.013209148267245554,0.018325373902788437,-0.006054402159976266,-0.012184667482709877,0.25991449470796335,0.0010078778876427639,-0.003682488990638929,-0.004635767909132064,0.08659118089809088,0.03987833655063306,-0.020430019189859584,-0.001163247070032931,1.0,0.018195586652484122,-0.012686013243141475,-0.009942489723252235,-0.009222817676810057,-0.027345707429751363,-0.02678557112456927,0.017968170616010463,0.014632504251090828,-0.0007268691219240453,0.005186350348160323,0.012354069260565079,0.011121856724520677,-0.008530331755221294,0.01881815945284038],[0.3559981921639174,0.4232737024741024,0.39079326422412425,0.3249111149324639,0.30320421628233085,0.34343445630850794,0.3525392645543579,0.3329577427728272,0.3137227574261082,0.31275886345982895,0.27059924791547896,0.39628070085723616,0.33210736736643415,0.33698356836448096,0.34848551669834754,0.26751373525377997,0.33353422025529045,0.30016740520987417,0.31373232940726675,0.29665879504662845,0.28332204413189854,0.35128125279910444,0.25663217924155235,0.2432518725339132,0.2336200955968518,0.1839518832690501,0.28115979478358927,0.2690038571470564,0.3354611152431554,0.32904696397262834,0.34065448386888714,0.18537562440811484,0.14985798792171334,0.08131780394894321,0.28960998794309795,0.21145356131447277,0.018195586652484122,1.0,0.4307362941612988,0.3079864629711299,0.3005928151701002,0.2923369454686998,0.22602704519127956,0.24073696186595714,0.36325498301914216,0.36655302780074217,0.3456003655547042,0.45385858233194804,0.3847781451672853,0.33658009785619436,-0.2441467656597611],[0.7075638893159627,0.750767819870406,0.6871898642316491,0.7032512354507733,0.6364799891897035,0.7164689605164505,0.7175382134480361,0.720174963489153,0.1914626864811557,0.6453659698934192,0.5549689898119775,0.6756060756037848,0.475582119650062,0.6620890938591014,0.6026485858150286,0.48006803595321235,0.4441158600516509,0.5361938740046014,0.591670143940252,0.5352115960602075,0.5392290728824912,0.5636021896972577,0.5499974768204465,0.4007210379914469,0.4927276687988822,0.32843215907845663,0.6262533748995724,0.6770627623371741,0.5755209290087221,0.6291162629502948,0.7157975431651499,0.4060012928690324,0.13876078104286865,0.060054895611083736,0.5471834269853745,0.31780065277266345,-0.012686013243141475,0.4307362941612988,1.0,0.6605508407125885,0.551436501346438,0.38548433154761264,0.2603365812541718,0.23337664487449555,0.509645786052913,0.6468454202617381,0.6738289551447052,0.600017595759714,0.6499506809541532,0.7781556103647106,-0.4918036472575633],[0.6378713129712406,0.6204407692620938,0.5376614424928259,0.5847724033769662,0.5664367392944711,0.6405991673457276,0.5740242882531451,0.590487131833594,0.08071701068910388,0.6047948834094576,0.4886801841042857,0.5566574514701305,0.37705781522545273,0.595867266819898,0.4962069173179237,0.4557678094873487,0.26032629549046266,0.4728045921824845,0.5452298603822278,0.46043971979933673,0.4958729251715832,0.4460860685967391,0.5553935685553125,0.393870178767814,0.4671120562353997,0.293334023559034,0.5722214320601244,0.5531605963378754,0.36855656780022,0.45555142104733437,0.5452470080595186,0.21845212657841523,0.12089982920640406,0.05416959932505735,0.4040541977843513,0.2357785151625578,-0.009942489723252235,0.3079864629711299,0.6605508407125885,1.0,0.5921518932554658,0.206036934939744,0.15854951786453447,0.16784821456529636,0.3738249695023993,0.6614212543648753,0.6976273156265452,0.6500731648284862,0.6755961378886703,0.7373064370753925,-0.31364999217016404],[0.5108029888361042,0.5077975956777349,0.40733376985814385,0.44563512010825973,0.4647498454375484,0.563023349644977,0.46099931217532425,0.4631467599308218,0.19153455183513496,0.5282018700585327,0.4504664636099752,0.46614207276734615,0.3945797494825673,0.4995852915158965,0.41331737390686973,0.4271142381339735,0.27880973509829904,0.4659294491446058,0.4651610464830894,0.42810870202404677,0.4391460055596356,0.38218656486480285,0.4549540312449281,0.3649397995526182,0.3558328839469778,0.2431794279031606,0.4290723578684955,0.4220974735286953,0.3145395270537595,0.3595624925965362,0.4289291557630774,0.18278903626395737,0.14097512138565058,0.028985773926649146,0.39787403327299325,0.20255306178142768,-0.009222817676810057,0.3005928151701002,0.551436501346438,0.5921518932554658,1.0,0.21623856798735847,0.17745243280291462,0.17337882304728439,0.36337677817374114,0.5160111629842773,0.5461557023060826,0.4957787817882956,0.5365497351981318,0.5873066497630005,-0.30017560803471044],[0.4045418135244292,0.4615653750578708,0.44613870911478576,0.3349490863492739,0.2076248286592401,0.20912821632175163,0.509638798526184,0.4576506006059505,0.176454953290177,0.1512884917481906,0.07158902006188769,0.36296252610271335,0.3359257224392658,0.31034341627436135,0.40252826154327487,-0.002220547371771406,0.31601867469574046,0.09608638053906049,0.17864443026026416,0.06881835162563363,0.055528094360354115,0.23322987631655265,0.06961266272200993,0.03508847981488751,0.04478544869429665,0.0427944605898533,0.3569803358201013,0.3659111464422843,0.39795073602032605,0.28173695050249403,0.40288655035283477,0.5267742563826805,0.2603099822352048,0.2471810802162546,0.4176192714280721,0.15684562997577386,-0.027345707429751363,0.2923369454686998,0.38548433154761264,0.206036934939744,0.21623856798735847,1.0,0.4034641886070703,0.46302812493521334,0.5731017832793087,0.16505049519798518,0.16787912983168593,0.16440944093503146,0.1672949367731743,0.2225406934585085,-0.350732142397985],[0.2568237403068192,0.29357857582533037,0.29866647278444036,0.2002868316578304,0.20677077220236958,0.22464551713513436,0.2669179418764483,0.22523982286185815,0.19341996832431618,0.18187493809784125,0.17914857373955367,0.24906822216900354,0.2099659814678035,0.2221102553466965,0.24389475931911458,0.13181824553257124,0.21931304571256904,0.17804963245631783,0.17694962236658793,0.13029962095547115,0.13721924019638398,0.20070591161423615,0.1501177962747636,0.14432535371772953,0.13332803408952232,0.16122282981809932,0.21506517110843484,0.14413218923314958,0.18136302784934188,0.1784471530184763,0.17417992492928044,0.0857789615905629,0.22831888734384878,0.26365752207178517,0.25023043808656775,0.10429460114703776,-0.02678557112456927,0.22602704519127956,0.2603365812541718,0.15854951786453447,0.17745243280291462,0.4034641886070703,1.0,0.4350696991126981,0.3991591156560138,0.16083304841087787,0.16301650329911804,0.17684543798971344,0.1667059236760484,0.1599100211886797,-0.03999113426038824],[0.2844119781287609,0.3234414205706696,0.29645070963584147,0.19193963431925856,0.19446857453663213,0.23596196842844802,0.3016118744730466,0.24715847007350886,0.23295102123322017,0.17939104322566862,0.2131335984835697,0.27645471929421833,0.23472290675251614,0.2369619546187504,0.29226996722094434,0.0849519377823232,0.3200712814879738,0.16416247906366624,0.15321185492504857,0.13989463651733572,0.11974991428504864,0.22102479793003668,0.15004864006905008,0.10000794543440604,0.10602175063356999,0.1281236351147098,0.2576968086076078,0.152897151523928,0.18112371844401887,0.14137798355447956,0.19720013095818736,0.09043060959608226,0.3641548809940711,0.4403582180383002,0.27851854249626734,0.0693624586822629,0.017968170616010463,0.24073696186595714,0.23337664487449555,0.16784821456529636,0.17337882304728439,0.46302812493521334,0.4350696991126981,1.0,0.590788155879497,0.18305138952340397,0.1738828964930574,0.20716982774022086,0.18961439855446946,0.15994971162628047,-0.016878871873401563],[0.5111095584314516,0.5563246838566427,0.5029393164564732,0.43884248206408155,0.394268809079701,0.4359662536805384,0.5497078976643283,0.5171651358833259,0.2549330189021152,0.410355518440622,0.37981523052912236,0.4883206661730029,0.42432472507903307,0.4747431117781299,0.46875273023546693,0.2806445546203881,0.3991388312208947,0.36104361391601625,0.39634884712511764,0.3324360624381953,0.31751194003557653,0.4231256231269835,0.32883042346838864,0.2376428131614765,0.24433409604876205,0.19107427930607093,0.3755865099496338,0.37642302348687157,0.4223445324708906,0.3861066034740377,0.47320903894941774,0.2993626400995219,0.2800234687032829,0.23962346033861426,0.4403848014088765,0.17380188723690337,0.014632504251090828,0.36325498301914216,0.509645786052913,0.3738249695023993,0.36337677817374114,0.5731017832793087,0.3991591156560138,0.590788155879497,1.0,0.37131321652276555,0.3801207196126565,0.3949522981630342,0.38646852199295423,0.42807328442740394,-0.27391636539225067],[0.6252508945175363,0.6314332770374971,0.5239535501548708,0.5999624645324421,0.6118447670711351,0.6609965247334525,0.5578322523669108,0.572100751106501,0.11294701338724172,0.6441964416112823,0.5723333926152679,0.5577337525030884,0.33662753362090664,0.5866947511627675,0.4088433778958628,0.5029090678944146,0.30963630918657836,0.5033789143147267,0.5686541057214394,0.5381124326832711,0.5585210550052139,0.5245331469647287,0.5962279648597328,0.40054797203403386,0.47523700923109913,0.29458745217687116,0.5111048376100407,0.5142993135259799,0.39215070246746064,0.41615958799148317,0.5267397196384527,0.17748945178735778,0.14998968597793072,0.07187789365265146,0.39033007276778725,0.22483286873317704,-0.0007268691219240453,0.36655302780074217,0.6468454202617381,0.6614212543648753,0.5160111629842773,0.16505049519798518,0.16083304841087787,0.18305138952340397,0.37131321652276555,1.0,0.9284668573200453,0.8786930421253877,0.8860932658510795,0.7330538302193292,-0.27249943510878905],[0.6618091515232429,0.6590473221150064,0.5492083584310861,0.6313338255202524,0.6359602754752403,0.6958868503945299,0.5951250833063869,0.6051219356757271,0.08492993194510026,0.6878785559331427,0.6079598628446277,0.5792080479220418,0.3473300443568964,0.6130067611830816,0.4241299065353854,0.5114016922006152,0.28961234980423917,0.5297290351819935,0.5959385926868545,0.5493438952397963,0.5780474615160193,0.5263818523493969,0.6330331687431976,0.4222924342113422,0.4974140461611267,0.30223086947482497,0.530747361805125,0.5475137216247754,0.40943311967931084,0.43965476289337213,0.5627015933712799,0.19326835497526326,0.1358641879426983,0.05869701372749174,0.41147462871471,0.23481392918468527,0.005186350348160323,0.3456003655547042,0.6738289551447052,0.6976273156265452,0.5461557023060826,0.16787912983168593,0.16301650329911804,0.1738828964930574,0.3801207196126565,0.9284668573200453,1.0,0.8534585147340737,0.9170763167613979,0.7775287778036838,-0.30211627958685955],[0.5732019395253792,0.606271373692499,0.4841394680288109,0.5456530938177496,0.5647990129703303,0.6214209547131031,0.5258259613250792,0.5476561684092254,0.15200620130865675,0.6086233769034437,0.5413144282916286,0.5235329212853377,0.34006931965638715,0.5410870984196775,0.3973778448292744,0.4864783883192261,0.30009323415818834,0.484209089155702,0.5223388703426015,0.5091922979623478,0.5310599923830668,0.4810292400843924,0.5536978745860301,0.39129156528217995,0.4259229057380596,0.28190765679233215,0.4624489199193025,0.46958851838514093,0.3610050435496658,0.3935551039567523,0.4997931354185489,0.1538690099172876,0.15352145668923722,0.07946871654642819,0.35969160974770376,0.2182051637047876,0.012354069260565079,0.45385858233194804,0.600017595759714,0.6500731648284862,0.4957787817882956,0.16440944093503146,0.17684543798971344,0.20716982774022086,0.3949522981630342,0.8786930421253877,0.8534585147340737,1.0,0.9107729277529583,0.6854762089894558,-0.24027550364727654],[0.6371206036205501,0.6513961404337462,0.5279920596346627,0.6041354608804558,0.6195373705633354,0.6771870112273729,0.5769302027310956,0.5924276248317244,0.11680642569762867,0.6667670719066664,0.5906290834890162,0.5648673561426599,0.3486747166025028,0.5913737177667031,0.420276335242628,0.5109381110064165,0.2979845303941687,0.5204856738672784,0.5733407855538843,0.5392770779700972,0.563925652820273,0.51210046273267,0.6151736683455816,0.41369210125303607,0.4769583767792605,0.29740834309862274,0.5153044837497345,0.5354878515860316,0.39410356961140686,0.42817836772394885,0.5378754104409059,0.17973755531315008,0.1411696813754989,0.06646708384949357,0.3970809731899555,0.23621314387340442,0.011121856724520677,0.3847781451672853,0.6499506809541532,0.6755961378886703,0.5365497351981318,0.1672949367731743,0.1667059236760484,0.18961439855446946,0.38646852199295423,0.8860932658510795,0.9170763167613979,0.9107729277529583,1.0,0.7563738155513149,-0.27801741644507766],[0.7061938975650135,0.6986932845768403,0.6125544978918607,0.7013328014373192,0.673575493045967,0.7571440246499415,0.6728430324485207,0.7073514405662737,0.0675524141755284,0.7237266228963287,0.61217953182988,0.6399394699810799,0.4077540676114826,0.6712473294076593,0.5416593910572758,0.557115440832714,0.35143264512870853,0.5917885140085551,0.6375106036141994,0.5774047659452962,0.6023779462999487,0.5763270852968816,0.6448986546663455,0.4634065085571624,0.542193257788705,0.3355705654406207,0.6039963345836661,0.6426800522866614,0.47274111782476586,0.5373298533334128,0.664020176577493,0.26241576302678576,0.10366936701145789,0.025126258593809035,0.46501727176466334,0.2550467862450668,-0.008530331755221294,0.33658009785619436,0.7781556103647106,0.7373064370753925,0.5873066497630005,0.2225406934585085,0.1599100211886797,0.15994971162628047,0.42807328442740394,0.7330538302193292,0.7775287778036838,0.6854762089894558,0.7563738155513149,1.0,-0.4153406507252437],[-0.37808982145859865,-0.3991823558855094,-0.366808660897645,-0.42330686933392364,-0.3291077967031134,-0.31478456505751523,-0.4604434230736039,-0.4460733522854201,-0.08555316783298815,-0.2899705757096843,-0.20827380919620522,-0.37286386015330175,-0.3275928180600759,-0.3462175768793729,-0.3538336870341219,-0.17330571371806644,-0.24741958209059187,-0.25338885971096936,-0.29319912347842375,-0.23054505265014477,-0.2233358440054535,-0.24769782569683016,-0.18653304971998266,-0.17301743465021324,-0.22063196944181648,-0.11839901342908002,-0.4014765727322908,-0.42961950433983803,-0.3761292323492862,-0.3129384840185257,-0.4499598564419817,-0.5264625058925444,0.020741403163522205,0.0829914257228486,-0.4156786425624306,-0.2161641547812421,0.01881815945284038,-0.2441467656597611,-0.4918036472575633,-0.31364999217016404,-0.30017560803471044,-0.350732142397985,-0.03999113426038824,-0.016878871873401563,-0.27391636539225067,-0.27249943510878905,-0.30211627958685955,-0.24027550364727654,-0.27801741644507766,-0.4153406507252437,1.0]],\"type\":\"heatmap\",\"xaxis\":\"x\",\"yaxis\":\"y\",\"hovertemplate\":\"Variable 1: %{x}\\u003cbr\\u003eVariable 2: %{y}\\u003cbr\\u003eCorrelation: %{z}\\u003cextra\\u003e\\u003c\\u002fextra\\u003e\"}],                        {\"template\":{\"data\":{\"histogram2dcontour\":[{\"type\":\"histogram2dcontour\",\"colorbar\":{\"outlinewidth\":0,\"ticks\":\"\"},\"colorscale\":[[0.0,\"#0d0887\"],[0.1111111111111111,\"#46039f\"],[0.2222222222222222,\"#7201a8\"],[0.3333333333333333,\"#9c179e\"],[0.4444444444444444,\"#bd3786\"],[0.5555555555555556,\"#d8576b\"],[0.6666666666666666,\"#ed7953\"],[0.7777777777777778,\"#fb9f3a\"],[0.8888888888888888,\"#fdca26\"],[1.0,\"#f0f921\"]]}],\"choropleth\":[{\"type\":\"choropleth\",\"colorbar\":{\"outlinewidth\":0,\"ticks\":\"\"}}],\"histogram2d\":[{\"type\":\"histogram2d\",\"colorbar\":{\"outlinewidth\":0,\"ticks\":\"\"},\"colorscale\":[[0.0,\"#0d0887\"],[0.1111111111111111,\"#46039f\"],[0.2222222222222222,\"#7201a8\"],[0.3333333333333333,\"#9c179e\"],[0.4444444444444444,\"#bd3786\"],[0.5555555555555556,\"#d8576b\"],[0.6666666666666666,\"#ed7953\"],[0.7777777777777778,\"#fb9f3a\"],[0.8888888888888888,\"#fdca26\"],[1.0,\"#f0f921\"]]}],\"heatmap\":[{\"type\":\"heatmap\",\"colorbar\":{\"outlinewidth\":0,\"ticks\":\"\"},\"colorscale\":[[0.0,\"#0d0887\"],[0.1111111111111111,\"#46039f\"],[0.2222222222222222,\"#7201a8\"],[0.3333333333333333,\"#9c179e\"],[0.4444444444444444,\"#bd3786\"],[0.5555555555555556,\"#d8576b\"],[0.6666666666666666,\"#ed7953\"],[0.7777777777777778,\"#fb9f3a\"],[0.8888888888888888,\"#fdca26\"],[1.0,\"#f0f921\"]]}],\"heatmapgl\":[{\"type\":\"heatmapgl\",\"colorbar\":{\"outlinewidth\":0,\"ticks\":\"\"},\"colorscale\":[[0.0,\"#0d0887\"],[0.1111111111111111,\"#46039f\"],[0.2222222222222222,\"#7201a8\"],[0.3333333333333333,\"#9c179e\"],[0.4444444444444444,\"#bd3786\"],[0.5555555555555556,\"#d8576b\"],[0.6666666666666666,\"#ed7953\"],[0.7777777777777778,\"#fb9f3a\"],[0.8888888888888888,\"#fdca26\"],[1.0,\"#f0f921\"]]}],\"contourcarpet\":[{\"type\":\"contourcarpet\",\"colorbar\":{\"outlinewidth\":0,\"ticks\":\"\"}}],\"contour\":[{\"type\":\"contour\",\"colorbar\":{\"outlinewidth\":0,\"ticks\":\"\"},\"colorscale\":[[0.0,\"#0d0887\"],[0.1111111111111111,\"#46039f\"],[0.2222222222222222,\"#7201a8\"],[0.3333333333333333,\"#9c179e\"],[0.4444444444444444,\"#bd3786\"],[0.5555555555555556,\"#d8576b\"],[0.6666666666666666,\"#ed7953\"],[0.7777777777777778,\"#fb9f3a\"],[0.8888888888888888,\"#fdca26\"],[1.0,\"#f0f921\"]]}],\"surface\":[{\"type\":\"surface\",\"colorbar\":{\"outlinewidth\":0,\"ticks\":\"\"},\"colorscale\":[[0.0,\"#0d0887\"],[0.1111111111111111,\"#46039f\"],[0.2222222222222222,\"#7201a8\"],[0.3333333333333333,\"#9c179e\"],[0.4444444444444444,\"#bd3786\"],[0.5555555555555556,\"#d8576b\"],[0.6666666666666666,\"#ed7953\"],[0.7777777777777778,\"#fb9f3a\"],[0.8888888888888888,\"#fdca26\"],[1.0,\"#f0f921\"]]}],\"mesh3d\":[{\"type\":\"mesh3d\",\"colorbar\":{\"outlinewidth\":0,\"ticks\":\"\"}}],\"scatter\":[{\"fillpattern\":{\"fillmode\":\"overlay\",\"size\":10,\"solidity\":0.2},\"type\":\"scatter\"}],\"parcoords\":[{\"type\":\"parcoords\",\"line\":{\"colorbar\":{\"outlinewidth\":0,\"ticks\":\"\"}}}],\"scatterpolargl\":[{\"type\":\"scatterpolargl\",\"marker\":{\"colorbar\":{\"outlinewidth\":0,\"ticks\":\"\"}}}],\"bar\":[{\"error_x\":{\"color\":\"#2a3f5f\"},\"error_y\":{\"color\":\"#2a3f5f\"},\"marker\":{\"line\":{\"color\":\"#E5ECF6\",\"width\":0.5},\"pattern\":{\"fillmode\":\"overlay\",\"size\":10,\"solidity\":0.2}},\"type\":\"bar\"}],\"scattergeo\":[{\"type\":\"scattergeo\",\"marker\":{\"colorbar\":{\"outlinewidth\":0,\"ticks\":\"\"}}}],\"scatterpolar\":[{\"type\":\"scatterpolar\",\"marker\":{\"colorbar\":{\"outlinewidth\":0,\"ticks\":\"\"}}}],\"histogram\":[{\"marker\":{\"pattern\":{\"fillmode\":\"overlay\",\"size\":10,\"solidity\":0.2}},\"type\":\"histogram\"}],\"scattergl\":[{\"type\":\"scattergl\",\"marker\":{\"colorbar\":{\"outlinewidth\":0,\"ticks\":\"\"}}}],\"scatter3d\":[{\"type\":\"scatter3d\",\"line\":{\"colorbar\":{\"outlinewidth\":0,\"ticks\":\"\"}},\"marker\":{\"colorbar\":{\"outlinewidth\":0,\"ticks\":\"\"}}}],\"scattermapbox\":[{\"type\":\"scattermapbox\",\"marker\":{\"colorbar\":{\"outlinewidth\":0,\"ticks\":\"\"}}}],\"scatterternary\":[{\"type\":\"scatterternary\",\"marker\":{\"colorbar\":{\"outlinewidth\":0,\"ticks\":\"\"}}}],\"scattercarpet\":[{\"type\":\"scattercarpet\",\"marker\":{\"colorbar\":{\"outlinewidth\":0,\"ticks\":\"\"}}}],\"carpet\":[{\"aaxis\":{\"endlinecolor\":\"#2a3f5f\",\"gridcolor\":\"white\",\"linecolor\":\"white\",\"minorgridcolor\":\"white\",\"startlinecolor\":\"#2a3f5f\"},\"baxis\":{\"endlinecolor\":\"#2a3f5f\",\"gridcolor\":\"white\",\"linecolor\":\"white\",\"minorgridcolor\":\"white\",\"startlinecolor\":\"#2a3f5f\"},\"type\":\"carpet\"}],\"table\":[{\"cells\":{\"fill\":{\"color\":\"#EBF0F8\"},\"line\":{\"color\":\"white\"}},\"header\":{\"fill\":{\"color\":\"#C8D4E3\"},\"line\":{\"color\":\"white\"}},\"type\":\"table\"}],\"barpolar\":[{\"marker\":{\"line\":{\"color\":\"#E5ECF6\",\"width\":0.5},\"pattern\":{\"fillmode\":\"overlay\",\"size\":10,\"solidity\":0.2}},\"type\":\"barpolar\"}],\"pie\":[{\"automargin\":true,\"type\":\"pie\"}]},\"layout\":{\"autotypenumbers\":\"strict\",\"colorway\":[\"#636efa\",\"#EF553B\",\"#00cc96\",\"#ab63fa\",\"#FFA15A\",\"#19d3f3\",\"#FF6692\",\"#B6E880\",\"#FF97FF\",\"#FECB52\"],\"font\":{\"color\":\"#2a3f5f\"},\"hovermode\":\"closest\",\"hoverlabel\":{\"align\":\"left\"},\"paper_bgcolor\":\"white\",\"plot_bgcolor\":\"#E5ECF6\",\"polar\":{\"bgcolor\":\"#E5ECF6\",\"angularaxis\":{\"gridcolor\":\"white\",\"linecolor\":\"white\",\"ticks\":\"\"},\"radialaxis\":{\"gridcolor\":\"white\",\"linecolor\":\"white\",\"ticks\":\"\"}},\"ternary\":{\"bgcolor\":\"#E5ECF6\",\"aaxis\":{\"gridcolor\":\"white\",\"linecolor\":\"white\",\"ticks\":\"\"},\"baxis\":{\"gridcolor\":\"white\",\"linecolor\":\"white\",\"ticks\":\"\"},\"caxis\":{\"gridcolor\":\"white\",\"linecolor\":\"white\",\"ticks\":\"\"}},\"coloraxis\":{\"colorbar\":{\"outlinewidth\":0,\"ticks\":\"\"}},\"colorscale\":{\"sequential\":[[0.0,\"#0d0887\"],[0.1111111111111111,\"#46039f\"],[0.2222222222222222,\"#7201a8\"],[0.3333333333333333,\"#9c179e\"],[0.4444444444444444,\"#bd3786\"],[0.5555555555555556,\"#d8576b\"],[0.6666666666666666,\"#ed7953\"],[0.7777777777777778,\"#fb9f3a\"],[0.8888888888888888,\"#fdca26\"],[1.0,\"#f0f921\"]],\"sequentialminus\":[[0.0,\"#0d0887\"],[0.1111111111111111,\"#46039f\"],[0.2222222222222222,\"#7201a8\"],[0.3333333333333333,\"#9c179e\"],[0.4444444444444444,\"#bd3786\"],[0.5555555555555556,\"#d8576b\"],[0.6666666666666666,\"#ed7953\"],[0.7777777777777778,\"#fb9f3a\"],[0.8888888888888888,\"#fdca26\"],[1.0,\"#f0f921\"]],\"diverging\":[[0,\"#8e0152\"],[0.1,\"#c51b7d\"],[0.2,\"#de77ae\"],[0.3,\"#f1b6da\"],[0.4,\"#fde0ef\"],[0.5,\"#f7f7f7\"],[0.6,\"#e6f5d0\"],[0.7,\"#b8e186\"],[0.8,\"#7fbc41\"],[0.9,\"#4d9221\"],[1,\"#276419\"]]},\"xaxis\":{\"gridcolor\":\"white\",\"linecolor\":\"white\",\"ticks\":\"\",\"title\":{\"standoff\":15},\"zerolinecolor\":\"white\",\"automargin\":true,\"zerolinewidth\":2},\"yaxis\":{\"gridcolor\":\"white\",\"linecolor\":\"white\",\"ticks\":\"\",\"title\":{\"standoff\":15},\"zerolinecolor\":\"white\",\"automargin\":true,\"zerolinewidth\":2},\"scene\":{\"xaxis\":{\"backgroundcolor\":\"#E5ECF6\",\"gridcolor\":\"white\",\"linecolor\":\"white\",\"showbackground\":true,\"ticks\":\"\",\"zerolinecolor\":\"white\",\"gridwidth\":2},\"yaxis\":{\"backgroundcolor\":\"#E5ECF6\",\"gridcolor\":\"white\",\"linecolor\":\"white\",\"showbackground\":true,\"ticks\":\"\",\"zerolinecolor\":\"white\",\"gridwidth\":2},\"zaxis\":{\"backgroundcolor\":\"#E5ECF6\",\"gridcolor\":\"white\",\"linecolor\":\"white\",\"showbackground\":true,\"ticks\":\"\",\"zerolinecolor\":\"white\",\"gridwidth\":2}},\"shapedefaults\":{\"line\":{\"color\":\"#2a3f5f\"}},\"annotationdefaults\":{\"arrowcolor\":\"#2a3f5f\",\"arrowhead\":0,\"arrowwidth\":1},\"geo\":{\"bgcolor\":\"white\",\"landcolor\":\"#E5ECF6\",\"subunitcolor\":\"white\",\"showland\":true,\"showlakes\":true,\"lakecolor\":\"white\"},\"title\":{\"x\":0.05},\"mapbox\":{\"style\":\"light\"}}},\"xaxis\":{\"anchor\":\"y\",\"domain\":[0.0,1.0],\"scaleanchor\":\"y\",\"constrain\":\"domain\",\"title\":{\"text\":\"C\\u1ed9t\"}},\"yaxis\":{\"anchor\":\"x\",\"domain\":[0.0,1.0],\"autorange\":\"reversed\",\"constrain\":\"domain\",\"title\":{\"text\":\"C\\u1ed9t\"}},\"coloraxis\":{\"colorbar\":{\"title\":{\"text\":\"Correlation\"}},\"colorscale\":[[0.0,\"#440154\"],[0.1111111111111111,\"#482878\"],[0.2222222222222222,\"#3e4989\"],[0.3333333333333333,\"#31688e\"],[0.4444444444444444,\"#26828e\"],[0.5555555555555556,\"#1f9e89\"],[0.6666666666666666,\"#35b779\"],[0.7777777777777778,\"#6ece58\"],[0.8888888888888888,\"#b5de2b\"],[1.0,\"#fde725\"]]},\"margin\":{\"t\":60},\"title\":{\"text\":\"Heatmap - Ma tr\\u1eadn t\\u01b0\\u01a1ng quan\"},\"width\":800,\"height\":800},                        {\"responsive\": true}                    ).then(function(){\n",
       "                            \n",
       "var gd = document.getElementById('d4e26a0a-8acf-4c0c-b200-77f59aea7d59');\n",
       "var x = new MutationObserver(function (mutations, observer) {{\n",
       "        var display = window.getComputedStyle(gd).display;\n",
       "        if (!display || display === 'none') {{\n",
       "            console.log([gd, 'removed!']);\n",
       "            Plotly.purge(gd);\n",
       "            observer.disconnect();\n",
       "        }}\n",
       "}});\n",
       "\n",
       "// Listen for the removal of the full notebook cells\n",
       "var notebookContainer = gd.closest('#notebook-container');\n",
       "if (notebookContainer) {{\n",
       "    x.observe(notebookContainer, {childList: true});\n",
       "}}\n",
       "\n",
       "// Listen for the clearing of the current output cell\n",
       "var outputEl = gd.closest('.output');\n",
       "if (outputEl) {{\n",
       "    x.observe(outputEl, {childList: true});\n",
       "}}\n",
       "\n",
       "                        })                };                });            </script>        </div>"
      ]
     },
     "metadata": {},
     "output_type": "display_data"
    }
   ],
   "source": [
    "correlation_matrix = numeric_cols_df_processed.corr()\n",
    "fig = px.imshow(correlation_matrix, \n",
    "                labels=dict(x=\"Variable 1\", y=\"Variable 2\", color=\"Correlation\"),\n",
    "                x=correlation_matrix.columns,\n",
    "                y=correlation_matrix.index,\n",
    "                color_continuous_scale=\"Viridis\")  # Sử dụng bảng màu Viridis\n",
    "\n",
    "# Tùy chỉnh giao diện\n",
    "fig.update_layout(\n",
    "    title=\"Heatmap - Ma trận tương quan\",\n",
    "    xaxis_title=\"Cột\",\n",
    "    yaxis_title=\"Cột\",\n",
    "    width=800,\n",
    "    height=800\n",
    ")\n",
    "\n",
    "# Hiển thị biểu đồ\n",
    "fig.show()\n"
   ]
  },
  {
   "cell_type": "markdown",
   "id": "ead2771c-ae11-4154-ba86-4f534fdc54ad",
   "metadata": {},
   "source": [
    "**Nhận xét:**\n",
    "- **Tổng quan**: Các cột trong ma trận tương quan có mối quan hệ tương quan dương mạnh, phản ánh xu hướng khi giá của một sản phẩm hoặc dịch vụ tăng thì giá của các sản phẩm hoặc dịch vụ khác cũng có xu hướng tăng theo, hoặc ngược lại.\n",
    "\n",
    "- **Một số ngoại lệ**: Mặc dù có sự tương quan dương mạnh giữa nhiều cột, vẫn tồn tại một số mặt hàng và dịch vụ không có sự tương quan rõ ràng với các cột khác. Điều này có thể được giải thích bởi các yếu tố đặc thù của từng sản phẩm/dịch vụ:\n",
    "\n",
    "  - **Giá sữa (`x9`)**: Sữa thường có chính sách hỗ trợ giá tại nhiều quốc gia, do đó giá sữa ít chịu ảnh hưởng bởi biến động của các chi phí sinh hoạt khác.\n",
    "  \n",
    "  - **Giá xe hiệu Volkswagen (`x34`) và Toyota (`x35`)**: Giá của các loại xe này ít bị tác động bởi các yếu tố chi phí sinh hoạt thông thường, mà chủ yếu chịu ảnh hưởng từ các yếu tố riêng biệt như chi phí sản xuất, giá nhập khẩu và nhu cầu thị trường.\n",
    "  \n",
    "  - **Giá dịch vụ Internet (`x38`)**: Đây là dịch vụ chuyên biệt, chịu ảnh hưởng chủ yếu từ các yếu tố hạ tầng công nghệ và các nhà cung cấp dịch vụ, chứ không phụ thuộc nhiều vào các yếu tố chi phí sinh hoạt chung.\n",
    "  \n",
    "  - **Giá hàng thời trang cao cấp (`x45`) và giày Nike (`x46`)**: Giá của những mặt hàng này thường có mức độ ổn định và chỉ thay đổi theo chiến lược giá của các doanh nghiệp, không bị tác động mạnh bởi sự biến động của các yếu tố chi phí khác.\n",
    "  \n",
    "  - **Lãi suất thế chấp (`x55`)**: Khi lãi suất thế chấp cao, nhu cầu mua hàng của người tiêu dùng có xu hướng giảm, dẫn đến việc thị trường chuyển sang các sản phẩm có giá thành thấp hơn. Điều này giải thích sự thiếu tương quan hoặc thậm chí là tương quan âm giữa lãi suất thế chấp và các mặt hàng tiêu dùng khác.\n",
    "\n",
    "<!--\n",
    "```python\n",
    "plt.figure(figsize=(8, 8))\n",
    "correlation_matrix = numeric_cols_df_processed.corr()\n",
    "sns.heatmap(correlation_matrix, cmap=\"coolwarm\", linewidths=0.5)\n",
    "plt.show()\n",
    "```\n",
    "-->"
   ]
  },
  {
   "cell_type": "code",
   "execution_count": 17,
   "id": "f850623a-0a57-42ee-80f9-86e9082743c2",
   "metadata": {},
   "outputs": [
    {
     "data": {
      "image/png": "[encoded data removed]",
      "text/plain": [
       "<Figure size 800x600 with 1 Axes>"
      ]
     },
     "metadata": {},
     "output_type": "display_data"
    }
   ],
   "source": [
    "from sklearn.decomposition import PCA\n",
    "\n",
    "pca = PCA(n_components=2)  # Chuyển về 2 chiều\n",
    "pca_result = pca.fit_transform(numeric_cols_df_processed.fillna(0))\n",
    "\n",
    "plt.figure(figsize=(8, 6))\n",
    "plt.scatter(pca_result[:, 0], pca_result[:, 1],  alpha=0.6, edgecolors='w', s=100)\n",
    "plt.xlabel('Principal Component 1')\n",
    "plt.ylabel('Principal Component 2')\n",
    "plt.title('PCA of Dataset')\n",
    "\n",
    "\n",
    "# Thêm lưới cho dễ nhìn\n",
    "plt.grid(True, linestyle='--', alpha=0.7)\n",
    "\n",
    "# Thêm những nét vẽ kiểu dáng đẹp với Seaborn\n",
    "sns.set(style=\"whitegrid\")\n",
    "\n",
    "plt.show()"
   ]
  },
  {
   "cell_type": "markdown",
   "id": "99f85d7f-d07a-469f-b9ff-c16c0e31b235",
   "metadata": {},
   "source": [
    "**Nhận xét:** Chưa có"
   ]
  },
  {
   "cell_type": "markdown",
   "id": "1a7b6ab0-8bbd-4c1c-aed8-6ede24db563d",
   "metadata": {},
   "source": [
    "# <strong>C. Phân tích dữ liệu và đưa ra, trả lời các câu hỏi để giải quyết vấn đề</strong>"
   ]
  },
  {
   "cell_type": "markdown",
   "id": "230810a9-9e3e-45ab-a202-62650fff743e",
   "metadata": {},
   "source": [
    "## <strong>Câu hỏi 1:</strong>"
   ]
  },
  {
   "cell_type": "markdown",
   "id": "e8529a81-25b4-44ab-9390-babc62edaa11",
   "metadata": {},
   "source": [
    "#### Giá trị có thể đạt được:"
   ]
  },
  {
   "cell_type": "markdown",
   "id": "29d8c7d1-a797-48bf-a8f6-b661260213a5",
   "metadata": {},
   "source": [
    "#### Ý tưởng thực hiện:"
   ]
  },
  {
   "cell_type": "code",
   "execution_count": null,
   "id": "2f3ce276-949b-4454-a0e5-6089e0e7afc8",
   "metadata": {},
   "outputs": [],
   "source": []
  },
  {
   "cell_type": "code",
   "execution_count": null,
   "id": "dd41b67c-6b1c-43fb-94c5-951de154ef9f",
   "metadata": {},
   "outputs": [],
   "source": []
  },
  {
   "cell_type": "markdown",
   "id": "36691f53-6c55-4891-9767-dc5d64daa493",
   "metadata": {
    "jp-MarkdownHeadingCollapsed": true
   },
   "source": [
    "# <strong>D. Đánh giá quá trình làm việc, định hướng phát triển - Danh mục Tài liệu tham khảo</strong>"
   ]
  },
  {
   "cell_type": "markdown",
   "id": "f4722cb1-006c-4a36-9660-96344895a07b",
   "metadata": {},
   "source": []
  }
 ],
 "metadata": {
  "kernelspec": {
   "display_name": "Python 3 (ipykernel)",
   "language": "python",
   "name": "python3"
  },
  "language_info": {
   "codemirror_mode": {
    "name": "ipython",
    "version": 3
   },
   "file_extension": ".py",
   "mimetype": "text/x-python",
   "name": "python",
   "nbconvert_exporter": "python",
   "pygments_lexer": "ipython3",
   "version": "3.9.20"
  }
 },
 "nbformat": 4,
 "nbformat_minor": 5
}
